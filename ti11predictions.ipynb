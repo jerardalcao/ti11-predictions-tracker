{
 "cells": [
  {
   "cell_type": "code",
   "execution_count": 57,
   "metadata": {},
   "outputs": [],
   "source": [
    "import pandas as pd\n",
    "import warnings\n",
    "warnings.filterwarnings(\"ignore\")"
   ]
  },
  {
   "cell_type": "code",
   "execution_count": 58,
   "metadata": {},
   "outputs": [
    {
     "data": {
      "text/plain": [
       "191"
      ]
     },
     "execution_count": 58,
     "metadata": {},
     "output_type": "execute_result"
    }
   ],
   "source": [
    "#load all ti matches\n",
    "matches_df = pd.read_json('all_matches.json')\n",
    "matches_df['match_id'].count()\n",
    "\n"
   ]
  },
  {
   "cell_type": "code",
   "execution_count": 59,
   "metadata": {},
   "outputs": [],
   "source": [
    "# determine winner based on match_id\n",
    "def get_winner(matchid):\n",
    "    match_data = matches_df[matches_df['match_id']==matchid]\n",
    "    radiant_win = match_data['radiant_win'].to_string(index=False)\n",
    "    winner = 1\n",
    "    if radiant_win == 'True':\n",
    "        winner = 0\n",
    "    return winner\n",
    "\n"
   ]
  },
  {
   "cell_type": "code",
   "execution_count": 60,
   "metadata": {},
   "outputs": [
    {
     "data": {
      "text/html": [
       "<div>\n",
       "<style scoped>\n",
       "    .dataframe tbody tr th:only-of-type {\n",
       "        vertical-align: middle;\n",
       "    }\n",
       "\n",
       "    .dataframe tbody tr th {\n",
       "        vertical-align: top;\n",
       "    }\n",
       "\n",
       "    .dataframe thead th {\n",
       "        text-align: right;\n",
       "    }\n",
       "</style>\n",
       "<table border=\"1\" class=\"dataframe\">\n",
       "  <thead>\n",
       "    <tr style=\"text-align: right;\">\n",
       "      <th></th>\n",
       "      <th>id</th>\n",
       "      <th>hero_name</th>\n",
       "      <th>url_name</th>\n",
       "    </tr>\n",
       "  </thead>\n",
       "  <tbody>\n",
       "    <tr>\n",
       "      <th>0</th>\n",
       "      <td>1</td>\n",
       "      <td>Anti-Mage</td>\n",
       "      <td>npc_dota_hero_antimage</td>\n",
       "    </tr>\n",
       "    <tr>\n",
       "      <th>1</th>\n",
       "      <td>2</td>\n",
       "      <td>Axe</td>\n",
       "      <td>npc_dota_hero_axe</td>\n",
       "    </tr>\n",
       "    <tr>\n",
       "      <th>2</th>\n",
       "      <td>3</td>\n",
       "      <td>Bane</td>\n",
       "      <td>npc_dota_hero_bane</td>\n",
       "    </tr>\n",
       "    <tr>\n",
       "      <th>3</th>\n",
       "      <td>4</td>\n",
       "      <td>Bloodseeker</td>\n",
       "      <td>npc_dota_hero_bloodseeker</td>\n",
       "    </tr>\n",
       "    <tr>\n",
       "      <th>4</th>\n",
       "      <td>5</td>\n",
       "      <td>Crystal Maiden</td>\n",
       "      <td>npc_dota_hero_crystal_maiden</td>\n",
       "    </tr>\n",
       "  </tbody>\n",
       "</table>\n",
       "</div>"
      ],
      "text/plain": [
       "   id       hero_name                      url_name\n",
       "0   1       Anti-Mage        npc_dota_hero_antimage\n",
       "1   2             Axe             npc_dota_hero_axe\n",
       "2   3            Bane            npc_dota_hero_bane\n",
       "3   4     Bloodseeker     npc_dota_hero_bloodseeker\n",
       "4   5  Crystal Maiden  npc_dota_hero_crystal_maiden"
      ]
     },
     "execution_count": 60,
     "metadata": {},
     "output_type": "execute_result"
    }
   ],
   "source": [
    "#define heroes df\n",
    "heroes_df = pd.read_json('working/heroes.json')\n",
    "heroes_df = heroes_df[['id','localized_name','name']]\n",
    "heroes_df.rename(columns={\"localized_name\":\"hero_name\",\"name\":\"url_name\"},inplace=True)\n",
    "heroes_df.head()\n"
   ]
  },
  {
   "cell_type": "code",
   "execution_count": 61,
   "metadata": {},
   "outputs": [
    {
     "data": {
      "text/html": [
       "<div>\n",
       "<style scoped>\n",
       "    .dataframe tbody tr th:only-of-type {\n",
       "        vertical-align: middle;\n",
       "    }\n",
       "\n",
       "    .dataframe tbody tr th {\n",
       "        vertical-align: top;\n",
       "    }\n",
       "\n",
       "    .dataframe thead th {\n",
       "        text-align: right;\n",
       "    }\n",
       "</style>\n",
       "<table border=\"1\" class=\"dataframe\">\n",
       "  <thead>\n",
       "    <tr style=\"text-align: right;\">\n",
       "      <th></th>\n",
       "      <th>account_id</th>\n",
       "      <th>personaname</th>\n",
       "      <th>name</th>\n",
       "      <th>team_id</th>\n",
       "      <th>team_name</th>\n",
       "      <th>team_tag</th>\n",
       "    </tr>\n",
       "  </thead>\n",
       "  <tbody>\n",
       "    <tr>\n",
       "      <th>17</th>\n",
       "      <td>10366616</td>\n",
       "      <td>Sneyking</td>\n",
       "      <td>Sneyking</td>\n",
       "      <td>8291895</td>\n",
       "      <td>Tundra Esports</td>\n",
       "      <td>Tundra</td>\n",
       "    </tr>\n",
       "    <tr>\n",
       "      <th>30</th>\n",
       "      <td>16497807</td>\n",
       "      <td>tOfu</td>\n",
       "      <td>tOfu</td>\n",
       "      <td>8599101</td>\n",
       "      <td>Gaimin Gladiators</td>\n",
       "      <td>GG</td>\n",
       "    </tr>\n",
       "    <tr>\n",
       "      <th>52</th>\n",
       "      <td>25907144</td>\n",
       "      <td>Let's Go</td>\n",
       "      <td>Cr1t-</td>\n",
       "      <td>39</td>\n",
       "      <td>Evil Geniuses</td>\n",
       "      <td>EG</td>\n",
       "    </tr>\n",
       "    <tr>\n",
       "      <th>83</th>\n",
       "      <td>38628747</td>\n",
       "      <td>Verissimus</td>\n",
       "      <td>MoonMeander</td>\n",
       "      <td>8260983</td>\n",
       "      <td>TSM FTX</td>\n",
       "      <td>TSM FTX</td>\n",
       "    </tr>\n",
       "    <tr>\n",
       "      <th>91</th>\n",
       "      <td>40547474</td>\n",
       "      <td>Aui_2000</td>\n",
       "      <td>Aui_2000</td>\n",
       "      <td>8291895</td>\n",
       "      <td>Tundra Esports</td>\n",
       "      <td>Tundra</td>\n",
       "    </tr>\n",
       "  </tbody>\n",
       "</table>\n",
       "</div>"
      ],
      "text/plain": [
       "    account_id personaname         name  team_id          team_name team_tag\n",
       "17    10366616    Sneyking     Sneyking  8291895     Tundra Esports   Tundra\n",
       "30    16497807        tOfu         tOfu  8599101  Gaimin Gladiators       GG\n",
       "52    25907144    Let's Go        Cr1t-       39      Evil Geniuses       EG\n",
       "83    38628747  Verissimus  MoonMeander  8260983            TSM FTX  TSM FTX\n",
       "91    40547474    Aui_2000     Aui_2000  8291895    Tundra Esports    Tundra"
      ]
     },
     "execution_count": 61,
     "metadata": {},
     "output_type": "execute_result"
    }
   ],
   "source": [
    "# define players df\n",
    "ti_teams_df= pd.read_json('working/teams.json')\n",
    "ti_teams = list(ti_teams_df['team_id'])\n",
    "players_df = pd.read_json('working/proPlayers.json')\n",
    "players_df = players_df[['account_id','personaname','name','team_id','team_name','team_tag']]\n",
    "players_df = players_df[players_df['team_id'].isin(ti_teams)]\n",
    "players_df.head()"
   ]
  },
  {
   "cell_type": "code",
   "execution_count": 62,
   "metadata": {},
   "outputs": [],
   "source": [
    "#create pickbans df\n",
    "picks_bans = matches_df.set_index('match_id').to_dict()['picks_bans']\n",
    "picks = []\n",
    "bans = []\n",
    "for i in picks_bans:\n",
    "    winner = get_winner(i)\n",
    "    for j in picks_bans[i]:\n",
    "        if j['is_pick']:\n",
    "            pick = {}\n",
    "            pick['match_id'] = i\n",
    "            pick['order'] = j['order']\n",
    "            pick['hero_id'] = j['hero_id']\n",
    "            pick['team'] = j['team']\n",
    "            if winner == j['team']:\n",
    "                pick['win'] = 1\n",
    "            else:\n",
    "                pick['win'] = 0\n",
    "            picks.append(pick)\n",
    "        elif not j['is_pick']:\n",
    "            ban = {}\n",
    "            ban['match_id'] = i\n",
    "            ban['order'] = j['order']\n",
    "            ban['hero_id'] = j['hero_id']\n",
    "            ban['team'] = j['team']\n",
    "            bans.append(ban)"
   ]
  },
  {
   "cell_type": "code",
   "execution_count": 63,
   "metadata": {},
   "outputs": [
    {
     "data": {
      "text/html": [
       "<div>\n",
       "<style scoped>\n",
       "    .dataframe tbody tr th:only-of-type {\n",
       "        vertical-align: middle;\n",
       "    }\n",
       "\n",
       "    .dataframe tbody tr th {\n",
       "        vertical-align: top;\n",
       "    }\n",
       "\n",
       "    .dataframe thead th {\n",
       "        text-align: right;\n",
       "    }\n",
       "</style>\n",
       "<table border=\"1\" class=\"dataframe\">\n",
       "  <thead>\n",
       "    <tr style=\"text-align: right;\">\n",
       "      <th></th>\n",
       "      <th>id</th>\n",
       "      <th>hero_name</th>\n",
       "      <th>url_name</th>\n",
       "      <th>pick_count</th>\n",
       "      <th>wins</th>\n",
       "      <th>winrate</th>\n",
       "      <th>ban_count</th>\n",
       "    </tr>\n",
       "  </thead>\n",
       "  <tbody>\n",
       "    <tr>\n",
       "      <th>0</th>\n",
       "      <td>1</td>\n",
       "      <td>Anti-Mage</td>\n",
       "      <td>npc_dota_hero_antimage</td>\n",
       "      <td>2.0</td>\n",
       "      <td>1.0</td>\n",
       "      <td>50.00</td>\n",
       "      <td>1.0</td>\n",
       "    </tr>\n",
       "    <tr>\n",
       "      <th>1</th>\n",
       "      <td>2</td>\n",
       "      <td>Axe</td>\n",
       "      <td>npc_dota_hero_axe</td>\n",
       "      <td>4.0</td>\n",
       "      <td>1.0</td>\n",
       "      <td>25.00</td>\n",
       "      <td>2.0</td>\n",
       "    </tr>\n",
       "    <tr>\n",
       "      <th>2</th>\n",
       "      <td>3</td>\n",
       "      <td>Bane</td>\n",
       "      <td>npc_dota_hero_bane</td>\n",
       "      <td>8.0</td>\n",
       "      <td>4.0</td>\n",
       "      <td>50.00</td>\n",
       "      <td>3.0</td>\n",
       "    </tr>\n",
       "    <tr>\n",
       "      <th>3</th>\n",
       "      <td>4</td>\n",
       "      <td>Bloodseeker</td>\n",
       "      <td>npc_dota_hero_bloodseeker</td>\n",
       "      <td>9.0</td>\n",
       "      <td>4.0</td>\n",
       "      <td>44.44</td>\n",
       "      <td>51.0</td>\n",
       "    </tr>\n",
       "    <tr>\n",
       "      <th>4</th>\n",
       "      <td>5</td>\n",
       "      <td>Crystal Maiden</td>\n",
       "      <td>npc_dota_hero_crystal_maiden</td>\n",
       "      <td>46.0</td>\n",
       "      <td>31.0</td>\n",
       "      <td>67.39</td>\n",
       "      <td>11.0</td>\n",
       "    </tr>\n",
       "  </tbody>\n",
       "</table>\n",
       "</div>"
      ],
      "text/plain": [
       "   id       hero_name                      url_name  pick_count  wins  \\\n",
       "0   1       Anti-Mage        npc_dota_hero_antimage         2.0   1.0   \n",
       "1   2             Axe             npc_dota_hero_axe         4.0   1.0   \n",
       "2   3            Bane            npc_dota_hero_bane         8.0   4.0   \n",
       "3   4     Bloodseeker     npc_dota_hero_bloodseeker         9.0   4.0   \n",
       "4   5  Crystal Maiden  npc_dota_hero_crystal_maiden        46.0  31.0   \n",
       "\n",
       "   winrate  ban_count  \n",
       "0    50.00        1.0  \n",
       "1    25.00        2.0  \n",
       "2    50.00        3.0  \n",
       "3    44.44       51.0  \n",
       "4    67.39       11.0  "
      ]
     },
     "execution_count": 63,
     "metadata": {},
     "output_type": "execute_result"
    }
   ],
   "source": [
    "picks_df = pd.DataFrame(picks)\n",
    "heroes_df['pick_count'] = heroes_df['id'].map(picks_df['hero_id'].value_counts())\n",
    "wins = picks_df[['hero_id','win']].groupby(['hero_id']).sum()\n",
    "wins = wins.to_dict()\n",
    "heroes_df['wins'] = heroes_df['id'].map(wins['win'])\n",
    "heroes_df['winrate'] = round(heroes_df['wins'] / heroes_df['pick_count'] * 100,2)\n",
    "\n",
    "bans_df = pd.DataFrame(bans)\n",
    "heroes_df['ban_count'] = heroes_df['id'].map(bans_df['hero_id'].value_counts())\n",
    "\n",
    "\n",
    "heroes_df.head()"
   ]
  },
  {
   "cell_type": "code",
   "execution_count": 64,
   "metadata": {},
   "outputs": [
    {
     "data": {
      "text/html": [
       "<div>\n",
       "<style scoped>\n",
       "    .dataframe tbody tr th:only-of-type {\n",
       "        vertical-align: middle;\n",
       "    }\n",
       "\n",
       "    .dataframe tbody tr th {\n",
       "        vertical-align: top;\n",
       "    }\n",
       "\n",
       "    .dataframe thead th {\n",
       "        text-align: right;\n",
       "    }\n",
       "</style>\n",
       "<table border=\"1\" class=\"dataframe\">\n",
       "  <thead>\n",
       "    <tr style=\"text-align: right;\">\n",
       "      <th></th>\n",
       "      <th>match_id</th>\n",
       "      <th>account_id</th>\n",
       "      <th>hero_id</th>\n",
       "      <th>kills</th>\n",
       "      <th>deaths</th>\n",
       "      <th>assists</th>\n",
       "      <th>last_hits</th>\n",
       "      <th>xp_per_min</th>\n",
       "      <th>gold_per_min</th>\n",
       "      <th>team_id</th>\n",
       "    </tr>\n",
       "  </thead>\n",
       "  <tbody>\n",
       "    <tr>\n",
       "      <th>0</th>\n",
       "      <td>6806663153</td>\n",
       "      <td>86799300</td>\n",
       "      <td>102</td>\n",
       "      <td>0</td>\n",
       "      <td>4</td>\n",
       "      <td>7</td>\n",
       "      <td>51</td>\n",
       "      <td>361</td>\n",
       "      <td>222</td>\n",
       "      <td>7390454</td>\n",
       "    </tr>\n",
       "    <tr>\n",
       "      <th>1</th>\n",
       "      <td>6806663153</td>\n",
       "      <td>221666230</td>\n",
       "      <td>52</td>\n",
       "      <td>6</td>\n",
       "      <td>4</td>\n",
       "      <td>5</td>\n",
       "      <td>300</td>\n",
       "      <td>578</td>\n",
       "      <td>526</td>\n",
       "      <td>7390454</td>\n",
       "    </tr>\n",
       "    <tr>\n",
       "      <th>2</th>\n",
       "      <td>6806663153</td>\n",
       "      <td>87063175</td>\n",
       "      <td>137</td>\n",
       "      <td>6</td>\n",
       "      <td>4</td>\n",
       "      <td>6</td>\n",
       "      <td>178</td>\n",
       "      <td>462</td>\n",
       "      <td>378</td>\n",
       "      <td>7390454</td>\n",
       "    </tr>\n",
       "    <tr>\n",
       "      <th>3</th>\n",
       "      <td>6806663153</td>\n",
       "      <td>108452107</td>\n",
       "      <td>10</td>\n",
       "      <td>2</td>\n",
       "      <td>0</td>\n",
       "      <td>1</td>\n",
       "      <td>331</td>\n",
       "      <td>647</td>\n",
       "      <td>535</td>\n",
       "      <td>7390454</td>\n",
       "    </tr>\n",
       "    <tr>\n",
       "      <th>4</th>\n",
       "      <td>6806663153</td>\n",
       "      <td>86726887</td>\n",
       "      <td>128</td>\n",
       "      <td>2</td>\n",
       "      <td>6</td>\n",
       "      <td>10</td>\n",
       "      <td>42</td>\n",
       "      <td>301</td>\n",
       "      <td>187</td>\n",
       "      <td>7390454</td>\n",
       "    </tr>\n",
       "  </tbody>\n",
       "</table>\n",
       "</div>"
      ],
      "text/plain": [
       "     match_id  account_id  hero_id  kills  deaths  assists  last_hits  \\\n",
       "0  6806663153    86799300      102      0       4        7         51   \n",
       "1  6806663153   221666230       52      6       4        5        300   \n",
       "2  6806663153    87063175      137      6       4        6        178   \n",
       "3  6806663153   108452107       10      2       0        1        331   \n",
       "4  6806663153    86726887      128      2       6       10         42   \n",
       "\n",
       "   xp_per_min  gold_per_min  team_id  \n",
       "0         361           222  7390454  \n",
       "1         578           526  7390454  \n",
       "2         462           378  7390454  \n",
       "3         647           535  7390454  \n",
       "4         301           187  7390454  "
      ]
     },
     "execution_count": 64,
     "metadata": {},
     "output_type": "execute_result"
    }
   ],
   "source": [
    "#create hero stats\n",
    "players = matches_df.set_index('match_id').to_dict()['players']\n",
    "hero_stats = []\n",
    "for i in players:\n",
    "    for j in players[i]:\n",
    "        hero_stat = {}\n",
    "        hero_stat['match_id'] = j['match_id']\n",
    "        hero_stat['account_id'] = j['account_id']\n",
    "        hero_stat['hero_id'] = j['hero_id']\n",
    "        hero_stat['kills'] = j['kills']\n",
    "        hero_stat['deaths'] = j['deaths']\n",
    "        hero_stat['assists'] = j['assists']\n",
    "        hero_stat['last_hits'] = j['last_hits']\n",
    "        hero_stat['xp_per_min'] = j['xp_per_min']\n",
    "        hero_stat['gold_per_min'] = j['gold_per_min']\n",
    "        hero_stats.append(hero_stat)\n",
    "hero_stats_df = pd.DataFrame(hero_stats)\n",
    "players_teams = players_df.set_index('account_id').to_dict()['team_id']\n",
    "hero_stats_df['team_id'] = hero_stats_df['account_id'].map(players_teams) \n",
    "\n",
    "hero_stats_df.head()"
   ]
  },
  {
   "cell_type": "code",
   "execution_count": 65,
   "metadata": {},
   "outputs": [
    {
     "data": {
      "text/html": [
       "<div>\n",
       "<style scoped>\n",
       "    .dataframe tbody tr th:only-of-type {\n",
       "        vertical-align: middle;\n",
       "    }\n",
       "\n",
       "    .dataframe tbody tr th {\n",
       "        vertical-align: top;\n",
       "    }\n",
       "\n",
       "    .dataframe thead th {\n",
       "        text-align: right;\n",
       "    }\n",
       "</style>\n",
       "<table border=\"1\" class=\"dataframe\">\n",
       "  <thead>\n",
       "    <tr style=\"text-align: right;\">\n",
       "      <th></th>\n",
       "      <th>id</th>\n",
       "      <th>hero_name</th>\n",
       "      <th>url_name</th>\n",
       "      <th>pick_count</th>\n",
       "      <th>wins</th>\n",
       "      <th>winrate</th>\n",
       "      <th>ban_count</th>\n",
       "      <th>avg_kills</th>\n",
       "      <th>max_kills</th>\n",
       "      <th>avg_deaths</th>\n",
       "      <th>min_deaths</th>\n",
       "      <th>avg_assists</th>\n",
       "      <th>max_assists</th>\n",
       "      <th>avg_last_hits</th>\n",
       "      <th>max_last_hits</th>\n",
       "      <th>avg_xp_per_min</th>\n",
       "      <th>avg_gold_per_min</th>\n",
       "    </tr>\n",
       "  </thead>\n",
       "  <tbody>\n",
       "    <tr>\n",
       "      <th>0</th>\n",
       "      <td>1</td>\n",
       "      <td>Anti-Mage</td>\n",
       "      <td>npc_dota_hero_antimage</td>\n",
       "      <td>2.0</td>\n",
       "      <td>1.0</td>\n",
       "      <td>50.00</td>\n",
       "      <td>1.0</td>\n",
       "      <td>5.500000</td>\n",
       "      <td>7.0</td>\n",
       "      <td>5.000000</td>\n",
       "      <td>4.0</td>\n",
       "      <td>9.000000</td>\n",
       "      <td>13.0</td>\n",
       "      <td>496.500000</td>\n",
       "      <td>522.0</td>\n",
       "      <td>853.500000</td>\n",
       "      <td>694.500000</td>\n",
       "    </tr>\n",
       "    <tr>\n",
       "      <th>1</th>\n",
       "      <td>2</td>\n",
       "      <td>Axe</td>\n",
       "      <td>npc_dota_hero_axe</td>\n",
       "      <td>4.0</td>\n",
       "      <td>1.0</td>\n",
       "      <td>25.00</td>\n",
       "      <td>2.0</td>\n",
       "      <td>4.500000</td>\n",
       "      <td>8.0</td>\n",
       "      <td>4.250000</td>\n",
       "      <td>0.0</td>\n",
       "      <td>4.500000</td>\n",
       "      <td>10.0</td>\n",
       "      <td>203.250000</td>\n",
       "      <td>236.0</td>\n",
       "      <td>544.000000</td>\n",
       "      <td>440.500000</td>\n",
       "    </tr>\n",
       "    <tr>\n",
       "      <th>2</th>\n",
       "      <td>3</td>\n",
       "      <td>Bane</td>\n",
       "      <td>npc_dota_hero_bane</td>\n",
       "      <td>8.0</td>\n",
       "      <td>4.0</td>\n",
       "      <td>50.00</td>\n",
       "      <td>3.0</td>\n",
       "      <td>1.000000</td>\n",
       "      <td>4.0</td>\n",
       "      <td>5.125000</td>\n",
       "      <td>2.0</td>\n",
       "      <td>12.625000</td>\n",
       "      <td>20.0</td>\n",
       "      <td>45.625000</td>\n",
       "      <td>146.0</td>\n",
       "      <td>395.375000</td>\n",
       "      <td>264.125000</td>\n",
       "    </tr>\n",
       "    <tr>\n",
       "      <th>3</th>\n",
       "      <td>4</td>\n",
       "      <td>Bloodseeker</td>\n",
       "      <td>npc_dota_hero_bloodseeker</td>\n",
       "      <td>9.0</td>\n",
       "      <td>4.0</td>\n",
       "      <td>44.44</td>\n",
       "      <td>51.0</td>\n",
       "      <td>11.888889</td>\n",
       "      <td>25.0</td>\n",
       "      <td>2.888889</td>\n",
       "      <td>0.0</td>\n",
       "      <td>9.222222</td>\n",
       "      <td>13.0</td>\n",
       "      <td>371.000000</td>\n",
       "      <td>573.0</td>\n",
       "      <td>705.000000</td>\n",
       "      <td>615.000000</td>\n",
       "    </tr>\n",
       "    <tr>\n",
       "      <th>4</th>\n",
       "      <td>5</td>\n",
       "      <td>Crystal Maiden</td>\n",
       "      <td>npc_dota_hero_crystal_maiden</td>\n",
       "      <td>46.0</td>\n",
       "      <td>31.0</td>\n",
       "      <td>67.39</td>\n",
       "      <td>11.0</td>\n",
       "      <td>2.500000</td>\n",
       "      <td>5.0</td>\n",
       "      <td>5.847826</td>\n",
       "      <td>1.0</td>\n",
       "      <td>14.782609</td>\n",
       "      <td>28.0</td>\n",
       "      <td>64.456522</td>\n",
       "      <td>146.0</td>\n",
       "      <td>422.086957</td>\n",
       "      <td>296.695652</td>\n",
       "    </tr>\n",
       "  </tbody>\n",
       "</table>\n",
       "</div>"
      ],
      "text/plain": [
       "   id       hero_name                      url_name  pick_count  wins  \\\n",
       "0   1       Anti-Mage        npc_dota_hero_antimage         2.0   1.0   \n",
       "1   2             Axe             npc_dota_hero_axe         4.0   1.0   \n",
       "2   3            Bane            npc_dota_hero_bane         8.0   4.0   \n",
       "3   4     Bloodseeker     npc_dota_hero_bloodseeker         9.0   4.0   \n",
       "4   5  Crystal Maiden  npc_dota_hero_crystal_maiden        46.0  31.0   \n",
       "\n",
       "   winrate  ban_count  avg_kills  max_kills  avg_deaths  min_deaths  \\\n",
       "0    50.00        1.0   5.500000        7.0    5.000000         4.0   \n",
       "1    25.00        2.0   4.500000        8.0    4.250000         0.0   \n",
       "2    50.00        3.0   1.000000        4.0    5.125000         2.0   \n",
       "3    44.44       51.0  11.888889       25.0    2.888889         0.0   \n",
       "4    67.39       11.0   2.500000        5.0    5.847826         1.0   \n",
       "\n",
       "   avg_assists  max_assists  avg_last_hits  max_last_hits  avg_xp_per_min  \\\n",
       "0     9.000000         13.0     496.500000          522.0      853.500000   \n",
       "1     4.500000         10.0     203.250000          236.0      544.000000   \n",
       "2    12.625000         20.0      45.625000          146.0      395.375000   \n",
       "3     9.222222         13.0     371.000000          573.0      705.000000   \n",
       "4    14.782609         28.0      64.456522          146.0      422.086957   \n",
       "\n",
       "   avg_gold_per_min  \n",
       "0        694.500000  \n",
       "1        440.500000  \n",
       "2        264.125000  \n",
       "3        615.000000  \n",
       "4        296.695652  "
      ]
     },
     "execution_count": 65,
     "metadata": {},
     "output_type": "execute_result"
    }
   ],
   "source": [
    "hero_avg_stats = hero_stats_df.groupby('hero_id').mean()\n",
    "hero_max_stats = hero_stats_df.groupby('hero_id').max()\n",
    "hero_min_stats = hero_stats_df.groupby('hero_id').min()\n",
    "\n",
    "heroes_df['avg_kills'] = heroes_df['id'].map(hero_avg_stats['kills'])\n",
    "\n",
    "heroes_df['max_kills'] = heroes_df['id'].map(hero_max_stats['kills'])\n",
    "\n",
    "heroes_df['avg_deaths'] = heroes_df['id'].map(hero_avg_stats['deaths'])\n",
    "\n",
    "heroes_df['min_deaths'] = heroes_df['id'].map(hero_min_stats['deaths'])\n",
    "\n",
    "heroes_df['avg_assists'] = heroes_df['id'].map(hero_avg_stats['assists'])\n",
    "\n",
    "heroes_df['max_assists'] = heroes_df['id'].map(hero_max_stats['assists'])\n",
    "\n",
    "heroes_df['avg_last_hits'] = heroes_df['id'].map(hero_avg_stats['last_hits'])\n",
    "\n",
    "heroes_df['max_last_hits'] = heroes_df['id'].map(hero_max_stats['last_hits'])\n",
    "\n",
    "heroes_df['avg_xp_per_min'] = heroes_df['id'].map(hero_avg_stats['xp_per_min'])\n",
    "\n",
    "heroes_df['avg_gold_per_min'] = heroes_df['id'].map(hero_avg_stats['gold_per_min'])\n",
    "\n",
    "heroes_df.head()"
   ]
  },
  {
   "cell_type": "code",
   "execution_count": 66,
   "metadata": {},
   "outputs": [],
   "source": [
    "heroes_5_df = heroes_df[heroes_df['pick_count']>=5]"
   ]
  },
  {
   "cell_type": "code",
   "execution_count": 67,
   "metadata": {},
   "outputs": [
    {
     "data": {
      "text/html": [
       "<div>\n",
       "<style scoped>\n",
       "    .dataframe tbody tr th:only-of-type {\n",
       "        vertical-align: middle;\n",
       "    }\n",
       "\n",
       "    .dataframe tbody tr th {\n",
       "        vertical-align: top;\n",
       "    }\n",
       "\n",
       "    .dataframe thead th {\n",
       "        text-align: right;\n",
       "    }\n",
       "</style>\n",
       "<table border=\"1\" class=\"dataframe\">\n",
       "  <thead>\n",
       "    <tr style=\"text-align: right;\">\n",
       "      <th></th>\n",
       "      <th>account_id</th>\n",
       "      <th>personaname</th>\n",
       "      <th>name</th>\n",
       "      <th>team_id</th>\n",
       "      <th>team_name</th>\n",
       "      <th>team_tag</th>\n",
       "      <th>avg_kills</th>\n",
       "      <th>max_kills</th>\n",
       "      <th>avg_deaths</th>\n",
       "      <th>min_deaths</th>\n",
       "      <th>avg_assists</th>\n",
       "      <th>max_assists</th>\n",
       "      <th>avg_last_hits</th>\n",
       "      <th>max_last_hits</th>\n",
       "      <th>avg_xp_per_min</th>\n",
       "      <th>avg_gold_per_min</th>\n",
       "      <th>max_gold_per_min</th>\n",
       "      <th>unique_heroes</th>\n",
       "    </tr>\n",
       "  </thead>\n",
       "  <tbody>\n",
       "    <tr>\n",
       "      <th>17</th>\n",
       "      <td>10366616</td>\n",
       "      <td>Sneyking</td>\n",
       "      <td>Sneyking</td>\n",
       "      <td>8291895</td>\n",
       "      <td>Tundra Esports</td>\n",
       "      <td>Tundra</td>\n",
       "      <td>3.000000</td>\n",
       "      <td>6.0</td>\n",
       "      <td>5.611111</td>\n",
       "      <td>2.0</td>\n",
       "      <td>15.333333</td>\n",
       "      <td>29.0</td>\n",
       "      <td>76.777778</td>\n",
       "      <td>151.0</td>\n",
       "      <td>473.944444</td>\n",
       "      <td>322.888889</td>\n",
       "      <td>412.0</td>\n",
       "      <td>8.0</td>\n",
       "    </tr>\n",
       "    <tr>\n",
       "      <th>30</th>\n",
       "      <td>16497807</td>\n",
       "      <td>tOfu</td>\n",
       "      <td>tOfu</td>\n",
       "      <td>8599101</td>\n",
       "      <td>Gaimin Gladiators</td>\n",
       "      <td>GG</td>\n",
       "      <td>2.842105</td>\n",
       "      <td>7.0</td>\n",
       "      <td>5.578947</td>\n",
       "      <td>1.0</td>\n",
       "      <td>13.842105</td>\n",
       "      <td>38.0</td>\n",
       "      <td>84.526316</td>\n",
       "      <td>156.0</td>\n",
       "      <td>438.000000</td>\n",
       "      <td>311.052632</td>\n",
       "      <td>395.0</td>\n",
       "      <td>9.0</td>\n",
       "    </tr>\n",
       "    <tr>\n",
       "      <th>52</th>\n",
       "      <td>25907144</td>\n",
       "      <td>Let's Go</td>\n",
       "      <td>Cr1t-</td>\n",
       "      <td>39</td>\n",
       "      <td>Evil Geniuses</td>\n",
       "      <td>EG</td>\n",
       "      <td>3.750000</td>\n",
       "      <td>12.0</td>\n",
       "      <td>5.550000</td>\n",
       "      <td>0.0</td>\n",
       "      <td>14.250000</td>\n",
       "      <td>23.0</td>\n",
       "      <td>51.200000</td>\n",
       "      <td>126.0</td>\n",
       "      <td>441.650000</td>\n",
       "      <td>293.000000</td>\n",
       "      <td>376.0</td>\n",
       "      <td>10.0</td>\n",
       "    </tr>\n",
       "    <tr>\n",
       "      <th>83</th>\n",
       "      <td>38628747</td>\n",
       "      <td>Verissimus</td>\n",
       "      <td>MoonMeander</td>\n",
       "      <td>8260983</td>\n",
       "      <td>TSM FTX</td>\n",
       "      <td>TSM FTX</td>\n",
       "      <td>3.388889</td>\n",
       "      <td>15.0</td>\n",
       "      <td>6.888889</td>\n",
       "      <td>2.0</td>\n",
       "      <td>10.611111</td>\n",
       "      <td>23.0</td>\n",
       "      <td>77.166667</td>\n",
       "      <td>202.0</td>\n",
       "      <td>424.944444</td>\n",
       "      <td>283.888889</td>\n",
       "      <td>423.0</td>\n",
       "      <td>11.0</td>\n",
       "    </tr>\n",
       "    <tr>\n",
       "      <th>91</th>\n",
       "      <td>40547474</td>\n",
       "      <td>Aui_2000</td>\n",
       "      <td>Aui_2000</td>\n",
       "      <td>8291895</td>\n",
       "      <td>Tundra Esports</td>\n",
       "      <td>Tundra</td>\n",
       "      <td>NaN</td>\n",
       "      <td>NaN</td>\n",
       "      <td>NaN</td>\n",
       "      <td>NaN</td>\n",
       "      <td>NaN</td>\n",
       "      <td>NaN</td>\n",
       "      <td>NaN</td>\n",
       "      <td>NaN</td>\n",
       "      <td>NaN</td>\n",
       "      <td>NaN</td>\n",
       "      <td>NaN</td>\n",
       "      <td>NaN</td>\n",
       "    </tr>\n",
       "  </tbody>\n",
       "</table>\n",
       "</div>"
      ],
      "text/plain": [
       "    account_id personaname         name  team_id          team_name team_tag  \\\n",
       "17    10366616    Sneyking     Sneyking  8291895     Tundra Esports   Tundra   \n",
       "30    16497807        tOfu         tOfu  8599101  Gaimin Gladiators       GG   \n",
       "52    25907144    Let's Go        Cr1t-       39      Evil Geniuses       EG   \n",
       "83    38628747  Verissimus  MoonMeander  8260983            TSM FTX  TSM FTX   \n",
       "91    40547474    Aui_2000     Aui_2000  8291895    Tundra Esports    Tundra   \n",
       "\n",
       "    avg_kills  max_kills  avg_deaths  min_deaths  avg_assists  max_assists  \\\n",
       "17   3.000000        6.0    5.611111         2.0    15.333333         29.0   \n",
       "30   2.842105        7.0    5.578947         1.0    13.842105         38.0   \n",
       "52   3.750000       12.0    5.550000         0.0    14.250000         23.0   \n",
       "83   3.388889       15.0    6.888889         2.0    10.611111         23.0   \n",
       "91        NaN        NaN         NaN         NaN          NaN          NaN   \n",
       "\n",
       "    avg_last_hits  max_last_hits  avg_xp_per_min  avg_gold_per_min  \\\n",
       "17      76.777778          151.0      473.944444        322.888889   \n",
       "30      84.526316          156.0      438.000000        311.052632   \n",
       "52      51.200000          126.0      441.650000        293.000000   \n",
       "83      77.166667          202.0      424.944444        283.888889   \n",
       "91            NaN            NaN             NaN               NaN   \n",
       "\n",
       "    max_gold_per_min  unique_heroes  \n",
       "17             412.0            8.0  \n",
       "30             395.0            9.0  \n",
       "52             376.0           10.0  \n",
       "83             423.0           11.0  \n",
       "91               NaN            NaN  "
      ]
     },
     "execution_count": 67,
     "metadata": {},
     "output_type": "execute_result"
    }
   ],
   "source": [
    "player_avg_stats = hero_stats_df.groupby('account_id').mean()\n",
    "player_max_stats = hero_stats_df.groupby('account_id').max()\n",
    "player_min_stats = hero_stats_df.groupby('account_id').min()\n",
    "\n",
    "players_df['avg_kills'] = players_df['account_id'].map(player_avg_stats['kills'])\n",
    "\n",
    "players_df['max_kills'] = players_df['account_id'].map(player_max_stats['kills'])\n",
    "\n",
    "players_df['avg_deaths'] = players_df['account_id'].map(player_avg_stats['deaths'])\n",
    "\n",
    "players_df['min_deaths'] = players_df['account_id'].map(player_min_stats['deaths'])\n",
    "\n",
    "players_df['avg_assists'] = players_df['account_id'].map(player_avg_stats['assists'])\n",
    "\n",
    "players_df['max_assists'] = players_df['account_id'].map(player_max_stats['assists'])\n",
    "\n",
    "players_df['avg_last_hits'] = players_df['account_id'].map(player_avg_stats['last_hits'])\n",
    "\n",
    "players_df['max_last_hits'] = players_df['account_id'].map(player_max_stats['last_hits'])\n",
    "\n",
    "players_df['avg_xp_per_min'] = players_df['account_id'].map(player_avg_stats['xp_per_min'])\n",
    "\n",
    "players_df['avg_gold_per_min'] = players_df['account_id'].map(player_avg_stats['gold_per_min'])\n",
    "\n",
    "players_df['max_gold_per_min'] = players_df['account_id'].map(player_max_stats['gold_per_min'])\n",
    "\n",
    "player_unique_heroes = hero_stats_df[['account_id','hero_id']].groupby('account_id').nunique()\n",
    "players_df['unique_heroes'] = players_df['account_id'].map(player_unique_heroes['hero_id'])\n",
    "\n",
    "players_df.head()"
   ]
  },
  {
   "cell_type": "code",
   "execution_count": 68,
   "metadata": {},
   "outputs": [
    {
     "data": {
      "text/html": [
       "<div>\n",
       "<style scoped>\n",
       "    .dataframe tbody tr th:only-of-type {\n",
       "        vertical-align: middle;\n",
       "    }\n",
       "\n",
       "    .dataframe tbody tr th {\n",
       "        vertical-align: top;\n",
       "    }\n",
       "\n",
       "    .dataframe thead th {\n",
       "        text-align: right;\n",
       "    }\n",
       "</style>\n",
       "<table border=\"1\" class=\"dataframe\">\n",
       "  <thead>\n",
       "    <tr style=\"text-align: right;\">\n",
       "      <th></th>\n",
       "      <th>team_id</th>\n",
       "      <th>name</th>\n",
       "      <th>tag</th>\n",
       "      <th>avg_kills</th>\n",
       "      <th>avg_deaths</th>\n",
       "      <th>avg_assists</th>\n",
       "      <th>max_kills</th>\n",
       "      <th>min_deaths</th>\n",
       "      <th>max_assists</th>\n",
       "      <th>unique_heroes</th>\n",
       "    </tr>\n",
       "  </thead>\n",
       "  <tbody>\n",
       "    <tr>\n",
       "      <th>0</th>\n",
       "      <td>8597976</td>\n",
       "      <td>Talon</td>\n",
       "      <td>TLN</td>\n",
       "      <td>22.000000</td>\n",
       "      <td>29.100000</td>\n",
       "      <td>51.650000</td>\n",
       "      <td>46</td>\n",
       "      <td>10</td>\n",
       "      <td>98</td>\n",
       "      <td>51</td>\n",
       "    </tr>\n",
       "    <tr>\n",
       "      <th>1</th>\n",
       "      <td>7732977</td>\n",
       "      <td>BOOM Esports</td>\n",
       "      <td>BOOM</td>\n",
       "      <td>23.190476</td>\n",
       "      <td>21.571429</td>\n",
       "      <td>56.952381</td>\n",
       "      <td>53</td>\n",
       "      <td>4</td>\n",
       "      <td>132</td>\n",
       "      <td>46</td>\n",
       "    </tr>\n",
       "    <tr>\n",
       "      <th>2</th>\n",
       "      <td>7390454</td>\n",
       "      <td>Soniqs</td>\n",
       "      <td>SQ</td>\n",
       "      <td>21.263158</td>\n",
       "      <td>25.210526</td>\n",
       "      <td>47.631579</td>\n",
       "      <td>44</td>\n",
       "      <td>3</td>\n",
       "      <td>112</td>\n",
       "      <td>51</td>\n",
       "    </tr>\n",
       "    <tr>\n",
       "      <th>3</th>\n",
       "      <td>2163</td>\n",
       "      <td>Team Liquid</td>\n",
       "      <td>Liquid</td>\n",
       "      <td>29.166667</td>\n",
       "      <td>23.500000</td>\n",
       "      <td>65.944444</td>\n",
       "      <td>48</td>\n",
       "      <td>9</td>\n",
       "      <td>104</td>\n",
       "      <td>44</td>\n",
       "    </tr>\n",
       "    <tr>\n",
       "      <th>4</th>\n",
       "      <td>8260983</td>\n",
       "      <td>TSM FTX</td>\n",
       "      <td>TSM FTX</td>\n",
       "      <td>20.055556</td>\n",
       "      <td>27.277778</td>\n",
       "      <td>44.222222</td>\n",
       "      <td>44</td>\n",
       "      <td>3</td>\n",
       "      <td>99</td>\n",
       "      <td>48</td>\n",
       "    </tr>\n",
       "  </tbody>\n",
       "</table>\n",
       "</div>"
      ],
      "text/plain": [
       "   team_id          name      tag  avg_kills  avg_deaths  avg_assists  \\\n",
       "0  8597976         Talon      TLN  22.000000   29.100000    51.650000   \n",
       "1  7732977  BOOM Esports     BOOM  23.190476   21.571429    56.952381   \n",
       "2  7390454        Soniqs       SQ  21.263158   25.210526    47.631579   \n",
       "3     2163   Team Liquid   Liquid  29.166667   23.500000    65.944444   \n",
       "4  8260983       TSM FTX  TSM FTX  20.055556   27.277778    44.222222   \n",
       "\n",
       "   max_kills  min_deaths  max_assists  unique_heroes  \n",
       "0         46          10           98             51  \n",
       "1         53           4          132             46  \n",
       "2         44           3          112             51  \n",
       "3         48           9          104             44  \n",
       "4         44           3           99             48  "
      ]
     },
     "execution_count": 68,
     "metadata": {},
     "output_type": "execute_result"
    }
   ],
   "source": [
    "ti_teams_df = ti_teams_df[['team_id','name','tag']]\n",
    "teams_stats_df = hero_stats_df.groupby(['match_id','team_id']).sum()\n",
    "team_avg_stats_df = teams_stats_df.groupby('team_id').mean()\n",
    "team_max_stats_df = teams_stats_df.groupby('team_id').max()\n",
    "team_min_stats_df = teams_stats_df.groupby('team_id').min()\n",
    "\n",
    "ti_teams_df['avg_kills'] = ti_teams_df['team_id'].map(team_avg_stats_df['kills'])\n",
    "ti_teams_df['avg_deaths'] = ti_teams_df['team_id'].map(team_avg_stats_df['deaths'])\n",
    "ti_teams_df['avg_assists'] = ti_teams_df['team_id'].map(team_avg_stats_df['assists'])\n",
    "ti_teams_df['max_kills'] = ti_teams_df['team_id'].map(team_max_stats_df['kills'])\n",
    "ti_teams_df['min_deaths'] = ti_teams_df['team_id'].map(team_min_stats_df['deaths'])\n",
    "ti_teams_df['max_assists'] = ti_teams_df['team_id'].map(team_max_stats_df['assists'])\n",
    "\n",
    "team_unique_heroes = hero_stats_df[['team_id','hero_id']].groupby('team_id').nunique()\n",
    "ti_teams_df['unique_heroes'] = ti_teams_df['team_id'].map(team_unique_heroes['hero_id'])\n",
    "ti_teams_df.head()"
   ]
  },
  {
   "cell_type": "code",
   "execution_count": 69,
   "metadata": {},
   "outputs": [
    {
     "data": {
      "text/html": [
       "<div>\n",
       "<style scoped>\n",
       "    .dataframe tbody tr th:only-of-type {\n",
       "        vertical-align: middle;\n",
       "    }\n",
       "\n",
       "    .dataframe tbody tr th {\n",
       "        vertical-align: top;\n",
       "    }\n",
       "\n",
       "    .dataframe thead th {\n",
       "        text-align: right;\n",
       "    }\n",
       "</style>\n",
       "<table border=\"1\" class=\"dataframe\">\n",
       "  <thead>\n",
       "    <tr style=\"text-align: right;\">\n",
       "      <th></th>\n",
       "      <th>match_id</th>\n",
       "      <th>duration</th>\n",
       "      <th>radiant_win</th>\n",
       "      <th>radiant_score</th>\n",
       "      <th>radiant_team_id</th>\n",
       "      <th>dire_score</th>\n",
       "      <th>dire_team_id</th>\n",
       "      <th>total_score</th>\n",
       "      <th>team_winner</th>\n",
       "    </tr>\n",
       "  </thead>\n",
       "  <tbody>\n",
       "    <tr>\n",
       "      <th>0</th>\n",
       "      <td>6806663153</td>\n",
       "      <td>2178</td>\n",
       "      <td>False</td>\n",
       "      <td>16</td>\n",
       "      <td>7390454</td>\n",
       "      <td>18</td>\n",
       "      <td>15</td>\n",
       "      <td>34</td>\n",
       "      <td>PSG.LGD</td>\n",
       "    </tr>\n",
       "    <tr>\n",
       "      <th>1</th>\n",
       "      <td>6806047576</td>\n",
       "      <td>2971</td>\n",
       "      <td>False</td>\n",
       "      <td>23</td>\n",
       "      <td>7732977</td>\n",
       "      <td>24</td>\n",
       "      <td>2586976</td>\n",
       "      <td>47</td>\n",
       "      <td>OG</td>\n",
       "    </tr>\n",
       "    <tr>\n",
       "      <th>2</th>\n",
       "      <td>6806638898</td>\n",
       "      <td>3098</td>\n",
       "      <td>False</td>\n",
       "      <td>19</td>\n",
       "      <td>7732977</td>\n",
       "      <td>28</td>\n",
       "      <td>6209804</td>\n",
       "      <td>47</td>\n",
       "      <td>Royal Never Give Up</td>\n",
       "    </tr>\n",
       "    <tr>\n",
       "      <th>3</th>\n",
       "      <td>6806648571</td>\n",
       "      <td>2250</td>\n",
       "      <td>True</td>\n",
       "      <td>33</td>\n",
       "      <td>8131728</td>\n",
       "      <td>14</td>\n",
       "      <td>8599101</td>\n",
       "      <td>47</td>\n",
       "      <td>Hokori</td>\n",
       "    </tr>\n",
       "    <tr>\n",
       "      <th>4</th>\n",
       "      <td>6806662696</td>\n",
       "      <td>1455</td>\n",
       "      <td>False</td>\n",
       "      <td>5</td>\n",
       "      <td>2586976</td>\n",
       "      <td>34</td>\n",
       "      <td>39</td>\n",
       "      <td>39</td>\n",
       "      <td>Evil Geniuses</td>\n",
       "    </tr>\n",
       "  </tbody>\n",
       "</table>\n",
       "</div>"
      ],
      "text/plain": [
       "     match_id  duration  radiant_win  radiant_score  radiant_team_id  \\\n",
       "0  6806663153      2178        False             16          7390454   \n",
       "1  6806047576      2971        False             23          7732977   \n",
       "2  6806638898      3098        False             19          7732977   \n",
       "3  6806648571      2250         True             33          8131728   \n",
       "4  6806662696      1455        False              5          2586976   \n",
       "\n",
       "   dire_score  dire_team_id  total_score          team_winner  \n",
       "0          18            15           34              PSG.LGD  \n",
       "1          24       2586976           47                   OG  \n",
       "2          28       6209804           47  Royal Never Give Up  \n",
       "3          14       8599101           47               Hokori  \n",
       "4          34            39           39        Evil Geniuses  "
      ]
     },
     "execution_count": 69,
     "metadata": {},
     "output_type": "execute_result"
    }
   ],
   "source": [
    "def get_matchwinner(row):\n",
    "    if row['radiant_win'] == True:\n",
    "        winner = 'radiant_team_id'\n",
    "    else:\n",
    "        winner = 'dire_team_id'\n",
    "    return row[winner]\n",
    "\n",
    "def convert(seconds):\n",
    "    # seconds = row[column]\n",
    "    minutes = seconds // 60\n",
    "    seconds = seconds % 60\n",
    "    \n",
    "     \n",
    "    return \"%02d:%02d\" % (minutes, seconds)\n",
    "\n",
    "ti_matches_df = matches_df[['match_id','duration','radiant_win','radiant_score','radiant_team_id','dire_score','dire_team_id']]\n",
    "ti_matches_df['total_score'] = ti_matches_df['radiant_score']+ti_matches_df['dire_score']\n",
    "\n",
    "ti_matches_df['team_winner'] = ti_matches_df.apply(lambda x: get_matchwinner(x), axis=1)\n",
    "ti_matches_df['team_winner'] = ti_matches_df['team_winner'].map(ti_teams_df.set_index('team_id').to_dict()['name'])\n",
    "# ti_matches_df['duration_minutes'] = ti_matches_df.apply(lambda x: convert(x,'duration'), axis=1)\n",
    "ti_matches_df.head()"
   ]
  },
  {
   "cell_type": "code",
   "execution_count": 70,
   "metadata": {},
   "outputs": [],
   "source": [
    "radiant_teams = ti_matches_df[['match_id','radiant_team_id','duration']].rename(columns={\"radiant_team_id\":\"team_id\"})\n",
    "dire_teams = ti_matches_df[['match_id','dire_team_id','duration']].rename(columns={\"dire_team_id\":\"team_id\"})\n",
    "ti_teams_matches = pd.concat([radiant_teams,dire_teams],ignore_index=True)\n",
    "ti_teams_df['avg_length'] = ti_teams_df['team_id'].map(ti_teams_matches.groupby('team_id').mean()['duration'])\n",
    "# ti_teams_df['avg_length_minutes'] = ti_teams_df.apply(lambda x: convert(x,'avg_length'), axis=1)"
   ]
  },
  {
   "cell_type": "code",
   "execution_count": 71,
   "metadata": {},
   "outputs": [],
   "source": [
    "hero_stats_df.to_csv('stats/game_player_stats.csv',index=False)\n",
    "players_df.to_csv('stats/player_stats.csv', index=False)\n",
    "ti_teams_df.to_csv('stats/team_stats.csv', index=False)\n",
    "ti_teams_matches.to_csv('stats/game_head_stats.csv', index=False)"
   ]
  },
  {
   "cell_type": "code",
   "execution_count": 72,
   "metadata": {},
   "outputs": [],
   "source": [
    "hero_list = []\n",
    "player_list = []\n",
    "team_list = []\n",
    "tournament_list = []"
   ]
  },
  {
   "cell_type": "markdown",
   "metadata": {},
   "source": [
    "# Hero with the most picked:"
   ]
  },
  {
   "cell_type": "code",
   "execution_count": 73,
   "metadata": {},
   "outputs": [
    {
     "name": "stdout",
     "output_type": "stream",
     "text": [
      "        hero_name  pick_count\n",
      "121         Marci        79.0\n",
      "10   Shadow Fiend        75.0\n",
      "18           Tiny        66.0\n"
     ]
    }
   ],
   "source": [
    "hero_most_picked = heroes_df[['hero_name','pick_count']].dropna().nlargest(3,'pick_count',keep='all')\n",
    "print(hero_most_picked)\n",
    "obj = {}\n",
    "obj[\"title\"] = \"Most Picked\"\n",
    "obj[\"result\"] = hero_most_picked.rename(columns={\"hero_name\":\"name\",\"pick_count\":\"value\"}).to_dict('r')\n",
    "hero_list.append(obj)\n"
   ]
  },
  {
   "cell_type": "markdown",
   "metadata": {},
   "source": [
    "# Hero with the most banned:"
   ]
  },
  {
   "cell_type": "code",
   "execution_count": 74,
   "metadata": {},
   "outputs": [
    {
     "name": "stdout",
     "output_type": "stream",
     "text": [
      "    hero_name  ban_count\n",
      "31     Enigma      122.0\n",
      "121     Marci      109.0\n",
      "63   Batrider      105.0\n"
     ]
    }
   ],
   "source": [
    "hero_most_banned = heroes_df[['hero_name','ban_count']].dropna().nlargest(3,'ban_count',keep='all')\n",
    "print(hero_most_banned)\n",
    "obj = {}\n",
    "obj[\"title\"] = \"Most banned\"\n",
    "obj[\"result\"] = hero_most_banned.rename(columns={\"hero_name\":\"name\",\"ban_count\":\"value\"}).to_dict('r')\n",
    "hero_list.append(obj)"
   ]
  },
  {
   "cell_type": "markdown",
   "metadata": {},
   "source": [
    "# Hero with the highest win rate:"
   ]
  },
  {
   "cell_type": "code",
   "execution_count": 75,
   "metadata": {},
   "outputs": [
    {
     "name": "stdout",
     "output_type": "stream",
     "text": [
      "         hero_name  winrate\n",
      "70      Gyrocopter   100.00\n",
      "16    Storm Spirit    81.82\n",
      "4   Crystal Maiden    67.39\n"
     ]
    }
   ],
   "source": [
    "hero_max_winrate = heroes_5_df[['hero_name','winrate']].dropna().nlargest(3,'winrate',keep='all')\n",
    "print(hero_max_winrate)\n",
    "obj = {}\n",
    "obj[\"title\"] = \"Highest Winrate\"\n",
    "obj[\"result\"] = hero_max_winrate.rename(columns={\"hero_name\":\"name\",\"winrate\":\"value\"}).to_dict('r')\n",
    "hero_list.append(obj)"
   ]
  },
  {
   "cell_type": "markdown",
   "metadata": {},
   "source": [
    "# Hero with the highest average kill:"
   ]
  },
  {
   "cell_type": "code",
   "execution_count": 76,
   "metadata": {},
   "outputs": [
    {
     "name": "stdout",
     "output_type": "stream",
     "text": [
      "      hero_name  avg_kills\n",
      "70   Gyrocopter  15.600000\n",
      "3   Bloodseeker  11.888889\n",
      "33       Sniper  11.050000\n"
     ]
    }
   ],
   "source": [
    "hero_max_avg_kills = heroes_5_df[['hero_name','avg_kills']].dropna().nlargest(3,'avg_kills',keep='all')\n",
    "print(hero_max_avg_kills)\n",
    "obj = {}\n",
    "obj[\"title\"] = \"Highest Average Kills\"\n",
    "obj[\"result\"] = hero_max_avg_kills.rename(columns={\"hero_name\":\"name\",\"avg_kills\":\"value\"}).to_dict('r')\n",
    "hero_list.append(obj)\n"
   ]
  },
  {
   "cell_type": "markdown",
   "metadata": {},
   "source": [
    "# Hero with the highest average assist:"
   ]
  },
  {
   "cell_type": "code",
   "execution_count": 77,
   "metadata": {},
   "outputs": [
    {
     "name": "stdout",
     "output_type": "stream",
     "text": [
      "           hero_name  avg_assists\n",
      "105     Earth Spirit    20.166667\n",
      "85         Disruptor    17.687500\n",
      "19   Vengeful Spirit    17.111111\n"
     ]
    }
   ],
   "source": [
    "hero_max_avg_assists = heroes_5_df[['hero_name','avg_assists']].dropna().nlargest(3,'avg_assists',keep='all')\n",
    "print(hero_max_avg_assists)\n",
    "obj = {}\n",
    "obj[\"title\"] = \"Highest Average Assists\"\n",
    "obj[\"result\"] = hero_max_avg_assists.rename(columns={\"hero_name\":\"name\",\"avg_assists\":\"value\"}).to_dict('r')\n",
    "hero_list.append(obj)"
   ]
  },
  {
   "cell_type": "markdown",
   "metadata": {},
   "source": [
    "# Hero with the lowest average death:"
   ]
  },
  {
   "cell_type": "code",
   "execution_count": 78,
   "metadata": {},
   "outputs": [
    {
     "name": "stdout",
     "output_type": "stream",
     "text": [
      "       hero_name  avg_deaths\n",
      "52   Lifestealer    2.000000\n",
      "111   Arc Warden    2.333333\n",
      "70    Gyrocopter    2.400000\n"
     ]
    }
   ],
   "source": [
    "hero_min_avg_deaths = heroes_5_df[['hero_name','avg_deaths']].dropna().nsmallest(3,'avg_deaths',keep='all')\n",
    "print(hero_min_avg_deaths)\n",
    "obj = {}\n",
    "obj[\"title\"] = \"Lowest Average deaths\"\n",
    "obj[\"result\"] = hero_min_avg_deaths.rename(columns={\"hero_name\":\"name\",\"avg_deaths\":\"value\"}).to_dict('r')\n",
    "hero_list.append(obj)"
   ]
  },
  {
   "cell_type": "markdown",
   "metadata": {},
   "source": [
    "# Hero with the highest average last hit:"
   ]
  },
  {
   "cell_type": "code",
   "execution_count": 79,
   "metadata": {},
   "outputs": [
    {
     "name": "stdout",
     "output_type": "stream",
     "text": [
      "       hero_name  avg_last_hits\n",
      "107  Terrorblade     564.666667\n",
      "87    Naga Siren     542.478261\n",
      "70    Gyrocopter     532.800000\n"
     ]
    }
   ],
   "source": [
    "hero_max_avg_last_hits = heroes_5_df[['hero_name','avg_last_hits']].dropna().nlargest(3,'avg_last_hits',keep='all')\n",
    "print(hero_max_avg_last_hits)\n",
    "obj = {}\n",
    "obj[\"title\"] = \"Highest Average Last hits\"\n",
    "obj[\"result\"] = hero_max_avg_last_hits.rename(columns={\"hero_name\":\"name\",\"avg_last_hits\":\"value\"}).to_dict('r')\n",
    "hero_list.append(obj)"
   ]
  },
  {
   "cell_type": "markdown",
   "metadata": {},
   "source": [
    "# Hero with the highest average xp per minute:"
   ]
  },
  {
   "cell_type": "code",
   "execution_count": 80,
   "metadata": {},
   "outputs": [
    {
     "name": "stdout",
     "output_type": "stream",
     "text": [
      "            hero_name  avg_xp_per_min\n",
      "70         Gyrocopter      845.800000\n",
      "111        Arc Warden      783.000000\n",
      "51   Nature's Prophet      754.333333\n"
     ]
    }
   ],
   "source": [
    "hero_max_avg_xp_per_min = heroes_5_df[['hero_name','avg_xp_per_min']].dropna().nlargest(3,'avg_xp_per_min',keep='all')\n",
    "print(hero_max_avg_xp_per_min)\n",
    "obj = {}\n",
    "obj[\"title\"] = \"Highest Average XPM\"\n",
    "obj[\"result\"] = hero_max_avg_xp_per_min.rename(columns={\"hero_name\":\"name\",\"avg_xp_per_min\":\"value\"}).to_dict('r')\n",
    "hero_list.append(obj)"
   ]
  },
  {
   "cell_type": "markdown",
   "metadata": {},
   "source": [
    "# Hero with the most kills in a game:"
   ]
  },
  {
   "cell_type": "code",
   "execution_count": 81,
   "metadata": {},
   "outputs": [
    {
     "name": "stdout",
     "output_type": "stream",
     "text": [
      "       hero_name  max_kills\n",
      "3    Bloodseeker       25.0\n",
      "10  Shadow Fiend       24.0\n",
      "21          Zeus       23.0\n"
     ]
    }
   ],
   "source": [
    "hero_max_max_kills = heroes_df[['hero_name','max_kills']].dropna().nlargest(3,'max_kills',keep='all')\n",
    "print(hero_max_max_kills)\n",
    "obj = {}\n",
    "obj[\"title\"] = \"Most Kills in a game\"\n",
    "obj[\"result\"] = hero_max_max_kills.rename(columns={\"hero_name\":\"name\",\"max_kills\":\"value\"}).to_dict('r')\n",
    "hero_list.append(obj)"
   ]
  },
  {
   "cell_type": "markdown",
   "metadata": {},
   "source": [
    "# Hero with the most last hits in a game:"
   ]
  },
  {
   "cell_type": "code",
   "execution_count": 82,
   "metadata": {},
   "outputs": [
    {
     "name": "stdout",
     "output_type": "stream",
     "text": [
      "       hero_name  max_last_hits\n",
      "107  Terrorblade         1372.0\n",
      "87    Naga Siren         1196.0\n",
      "33        Sniper         1058.0\n"
     ]
    }
   ],
   "source": [
    "hero_max_max_last_hits = heroes_df[['hero_name','max_last_hits']].dropna().nlargest(3,'max_last_hits',keep='all')\n",
    "print(hero_max_max_last_hits)\n",
    "obj = {}\n",
    "obj[\"title\"] = \"Most Last Hits in a game\"\n",
    "obj[\"result\"] = hero_max_max_last_hits.rename(columns={\"hero_name\":\"name\",\"max_last_hits\":\"value\"}).to_dict('r')\n",
    "hero_list.append(obj)"
   ]
  },
  {
   "cell_type": "markdown",
   "metadata": {},
   "source": [
    "# Player with the highest kill average:"
   ]
  },
  {
   "cell_type": "code",
   "execution_count": 83,
   "metadata": {},
   "outputs": [
    {
     "name": "stdout",
     "output_type": "stream",
     "text": [
      "     team_tag       name  avg_kills\n",
      "2284  THUNDER     Pakazs  10.550000\n",
      "2331  THUNDER  DarkMago♥   9.550000\n",
      "560    Tundra     skiter   9.055556\n",
      "1387   Liquid      m1CKe   9.055556\n"
     ]
    }
   ],
   "source": [
    "player_max_avg_kills = players_df[['team_tag','name','avg_kills']].dropna().nlargest(3,'avg_kills',keep='all')\n",
    "print(player_max_avg_kills)\n",
    "obj = {}\n",
    "obj[\"title\"] = \"Highest Average Kills\"\n",
    "obj[\"result\"] = player_max_avg_kills.rename(columns={\"avg_kills\":\"value\"}).to_dict('r')\n",
    "player_list.append(obj)"
   ]
  },
  {
   "cell_type": "markdown",
   "metadata": {},
   "source": [
    "# Player with the highest assist average:"
   ]
  },
  {
   "cell_type": "code",
   "execution_count": 84,
   "metadata": {},
   "outputs": [
    {
     "name": "stdout",
     "output_type": "stream",
     "text": [
      "     team_tag     name  avg_assists\n",
      "1414  THUNDER  Matthew    17.100000\n",
      "656    Tundra    Saksa    16.888889\n",
      "789    Secret  W_Zayac    16.700000\n"
     ]
    }
   ],
   "source": [
    "player_max_avg_assists = players_df[['team_tag','name','avg_assists']].dropna().nlargest(3,'avg_assists',keep='all')\n",
    "print(player_max_avg_assists)\n",
    "obj = {}\n",
    "obj[\"title\"] = \"Highest Average Assists\"\n",
    "obj[\"result\"] = player_max_avg_assists.rename(columns={\"avg_assists\":\"value\"}).to_dict('r')\n",
    "player_list.append(obj)"
   ]
  },
  {
   "cell_type": "markdown",
   "metadata": {},
   "source": [
    "# Player with the lowest death average:"
   ]
  },
  {
   "cell_type": "code",
   "execution_count": 85,
   "metadata": {},
   "outputs": [
    {
     "name": "stdout",
     "output_type": "stream",
     "text": [
      "     team_tag    name  avg_deaths\n",
      "1154   Fnatic   Raven    2.000000\n",
      "1340    Aster   Monet    2.000000\n",
      "560    Tundra  skiter    2.222222\n"
     ]
    }
   ],
   "source": [
    "player_min_avg_deaths = players_df[['team_tag','name','avg_deaths']].dropna().nsmallest(3,'avg_deaths',keep='all')\n",
    "print(player_min_avg_deaths)\n",
    "obj = {}\n",
    "obj[\"title\"] = \"Lowest Average Deaths\"\n",
    "obj[\"result\"] = player_min_avg_deaths.rename(columns={\"avg_deaths\":\"value\"}).to_dict('r')\n",
    "player_list.append(obj)"
   ]
  },
  {
   "cell_type": "markdown",
   "metadata": {},
   "source": [
    "# Player with the highest last hit average:"
   ]
  },
  {
   "cell_type": "code",
   "execution_count": 86,
   "metadata": {},
   "outputs": [
    {
     "name": "stdout",
     "output_type": "stream",
     "text": [
      "     team_tag      name  avg_last_hits\n",
      "2454     BOOM  JACKBOYS     442.285714\n",
      "1539       OG    Yuragi     433.333333\n",
      "1869      RNG     Ghost     421.333333\n"
     ]
    }
   ],
   "source": [
    "player_max_avg_last_hits = players_df[['team_tag','name','avg_last_hits']].dropna().nlargest(3,'avg_last_hits',keep='all')\n",
    "print(player_max_avg_last_hits)\n",
    "obj = {}\n",
    "obj[\"title\"] = \"Highest Average Last Hits\"\n",
    "obj[\"result\"] = player_max_avg_last_hits.rename(columns={\"avg_last_hits\":\"value\"}).to_dict('r')\n",
    "player_list.append(obj)"
   ]
  },
  {
   "cell_type": "markdown",
   "metadata": {},
   "source": [
    "# Player with the highest GPM average:"
   ]
  },
  {
   "cell_type": "code",
   "execution_count": 87,
   "metadata": {},
   "outputs": [
    {
     "name": "stdout",
     "output_type": "stream",
     "text": [
      "     team_tag    name  avg_gold_per_min\n",
      "2284  THUNDER  Pakazs        699.250000\n",
      "1539       OG  Yuragi        690.944444\n",
      "560    Tundra  skiter        687.333333\n"
     ]
    }
   ],
   "source": [
    "player_max_avg_xp_per_min = players_df[['team_tag','name','avg_gold_per_min']].dropna().nlargest(3,'avg_gold_per_min',keep='all')\n",
    "print(player_max_avg_xp_per_min)\n",
    "obj = {}\n",
    "obj[\"title\"] = \"Highest Average XPM\"\n",
    "obj[\"result\"] = player_max_avg_xp_per_min.rename(columns={\"avg_gold_per_min\":\"value\"}).to_dict('r')\n",
    "player_list.append(obj)"
   ]
  },
  {
   "cell_type": "markdown",
   "metadata": {},
   "source": [
    "# Player with the most kills:"
   ]
  },
  {
   "cell_type": "code",
   "execution_count": 88,
   "metadata": {},
   "outputs": [
    {
     "name": "stdout",
     "output_type": "stream",
     "text": [
      "     team_tag        name  max_kills\n",
      "1098   Secret  Crystallis       25.0\n",
      "1748   Hokori     Lumière       24.0\n",
      "2246     BOOM      Yopaj-       23.0\n",
      "2331  THUNDER   DarkMago♥       23.0\n"
     ]
    }
   ],
   "source": [
    "player_max_max_kills = players_df[['team_tag','name','max_kills']].dropna().nlargest(3,'max_kills',keep='all')\n",
    "print(player_max_max_kills)\n",
    "obj = {}\n",
    "obj[\"title\"] = \"Most Kills in a game\"\n",
    "obj[\"result\"] = player_max_max_kills.rename(columns={\"max_kills\":\"value\"}).to_dict('r')\n",
    "player_list.append(obj)"
   ]
  },
  {
   "cell_type": "markdown",
   "metadata": {},
   "source": [
    "# Player with the most assists:"
   ]
  },
  {
   "cell_type": "code",
   "execution_count": 89,
   "metadata": {},
   "outputs": [
    {
     "name": "stdout",
     "output_type": "stream",
     "text": [
      "     team_tag     name  max_assists\n",
      "1418     BOOM     TIMS         39.0\n",
      "1454  BetBoom   RodjER         39.0\n",
      "30         GG     tOfu         38.0\n",
      "1783  BetBoom  Noticed         38.0\n"
     ]
    }
   ],
   "source": [
    "player_max_max_assists = players_df[['team_tag','name','max_assists']].dropna().nlargest(3,'max_assists',keep='all')\n",
    "print(player_max_max_assists)\n",
    "obj = {}\n",
    "obj[\"title\"] = \"Most Assists in a game\"\n",
    "obj[\"result\"] = player_max_max_assists.rename(columns={\"max_assists\":\"value\"}).to_dict('r')\n",
    "player_list.append(obj)"
   ]
  },
  {
   "cell_type": "markdown",
   "metadata": {},
   "source": [
    "# Player with the most last hits:"
   ]
  },
  {
   "cell_type": "code",
   "execution_count": 90,
   "metadata": {},
   "outputs": [
    {
     "name": "stdout",
     "output_type": "stream",
     "text": [
      "     team_tag      name  max_last_hits\n",
      "1869      RNG     Ghost         1372.0\n",
      "1340    Aster     Monet         1196.0\n",
      "2454     BOOM  JACKBOYS         1058.0\n"
     ]
    }
   ],
   "source": [
    "player_max_max_last_hits = players_df[['team_tag','name','max_last_hits']].dropna().nlargest(3,'max_last_hits',keep='all')\n",
    "print(player_max_max_last_hits)\n",
    "obj = {}\n",
    "obj[\"title\"] = \"Most Last Hits in a game\"\n",
    "obj[\"result\"] = player_max_max_last_hits.rename(columns={\"max_last_hits\":\"value\"}).to_dict('r')\n",
    "player_list.append(obj)"
   ]
  },
  {
   "cell_type": "markdown",
   "metadata": {},
   "source": [
    "# Player with the most GPM:"
   ]
  },
  {
   "cell_type": "code",
   "execution_count": 91,
   "metadata": {},
   "outputs": [
    {
     "name": "stdout",
     "output_type": "stream",
     "text": [
      "     team_tag      name  max_gold_per_min\n",
      "1539       OG    Yuragi            1034.0\n",
      "1340    Aster     Monet            1010.0\n",
      "909        GG  dyrachyo             995.0\n"
     ]
    }
   ],
   "source": [
    "player_max_max_gold_per_min = players_df[['team_tag','name','max_gold_per_min']].dropna().nlargest(3,'max_gold_per_min',keep='all')\n",
    "print(player_max_max_gold_per_min)\n",
    "obj = {}\n",
    "obj[\"title\"] = \"Most GPM in a game\"\n",
    "obj[\"result\"] = player_max_max_gold_per_min.rename(columns={\"max_gold_per_min\":\"value\"}).to_dict('r')\n",
    "player_list.append(obj)"
   ]
  },
  {
   "cell_type": "markdown",
   "metadata": {},
   "source": [
    "# Player with the most different heroes:"
   ]
  },
  {
   "cell_type": "code",
   "execution_count": 92,
   "metadata": {},
   "outputs": [
    {
     "name": "stdout",
     "output_type": "stream",
     "text": [
      "     team_tag      name  unique_heroes\n",
      "1539       OG    Yuragi           16.0\n",
      "2669  PSG.LGD        萧瑟           16.0\n",
      "1504       bc        K1           15.0\n",
      "2407      TLN  23savage           15.0\n"
     ]
    }
   ],
   "source": [
    "player_max_unique_heroes = players_df[['team_tag','name','unique_heroes']].dropna().nlargest(3,'unique_heroes',keep='all')\n",
    "print(player_max_unique_heroes)\n",
    "obj = {}\n",
    "obj[\"title\"] = \"Most Different Heroes\"\n",
    "obj[\"result\"] = player_max_unique_heroes.rename(columns={\"unique_heroes\":\"value\"}).to_dict('r')\n",
    "player_list.append(obj)"
   ]
  },
  {
   "cell_type": "markdown",
   "metadata": {},
   "source": [
    "# Team with the most kills in a game:"
   ]
  },
  {
   "cell_type": "code",
   "execution_count": 93,
   "metadata": {},
   "outputs": [
    {
     "name": "stdout",
     "output_type": "stream",
     "text": [
      "                 name  max_kills\n",
      "18     Thunder Awaken         66\n",
      "8        BetBoom Team         57\n",
      "7   Gaimin Gladiators         54\n"
     ]
    }
   ],
   "source": [
    "team_max_max_kills = ti_teams_df[['name','max_kills']].dropna().nlargest(3,'max_kills',keep='all')\n",
    "print(team_max_max_kills)\n",
    "obj = {}\n",
    "obj[\"title\"] = \"Most Kills in a game\"\n",
    "obj[\"result\"] = team_max_max_kills.rename(columns={\"max_kills\":\"value\"}).to_dict('r')\n",
    "team_list.append(obj)"
   ]
  },
  {
   "cell_type": "markdown",
   "metadata": {},
   "source": [
    "# Team with the highest kill average:"
   ]
  },
  {
   "cell_type": "code",
   "execution_count": 94,
   "metadata": {},
   "outputs": [
    {
     "name": "stdout",
     "output_type": "stream",
     "text": [
      "              name  avg_kills\n",
      "18  Thunder Awaken  31.800000\n",
      "3      Team Liquid  29.166667\n",
      "10  Tundra Esports  28.166667\n"
     ]
    }
   ],
   "source": [
    "team_max_avg_kills = ti_teams_df[['name','avg_kills']].dropna().nlargest(3,'avg_kills',keep='all')\n",
    "print(team_max_avg_kills)\n",
    "obj = {}\n",
    "obj[\"title\"] = \"Highest Average Kills\"\n",
    "obj[\"result\"] = team_max_avg_kills.rename(columns={\"avg_kills\":\"value\"}).to_dict('r')\n",
    "team_list.append(obj)"
   ]
  },
  {
   "cell_type": "markdown",
   "metadata": {},
   "source": [
    "# Team with the least deaths in a game:"
   ]
  },
  {
   "cell_type": "code",
   "execution_count": 95,
   "metadata": {},
   "outputs": [
    {
     "name": "stdout",
     "output_type": "stream",
     "text": [
      "           name  min_deaths\n",
      "2        Soniqs           3\n",
      "4       TSM FTX           3\n",
      "6   Team Spirit           3\n",
      "15   Team Aster           3\n",
      "19  Team Secret           3\n"
     ]
    }
   ],
   "source": [
    "team_min_min_deaths = ti_teams_df[['name','min_deaths']].dropna().nsmallest(3,'min_deaths',keep='all')\n",
    "print(team_min_min_deaths)\n",
    "obj = {}\n",
    "obj[\"title\"] = \"Least Deaths in a game\"\n",
    "obj[\"result\"] = team_min_min_deaths.rename(columns={\"min_deaths\":\"value\"}).to_dict('r')\n",
    "team_list.append(obj)"
   ]
  },
  {
   "cell_type": "markdown",
   "metadata": {},
   "source": [
    "# Team with the most assists in a game:"
   ]
  },
  {
   "cell_type": "code",
   "execution_count": 96,
   "metadata": {},
   "outputs": [
    {
     "name": "stdout",
     "output_type": "stream",
     "text": [
      "              name  max_assists\n",
      "18  Thunder Awaken          160\n",
      "8     BetBoom Team          157\n",
      "16          Hokori          140\n"
     ]
    }
   ],
   "source": [
    "team_max_max_assists = ti_teams_df[['name','max_assists']].dropna().nlargest(3,'max_assists',keep='all')\n",
    "print(team_max_max_assists)\n",
    "obj = {}\n",
    "obj[\"title\"] = \"Most assists in a game\"\n",
    "obj[\"result\"] = team_max_max_assists.rename(columns={\"max_assists\":\"value\"}).to_dict('r')\n",
    "team_list.append(obj)"
   ]
  },
  {
   "cell_type": "markdown",
   "metadata": {},
   "source": [
    "# Team who wins the longest game:"
   ]
  },
  {
   "cell_type": "code",
   "execution_count": 97,
   "metadata": {},
   "outputs": [
    {
     "name": "stdout",
     "output_type": "stream",
     "text": [
      "             team_winner duration\n",
      "183               Entity   107:02\n",
      "102         BetBoom Team    74:33\n",
      "49   Royal Never Give Up    70:29\n"
     ]
    }
   ],
   "source": [
    "team_max_duration = ti_matches_df[['team_winner','duration']].dropna().nlargest(3,'duration',keep='all')\n",
    "team_max_duration['duration'] = team_max_duration.apply(lambda x:convert(x['duration']),axis=1)\n",
    "print(team_max_duration)\n",
    "obj = {}\n",
    "obj[\"title\"] = \"Wins the longest game\"\n",
    "obj[\"result\"] = team_max_duration.rename(columns={\"duration\":\"value\",\"team_winner\":\"name\"}).to_dict('r')\n",
    "team_list.append(obj)"
   ]
  },
  {
   "cell_type": "markdown",
   "metadata": {},
   "source": [
    "# Team who wins the shortest game:"
   ]
  },
  {
   "cell_type": "code",
   "execution_count": 98,
   "metadata": {},
   "outputs": [
    {
     "name": "stdout",
     "output_type": "stream",
     "text": [
      "       team_winner duration\n",
      "120  Evil Geniuses    17:51\n",
      "181    Team Spirit    19:21\n",
      "14     Team Secret    19:30\n"
     ]
    }
   ],
   "source": [
    "team_min_duration = ti_matches_df[['team_winner','duration']].dropna().nsmallest(3,'duration',keep='all')\n",
    "team_min_duration['duration'] = team_min_duration.apply(lambda x:convert(x['duration']),axis=1)\n",
    "print(team_min_duration)\n",
    "obj = {}\n",
    "obj[\"title\"] = \"Wins the shortest game\"\n",
    "obj[\"result\"] = team_min_duration.rename(columns={\"duration\":\"value\",\"team_winner\":\"name\"}).to_dict('r')\n",
    "team_list.append(obj)\n"
   ]
  },
  {
   "cell_type": "markdown",
   "metadata": {},
   "source": [
    "# Team with the highest length average:"
   ]
  },
  {
   "cell_type": "code",
   "execution_count": 99,
   "metadata": {},
   "outputs": [
    {
     "name": "stdout",
     "output_type": "stream",
     "text": [
      "                   name avg_length\n",
      "17  Royal Never Give Up      45:24\n",
      "8          BetBoom Team      44:45\n",
      "14               Fnatic      43:35\n"
     ]
    }
   ],
   "source": [
    "team_max_avg_length = ti_teams_df[['name','avg_length']].dropna().nlargest(3,'avg_length',keep='all')\n",
    "team_max_avg_length['avg_length'] = team_max_avg_length.apply(lambda x:convert(x['avg_length']),axis=1)\n",
    "print(team_max_avg_length)\n",
    "obj = {}\n",
    "obj[\"title\"] = \"Highest Length Average\"\n",
    "obj[\"result\"] = team_max_avg_length.rename(columns={\"avg_length\":\"value\"}).to_dict('r')\n",
    "team_list.append(obj)"
   ]
  },
  {
   "cell_type": "markdown",
   "metadata": {},
   "source": [
    "# Team with the most different heroes:"
   ]
  },
  {
   "cell_type": "code",
   "execution_count": 100,
   "metadata": {},
   "outputs": [
    {
     "name": "stdout",
     "output_type": "stream",
     "text": [
      "         name  unique_heroes\n",
      "5     PSG.LGD             55\n",
      "9  beastcoast             53\n",
      "0       Talon             51\n",
      "2      Soniqs             51\n"
     ]
    }
   ],
   "source": [
    "team_max_unique_heroes = ti_teams_df[['name','unique_heroes']].dropna().nlargest(3,'unique_heroes',keep='all')\n",
    "print(team_max_unique_heroes)\n",
    "obj = {}\n",
    "obj[\"title\"] = \"Most Different Heroes\"\n",
    "obj[\"result\"] = team_max_unique_heroes.rename(columns={\"unique_heroes\":\"value\"}).to_dict('r')\n",
    "team_list.append(obj)"
   ]
  },
  {
   "cell_type": "markdown",
   "metadata": {},
   "source": [
    "# Team with the fewest different heroes:"
   ]
  },
  {
   "cell_type": "code",
   "execution_count": 101,
   "metadata": {},
   "outputs": [
    {
     "name": "stdout",
     "output_type": "stream",
     "text": [
      "                 name  unique_heroes\n",
      "11             Entity             33\n",
      "7   Gaimin Gladiators             36\n",
      "8        BetBoom Team             37\n",
      "10     Tundra Esports             37\n",
      "15         Team Aster             37\n"
     ]
    }
   ],
   "source": [
    "team_min_unique_heroes = ti_teams_df[['name','unique_heroes']].dropna().nsmallest(3,'unique_heroes',keep='all')\n",
    "print(team_min_unique_heroes)\n",
    "obj = {}\n",
    "obj[\"title\"] = \"Fewest Different Heroes\"\n",
    "obj[\"result\"] = team_min_unique_heroes.rename(columns={\"unique_heroes\":\"value\"}).to_dict('r')\n",
    "team_list.append(obj)"
   ]
  },
  {
   "cell_type": "markdown",
   "metadata": {},
   "source": [
    "# Heroes Picked"
   ]
  },
  {
   "cell_type": "code",
   "execution_count": 102,
   "metadata": {},
   "outputs": [
    {
     "name": "stdout",
     "output_type": "stream",
     "text": [
      "114\n"
     ]
    }
   ],
   "source": [
    "ti_heroes_picked = picks_df['hero_id'].nunique()\n",
    "print(ti_heroes_picked)\n",
    "obj = {}\n",
    "obj[\"title\"] = \"Heroes Picked\"\n",
    "obj[\"result\"] = ti_heroes_picked\n",
    "tournament_list.append(obj)"
   ]
  },
  {
   "cell_type": "markdown",
   "metadata": {},
   "source": [
    "# Heroes Banned"
   ]
  },
  {
   "cell_type": "code",
   "execution_count": 103,
   "metadata": {},
   "outputs": [
    {
     "name": "stdout",
     "output_type": "stream",
     "text": [
      "102\n"
     ]
    }
   ],
   "source": [
    "ti_heroes_banned = bans_df['hero_id'].nunique()\n",
    "print(ti_heroes_banned)\n",
    "obj = {}\n",
    "obj[\"title\"] = \"Heroes banned\"\n",
    "obj[\"result\"] = ti_heroes_banned\n",
    "tournament_list.append(obj)"
   ]
  },
  {
   "cell_type": "markdown",
   "metadata": {},
   "source": [
    "# Most Total Kills in a game"
   ]
  },
  {
   "cell_type": "code",
   "execution_count": 104,
   "metadata": {},
   "outputs": [
    {
     "name": "stdout",
     "output_type": "stream",
     "text": [
      "99\n"
     ]
    }
   ],
   "source": [
    "max_total_kills = ti_matches_df['total_score'].max()\n",
    "print(max_total_kills)\n",
    "obj = {}\n",
    "obj[\"title\"] = \"Most Total Kills in a game\"\n",
    "obj[\"result\"] = max_total_kills\n",
    "tournament_list.append(obj)"
   ]
  },
  {
   "cell_type": "markdown",
   "metadata": {},
   "source": [
    "# Longest Game"
   ]
  },
  {
   "cell_type": "code",
   "execution_count": 105,
   "metadata": {},
   "outputs": [
    {
     "name": "stdout",
     "output_type": "stream",
     "text": [
      "107:02\n"
     ]
    }
   ],
   "source": [
    "max_duration = convert(ti_matches_df['duration'].max())\n",
    "print(max_duration)\n",
    "obj = {}\n",
    "obj[\"title\"] = \"Longest Game\"\n",
    "obj[\"result\"] = max_duration\n",
    "tournament_list.append(obj)"
   ]
  },
  {
   "cell_type": "markdown",
   "metadata": {},
   "source": [
    "# Shortest Game"
   ]
  },
  {
   "cell_type": "code",
   "execution_count": 106,
   "metadata": {},
   "outputs": [
    {
     "name": "stdout",
     "output_type": "stream",
     "text": [
      "17:51\n"
     ]
    }
   ],
   "source": [
    "min_duration = convert(ti_matches_df['duration'].min())\n",
    "print(min_duration)\n",
    "obj = {}\n",
    "obj[\"title\"] = \"Shortest Game\"\n",
    "obj[\"result\"] = min_duration\n",
    "tournament_list.append(obj)"
   ]
  },
  {
   "cell_type": "markdown",
   "metadata": {},
   "source": [
    "# Most Solo Kills"
   ]
  },
  {
   "cell_type": "code",
   "execution_count": 107,
   "metadata": {},
   "outputs": [
    {
     "name": "stdout",
     "output_type": "stream",
     "text": [
      "25\n"
     ]
    }
   ],
   "source": [
    "max_solo_kills = hero_stats_df['kills'].max()\n",
    "print(max_solo_kills)\n",
    "obj = {}\n",
    "obj[\"title\"] = \"Most Solo Kills\"\n",
    "obj[\"result\"] = max_solo_kills\n",
    "tournament_list.append(obj)"
   ]
  },
  {
   "cell_type": "markdown",
   "metadata": {},
   "source": [
    "# Most Solo Deaths"
   ]
  },
  {
   "cell_type": "code",
   "execution_count": 108,
   "metadata": {},
   "outputs": [
    {
     "name": "stdout",
     "output_type": "stream",
     "text": [
      "20\n"
     ]
    }
   ],
   "source": [
    "max_solo_deaths = hero_stats_df['deaths'].max()\n",
    "print(max_solo_deaths)\n",
    "obj = {}\n",
    "obj[\"title\"] = \"Most Solo Deaths\"\n",
    "obj[\"result\"] = max_solo_deaths\n",
    "tournament_list.append(obj)"
   ]
  },
  {
   "cell_type": "markdown",
   "metadata": {},
   "source": [
    "# Most Solo Assists"
   ]
  },
  {
   "cell_type": "code",
   "execution_count": 109,
   "metadata": {},
   "outputs": [
    {
     "name": "stdout",
     "output_type": "stream",
     "text": [
      "39\n"
     ]
    }
   ],
   "source": [
    "max_solo_assists = hero_stats_df['assists'].max()\n",
    "print(max_solo_assists)\n",
    "obj = {}\n",
    "obj[\"title\"] = \"Most Solo Assists\"\n",
    "obj[\"result\"] = max_solo_assists\n",
    "tournament_list.append(obj)"
   ]
  },
  {
   "cell_type": "markdown",
   "metadata": {},
   "source": [
    "# Highest Solo GPM"
   ]
  },
  {
   "cell_type": "code",
   "execution_count": 110,
   "metadata": {},
   "outputs": [
    {
     "name": "stdout",
     "output_type": "stream",
     "text": [
      "1034\n"
     ]
    }
   ],
   "source": [
    "max_solo_gold_per_min = hero_stats_df['gold_per_min'].max()\n",
    "print(max_solo_gold_per_min)\n",
    "obj = {}\n",
    "obj[\"title\"] = \"Most Solo GPM\"\n",
    "obj[\"result\"] = max_solo_gold_per_min\n",
    "tournament_list.append(obj)"
   ]
  },
  {
   "cell_type": "code",
   "execution_count": 111,
   "metadata": {},
   "outputs": [],
   "source": [
    "df1 = pd.DataFrame(hero_list)\n",
    "df2 = pd.DataFrame(player_list)\n",
    "df3 = pd.DataFrame(team_list)\n",
    "df4 = pd.DataFrame(tournament_list)\n",
    "df1.to_json('hero_list.json',orient='records')\n",
    "df2.to_json('player_list.json',orient='records')\n",
    "df3.to_json('team_list.json',orient='records')\n",
    "df4.to_json('tournament_list.json',orient='records')"
   ]
  },
  {
   "cell_type": "code",
   "execution_count": 112,
   "metadata": {},
   "outputs": [
    {
     "name": "stdout",
     "output_type": "stream",
     "text": [
      "      id  \\\n",
      "0      1   \n",
      "1      2   \n",
      "2      3   \n",
      "3      4   \n",
      "4      5   \n",
      "..   ...   \n",
      "118  128   \n",
      "119  129   \n",
      "120  135   \n",
      "121  136   \n",
      "122  137   \n",
      "\n",
      "                                                                                           url  \\\n",
      "0          https://cdn.cloudflare.steamstatic.com/apps/dota2/images/dota_react/heroes/antimage   \n",
      "1               https://cdn.cloudflare.steamstatic.com/apps/dota2/images/dota_react/heroes/axe   \n",
      "2              https://cdn.cloudflare.steamstatic.com/apps/dota2/images/dota_react/heroes/bane   \n",
      "3       https://cdn.cloudflare.steamstatic.com/apps/dota2/images/dota_react/heroes/bloodseeker   \n",
      "4    https://cdn.cloudflare.steamstatic.com/apps/dota2/images/dota_react/heroes/crystal_maiden   \n",
      "..                                                                                         ...   \n",
      "118        https://cdn.cloudflare.steamstatic.com/apps/dota2/images/dota_react/heroes/snapfire   \n",
      "119            https://cdn.cloudflare.steamstatic.com/apps/dota2/images/dota_react/heroes/mars   \n",
      "120     https://cdn.cloudflare.steamstatic.com/apps/dota2/images/dota_react/heroes/dawnbreaker   \n",
      "121           https://cdn.cloudflare.steamstatic.com/apps/dota2/images/dota_react/heroes/marci   \n",
      "122    https://cdn.cloudflare.steamstatic.com/apps/dota2/images/dota_react/heroes/primal_beast   \n",
      "\n",
      "     localized_name primary_attr attack_type  \\\n",
      "0         Anti-Mage          agi       Melee   \n",
      "1               Axe          str       Melee   \n",
      "2              Bane          int      Ranged   \n",
      "3       Bloodseeker          agi       Melee   \n",
      "4    Crystal Maiden          int      Ranged   \n",
      "..              ...          ...         ...   \n",
      "118        Snapfire          str      Ranged   \n",
      "119            Mars          str       Melee   \n",
      "120     Dawnbreaker          str       Melee   \n",
      "121           Marci          str       Melee   \n",
      "122    Primal Beast          str       Melee   \n",
      "\n",
      "                                              roles  legs  \n",
      "0                            [Carry, Escape, Nuker]     2  \n",
      "1    [Initiator, Durable, Disabler, Jungler, Carry]     2  \n",
      "2               [Support, Disabler, Nuker, Durable]     4  \n",
      "3      [Carry, Disabler, Jungler, Nuker, Initiator]     2  \n",
      "4               [Support, Disabler, Nuker, Jungler]     2  \n",
      "..                                              ...   ...  \n",
      "118              [Support, Nuker, Disabler, Escape]     2  \n",
      "119           [Carry, Initiator, Disabler, Durable]     2  \n",
      "120                                [Carry, Durable]     2  \n",
      "121   [Support, Carry, Initiator, Disabler, Escape]     2  \n",
      "122                  [Initiator, Durable, Disabler]     2  \n",
      "\n",
      "[123 rows x 7 columns]\n"
     ]
    }
   ],
   "source": [
    "import convert\n",
    "convert.create_readme()"
   ]
  }
 ],
 "metadata": {
  "kernelspec": {
   "display_name": "Python 3.10.4 64-bit",
   "language": "python",
   "name": "python3"
  },
  "language_info": {
   "codemirror_mode": {
    "name": "ipython",
    "version": 3
   },
   "file_extension": ".py",
   "mimetype": "text/x-python",
   "name": "python",
   "nbconvert_exporter": "python",
   "pygments_lexer": "ipython3",
   "version": "3.10.4"
  },
  "orig_nbformat": 4,
  "vscode": {
   "interpreter": {
    "hash": "b0875789e50131ece785c561051e3ec42d59c6f4099ecf266e41000a826b5908"
   }
  }
 },
 "nbformat": 4,
 "nbformat_minor": 2
}
