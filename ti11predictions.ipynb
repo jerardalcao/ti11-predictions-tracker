{
 "cells": [
  {
   "cell_type": "code",
   "execution_count": 204,
   "metadata": {},
   "outputs": [],
   "source": [
    "import pandas as pd\n",
    "import warnings\n",
    "warnings.filterwarnings(\"ignore\")"
   ]
  },
  {
   "cell_type": "code",
   "execution_count": 205,
   "metadata": {},
   "outputs": [
    {
     "data": {
      "text/plain": [
       "172"
      ]
     },
     "execution_count": 205,
     "metadata": {},
     "output_type": "execute_result"
    }
   ],
   "source": [
    "#load all ti matches\n",
    "matches_df = pd.read_json('all_matches.json')\n",
    "matches_df['match_id'].count()\n",
    "\n"
   ]
  },
  {
   "cell_type": "code",
   "execution_count": 206,
   "metadata": {},
   "outputs": [],
   "source": [
    "# determine winner based on match_id\n",
    "def get_winner(matchid):\n",
    "    match_data = matches_df[matches_df['match_id']==matchid]\n",
    "    radiant_win = match_data['radiant_win'].to_string(index=False)\n",
    "    winner = 1\n",
    "    if radiant_win == 'True':\n",
    "        winner = 0\n",
    "    return winner\n",
    "\n"
   ]
  },
  {
   "cell_type": "code",
   "execution_count": 207,
   "metadata": {},
   "outputs": [
    {
     "data": {
      "text/html": [
       "<div>\n",
       "<style scoped>\n",
       "    .dataframe tbody tr th:only-of-type {\n",
       "        vertical-align: middle;\n",
       "    }\n",
       "\n",
       "    .dataframe tbody tr th {\n",
       "        vertical-align: top;\n",
       "    }\n",
       "\n",
       "    .dataframe thead th {\n",
       "        text-align: right;\n",
       "    }\n",
       "</style>\n",
       "<table border=\"1\" class=\"dataframe\">\n",
       "  <thead>\n",
       "    <tr style=\"text-align: right;\">\n",
       "      <th></th>\n",
       "      <th>id</th>\n",
       "      <th>hero_name</th>\n",
       "    </tr>\n",
       "  </thead>\n",
       "  <tbody>\n",
       "    <tr>\n",
       "      <th>0</th>\n",
       "      <td>1</td>\n",
       "      <td>Anti-Mage</td>\n",
       "    </tr>\n",
       "    <tr>\n",
       "      <th>1</th>\n",
       "      <td>2</td>\n",
       "      <td>Axe</td>\n",
       "    </tr>\n",
       "    <tr>\n",
       "      <th>2</th>\n",
       "      <td>3</td>\n",
       "      <td>Bane</td>\n",
       "    </tr>\n",
       "    <tr>\n",
       "      <th>3</th>\n",
       "      <td>4</td>\n",
       "      <td>Bloodseeker</td>\n",
       "    </tr>\n",
       "    <tr>\n",
       "      <th>4</th>\n",
       "      <td>5</td>\n",
       "      <td>Crystal Maiden</td>\n",
       "    </tr>\n",
       "  </tbody>\n",
       "</table>\n",
       "</div>"
      ],
      "text/plain": [
       "   id       hero_name\n",
       "0   1       Anti-Mage\n",
       "1   2             Axe\n",
       "2   3            Bane\n",
       "3   4     Bloodseeker\n",
       "4   5  Crystal Maiden"
      ]
     },
     "execution_count": 207,
     "metadata": {},
     "output_type": "execute_result"
    }
   ],
   "source": [
    "#define heroes df\n",
    "heroes_df = pd.read_json('working/heroes.json')\n",
    "heroes_df = heroes_df[['id','localized_name']]\n",
    "heroes_df.rename(columns={\"localized_name\":\"hero_name\"},inplace=True)\n",
    "heroes_df.head()\n"
   ]
  },
  {
   "cell_type": "code",
   "execution_count": 208,
   "metadata": {},
   "outputs": [
    {
     "data": {
      "text/html": [
       "<div>\n",
       "<style scoped>\n",
       "    .dataframe tbody tr th:only-of-type {\n",
       "        vertical-align: middle;\n",
       "    }\n",
       "\n",
       "    .dataframe tbody tr th {\n",
       "        vertical-align: top;\n",
       "    }\n",
       "\n",
       "    .dataframe thead th {\n",
       "        text-align: right;\n",
       "    }\n",
       "</style>\n",
       "<table border=\"1\" class=\"dataframe\">\n",
       "  <thead>\n",
       "    <tr style=\"text-align: right;\">\n",
       "      <th></th>\n",
       "      <th>account_id</th>\n",
       "      <th>personaname</th>\n",
       "      <th>name</th>\n",
       "      <th>team_id</th>\n",
       "      <th>team_name</th>\n",
       "      <th>team_tag</th>\n",
       "    </tr>\n",
       "  </thead>\n",
       "  <tbody>\n",
       "    <tr>\n",
       "      <th>17</th>\n",
       "      <td>10366616</td>\n",
       "      <td>Sneyking</td>\n",
       "      <td>Sneyking</td>\n",
       "      <td>8291895</td>\n",
       "      <td>Tundra Esports</td>\n",
       "      <td>Tundra</td>\n",
       "    </tr>\n",
       "    <tr>\n",
       "      <th>30</th>\n",
       "      <td>16497807</td>\n",
       "      <td>tOfu</td>\n",
       "      <td>tOfu</td>\n",
       "      <td>8599101</td>\n",
       "      <td>Gaimin Gladiators</td>\n",
       "      <td>GG</td>\n",
       "    </tr>\n",
       "    <tr>\n",
       "      <th>52</th>\n",
       "      <td>25907144</td>\n",
       "      <td>Let's Go</td>\n",
       "      <td>Cr1t-</td>\n",
       "      <td>39</td>\n",
       "      <td>Evil Geniuses</td>\n",
       "      <td>EG</td>\n",
       "    </tr>\n",
       "    <tr>\n",
       "      <th>83</th>\n",
       "      <td>38628747</td>\n",
       "      <td>Verissimus</td>\n",
       "      <td>MoonMeander</td>\n",
       "      <td>8260983</td>\n",
       "      <td>TSM FTX</td>\n",
       "      <td>TSM FTX</td>\n",
       "    </tr>\n",
       "    <tr>\n",
       "      <th>91</th>\n",
       "      <td>40547474</td>\n",
       "      <td>Aui_2000</td>\n",
       "      <td>Aui_2000</td>\n",
       "      <td>8291895</td>\n",
       "      <td>Tundra Esports</td>\n",
       "      <td>Tundra</td>\n",
       "    </tr>\n",
       "  </tbody>\n",
       "</table>\n",
       "</div>"
      ],
      "text/plain": [
       "    account_id personaname         name  team_id          team_name team_tag\n",
       "17    10366616    Sneyking     Sneyking  8291895     Tundra Esports   Tundra\n",
       "30    16497807        tOfu         tOfu  8599101  Gaimin Gladiators       GG\n",
       "52    25907144    Let's Go        Cr1t-       39      Evil Geniuses       EG\n",
       "83    38628747  Verissimus  MoonMeander  8260983            TSM FTX  TSM FTX\n",
       "91    40547474    Aui_2000     Aui_2000  8291895    Tundra Esports    Tundra"
      ]
     },
     "execution_count": 208,
     "metadata": {},
     "output_type": "execute_result"
    }
   ],
   "source": [
    "# define players df\n",
    "ti_teams_df= pd.read_json('working/teams.json')\n",
    "ti_teams = list(ti_teams_df['team_id'])\n",
    "players_df = pd.read_json('working/proPlayers.json')\n",
    "players_df = players_df[['account_id','personaname','name','team_id','team_name','team_tag']]\n",
    "players_df = players_df[players_df['team_id'].isin(ti_teams)]\n",
    "players_df.head()"
   ]
  },
  {
   "cell_type": "code",
   "execution_count": 209,
   "metadata": {},
   "outputs": [],
   "source": [
    "#create pickbans df\n",
    "picks_bans = matches_df.set_index('match_id').to_dict()['picks_bans']\n",
    "picks = []\n",
    "bans = []\n",
    "for i in picks_bans:\n",
    "    winner = get_winner(i)\n",
    "    for j in picks_bans[i]:\n",
    "        if j['is_pick']:\n",
    "            pick = {}\n",
    "            pick['match_id'] = i\n",
    "            pick['order'] = j['order']\n",
    "            pick['hero_id'] = j['hero_id']\n",
    "            pick['team'] = j['team']\n",
    "            if winner == j['team']:\n",
    "                pick['win'] = 1\n",
    "            else:\n",
    "                pick['win'] = 0\n",
    "            picks.append(pick)\n",
    "        elif not j['is_pick']:\n",
    "            ban = {}\n",
    "            ban['match_id'] = i\n",
    "            ban['order'] = j['order']\n",
    "            ban['hero_id'] = j['hero_id']\n",
    "            ban['team'] = j['team']\n",
    "            bans.append(ban)"
   ]
  },
  {
   "cell_type": "code",
   "execution_count": 210,
   "metadata": {},
   "outputs": [
    {
     "data": {
      "text/html": [
       "<div>\n",
       "<style scoped>\n",
       "    .dataframe tbody tr th:only-of-type {\n",
       "        vertical-align: middle;\n",
       "    }\n",
       "\n",
       "    .dataframe tbody tr th {\n",
       "        vertical-align: top;\n",
       "    }\n",
       "\n",
       "    .dataframe thead th {\n",
       "        text-align: right;\n",
       "    }\n",
       "</style>\n",
       "<table border=\"1\" class=\"dataframe\">\n",
       "  <thead>\n",
       "    <tr style=\"text-align: right;\">\n",
       "      <th></th>\n",
       "      <th>id</th>\n",
       "      <th>hero_name</th>\n",
       "      <th>pick_count</th>\n",
       "      <th>wins</th>\n",
       "      <th>winrate</th>\n",
       "      <th>ban_count</th>\n",
       "    </tr>\n",
       "  </thead>\n",
       "  <tbody>\n",
       "    <tr>\n",
       "      <th>0</th>\n",
       "      <td>1</td>\n",
       "      <td>Anti-Mage</td>\n",
       "      <td>2.0</td>\n",
       "      <td>1.0</td>\n",
       "      <td>50.00</td>\n",
       "      <td>1.0</td>\n",
       "    </tr>\n",
       "    <tr>\n",
       "      <th>1</th>\n",
       "      <td>2</td>\n",
       "      <td>Axe</td>\n",
       "      <td>4.0</td>\n",
       "      <td>1.0</td>\n",
       "      <td>25.00</td>\n",
       "      <td>2.0</td>\n",
       "    </tr>\n",
       "    <tr>\n",
       "      <th>2</th>\n",
       "      <td>3</td>\n",
       "      <td>Bane</td>\n",
       "      <td>7.0</td>\n",
       "      <td>3.0</td>\n",
       "      <td>42.86</td>\n",
       "      <td>3.0</td>\n",
       "    </tr>\n",
       "    <tr>\n",
       "      <th>3</th>\n",
       "      <td>4</td>\n",
       "      <td>Bloodseeker</td>\n",
       "      <td>7.0</td>\n",
       "      <td>2.0</td>\n",
       "      <td>28.57</td>\n",
       "      <td>48.0</td>\n",
       "    </tr>\n",
       "    <tr>\n",
       "      <th>4</th>\n",
       "      <td>5</td>\n",
       "      <td>Crystal Maiden</td>\n",
       "      <td>39.0</td>\n",
       "      <td>26.0</td>\n",
       "      <td>66.67</td>\n",
       "      <td>9.0</td>\n",
       "    </tr>\n",
       "  </tbody>\n",
       "</table>\n",
       "</div>"
      ],
      "text/plain": [
       "   id       hero_name  pick_count  wins  winrate  ban_count\n",
       "0   1       Anti-Mage         2.0   1.0    50.00        1.0\n",
       "1   2             Axe         4.0   1.0    25.00        2.0\n",
       "2   3            Bane         7.0   3.0    42.86        3.0\n",
       "3   4     Bloodseeker         7.0   2.0    28.57       48.0\n",
       "4   5  Crystal Maiden        39.0  26.0    66.67        9.0"
      ]
     },
     "execution_count": 210,
     "metadata": {},
     "output_type": "execute_result"
    }
   ],
   "source": [
    "picks_df = pd.DataFrame(picks)\n",
    "heroes_df['pick_count'] = heroes_df['id'].map(picks_df['hero_id'].value_counts())\n",
    "wins = picks_df[['hero_id','win']].groupby(['hero_id']).sum()\n",
    "wins = wins.to_dict()\n",
    "heroes_df['wins'] = heroes_df['id'].map(wins['win'])\n",
    "heroes_df['winrate'] = round(heroes_df['wins'] / heroes_df['pick_count'] * 100,2)\n",
    "\n",
    "bans_df = pd.DataFrame(bans)\n",
    "heroes_df['ban_count'] = heroes_df['id'].map(bans_df['hero_id'].value_counts())\n",
    "\n",
    "\n",
    "heroes_df.head()"
   ]
  },
  {
   "cell_type": "code",
   "execution_count": 211,
   "metadata": {},
   "outputs": [
    {
     "data": {
      "text/html": [
       "<div>\n",
       "<style scoped>\n",
       "    .dataframe tbody tr th:only-of-type {\n",
       "        vertical-align: middle;\n",
       "    }\n",
       "\n",
       "    .dataframe tbody tr th {\n",
       "        vertical-align: top;\n",
       "    }\n",
       "\n",
       "    .dataframe thead th {\n",
       "        text-align: right;\n",
       "    }\n",
       "</style>\n",
       "<table border=\"1\" class=\"dataframe\">\n",
       "  <thead>\n",
       "    <tr style=\"text-align: right;\">\n",
       "      <th></th>\n",
       "      <th>match_id</th>\n",
       "      <th>account_id</th>\n",
       "      <th>hero_id</th>\n",
       "      <th>kills</th>\n",
       "      <th>deaths</th>\n",
       "      <th>assists</th>\n",
       "      <th>last_hits</th>\n",
       "      <th>xp_per_min</th>\n",
       "      <th>gold_per_min</th>\n",
       "      <th>team_id</th>\n",
       "    </tr>\n",
       "  </thead>\n",
       "  <tbody>\n",
       "    <tr>\n",
       "      <th>0</th>\n",
       "      <td>6806663153</td>\n",
       "      <td>86799300</td>\n",
       "      <td>102</td>\n",
       "      <td>0</td>\n",
       "      <td>4</td>\n",
       "      <td>7</td>\n",
       "      <td>51</td>\n",
       "      <td>361</td>\n",
       "      <td>222</td>\n",
       "      <td>7390454</td>\n",
       "    </tr>\n",
       "    <tr>\n",
       "      <th>1</th>\n",
       "      <td>6806663153</td>\n",
       "      <td>221666230</td>\n",
       "      <td>52</td>\n",
       "      <td>6</td>\n",
       "      <td>4</td>\n",
       "      <td>5</td>\n",
       "      <td>300</td>\n",
       "      <td>578</td>\n",
       "      <td>526</td>\n",
       "      <td>7390454</td>\n",
       "    </tr>\n",
       "    <tr>\n",
       "      <th>2</th>\n",
       "      <td>6806663153</td>\n",
       "      <td>87063175</td>\n",
       "      <td>137</td>\n",
       "      <td>6</td>\n",
       "      <td>4</td>\n",
       "      <td>6</td>\n",
       "      <td>178</td>\n",
       "      <td>462</td>\n",
       "      <td>378</td>\n",
       "      <td>7390454</td>\n",
       "    </tr>\n",
       "    <tr>\n",
       "      <th>3</th>\n",
       "      <td>6806663153</td>\n",
       "      <td>108452107</td>\n",
       "      <td>10</td>\n",
       "      <td>2</td>\n",
       "      <td>0</td>\n",
       "      <td>1</td>\n",
       "      <td>331</td>\n",
       "      <td>647</td>\n",
       "      <td>535</td>\n",
       "      <td>7390454</td>\n",
       "    </tr>\n",
       "    <tr>\n",
       "      <th>4</th>\n",
       "      <td>6806663153</td>\n",
       "      <td>86726887</td>\n",
       "      <td>128</td>\n",
       "      <td>2</td>\n",
       "      <td>6</td>\n",
       "      <td>10</td>\n",
       "      <td>42</td>\n",
       "      <td>301</td>\n",
       "      <td>187</td>\n",
       "      <td>7390454</td>\n",
       "    </tr>\n",
       "  </tbody>\n",
       "</table>\n",
       "</div>"
      ],
      "text/plain": [
       "     match_id  account_id  hero_id  ...  xp_per_min  gold_per_min  team_id\n",
       "0  6806663153    86799300      102  ...         361           222  7390454\n",
       "1  6806663153   221666230       52  ...         578           526  7390454\n",
       "2  6806663153    87063175      137  ...         462           378  7390454\n",
       "3  6806663153   108452107       10  ...         647           535  7390454\n",
       "4  6806663153    86726887      128  ...         301           187  7390454\n",
       "\n",
       "[5 rows x 10 columns]"
      ]
     },
     "execution_count": 211,
     "metadata": {},
     "output_type": "execute_result"
    }
   ],
   "source": [
    "#create hero stats\n",
    "players = matches_df.set_index('match_id').to_dict()['players']\n",
    "hero_stats = []\n",
    "for i in players:\n",
    "    for j in players[i]:\n",
    "        hero_stat = {}\n",
    "        hero_stat['match_id'] = j['match_id']\n",
    "        hero_stat['account_id'] = j['account_id']\n",
    "        hero_stat['hero_id'] = j['hero_id']\n",
    "        hero_stat['kills'] = j['kills']\n",
    "        hero_stat['deaths'] = j['deaths']\n",
    "        hero_stat['assists'] = j['assists']\n",
    "        hero_stat['last_hits'] = j['last_hits']\n",
    "        hero_stat['xp_per_min'] = j['xp_per_min']\n",
    "        hero_stat['gold_per_min'] = j['gold_per_min']\n",
    "        hero_stats.append(hero_stat)\n",
    "hero_stats_df = pd.DataFrame(hero_stats)\n",
    "players_teams = players_df.set_index('account_id').to_dict()['team_id']\n",
    "hero_stats_df['team_id'] = hero_stats_df['account_id'].map(players_teams) \n",
    "\n",
    "hero_stats_df.head()"
   ]
  },
  {
   "cell_type": "code",
   "execution_count": 212,
   "metadata": {},
   "outputs": [
    {
     "data": {
      "text/html": [
       "<div>\n",
       "<style scoped>\n",
       "    .dataframe tbody tr th:only-of-type {\n",
       "        vertical-align: middle;\n",
       "    }\n",
       "\n",
       "    .dataframe tbody tr th {\n",
       "        vertical-align: top;\n",
       "    }\n",
       "\n",
       "    .dataframe thead th {\n",
       "        text-align: right;\n",
       "    }\n",
       "</style>\n",
       "<table border=\"1\" class=\"dataframe\">\n",
       "  <thead>\n",
       "    <tr style=\"text-align: right;\">\n",
       "      <th></th>\n",
       "      <th>id</th>\n",
       "      <th>hero_name</th>\n",
       "      <th>pick_count</th>\n",
       "      <th>wins</th>\n",
       "      <th>winrate</th>\n",
       "      <th>ban_count</th>\n",
       "      <th>avg_kills</th>\n",
       "      <th>max_kills</th>\n",
       "      <th>avg_deaths</th>\n",
       "      <th>min_deaths</th>\n",
       "      <th>avg_assists</th>\n",
       "      <th>max_assists</th>\n",
       "      <th>avg_last_hits</th>\n",
       "      <th>max_last_hits</th>\n",
       "      <th>avg_xp_per_min</th>\n",
       "      <th>avg_gold_per_min</th>\n",
       "    </tr>\n",
       "  </thead>\n",
       "  <tbody>\n",
       "    <tr>\n",
       "      <th>0</th>\n",
       "      <td>1</td>\n",
       "      <td>Anti-Mage</td>\n",
       "      <td>2.0</td>\n",
       "      <td>1.0</td>\n",
       "      <td>50.00</td>\n",
       "      <td>1.0</td>\n",
       "      <td>5.500000</td>\n",
       "      <td>7.0</td>\n",
       "      <td>5.000000</td>\n",
       "      <td>4.0</td>\n",
       "      <td>9.000000</td>\n",
       "      <td>13.0</td>\n",
       "      <td>496.500000</td>\n",
       "      <td>522.0</td>\n",
       "      <td>853.500000</td>\n",
       "      <td>694.500000</td>\n",
       "    </tr>\n",
       "    <tr>\n",
       "      <th>1</th>\n",
       "      <td>2</td>\n",
       "      <td>Axe</td>\n",
       "      <td>4.0</td>\n",
       "      <td>1.0</td>\n",
       "      <td>25.00</td>\n",
       "      <td>2.0</td>\n",
       "      <td>4.500000</td>\n",
       "      <td>8.0</td>\n",
       "      <td>4.250000</td>\n",
       "      <td>0.0</td>\n",
       "      <td>4.500000</td>\n",
       "      <td>10.0</td>\n",
       "      <td>203.250000</td>\n",
       "      <td>236.0</td>\n",
       "      <td>544.000000</td>\n",
       "      <td>440.500000</td>\n",
       "    </tr>\n",
       "    <tr>\n",
       "      <th>2</th>\n",
       "      <td>3</td>\n",
       "      <td>Bane</td>\n",
       "      <td>7.0</td>\n",
       "      <td>3.0</td>\n",
       "      <td>42.86</td>\n",
       "      <td>3.0</td>\n",
       "      <td>1.142857</td>\n",
       "      <td>4.0</td>\n",
       "      <td>5.571429</td>\n",
       "      <td>2.0</td>\n",
       "      <td>12.428571</td>\n",
       "      <td>20.0</td>\n",
       "      <td>47.142857</td>\n",
       "      <td>146.0</td>\n",
       "      <td>388.857143</td>\n",
       "      <td>263.857143</td>\n",
       "    </tr>\n",
       "    <tr>\n",
       "      <th>3</th>\n",
       "      <td>4</td>\n",
       "      <td>Bloodseeker</td>\n",
       "      <td>7.0</td>\n",
       "      <td>2.0</td>\n",
       "      <td>28.57</td>\n",
       "      <td>48.0</td>\n",
       "      <td>11.714286</td>\n",
       "      <td>25.0</td>\n",
       "      <td>3.285714</td>\n",
       "      <td>0.0</td>\n",
       "      <td>9.142857</td>\n",
       "      <td>13.0</td>\n",
       "      <td>355.142857</td>\n",
       "      <td>573.0</td>\n",
       "      <td>679.857143</td>\n",
       "      <td>591.714286</td>\n",
       "    </tr>\n",
       "    <tr>\n",
       "      <th>4</th>\n",
       "      <td>5</td>\n",
       "      <td>Crystal Maiden</td>\n",
       "      <td>39.0</td>\n",
       "      <td>26.0</td>\n",
       "      <td>66.67</td>\n",
       "      <td>9.0</td>\n",
       "      <td>2.487179</td>\n",
       "      <td>5.0</td>\n",
       "      <td>6.128205</td>\n",
       "      <td>1.0</td>\n",
       "      <td>14.897436</td>\n",
       "      <td>28.0</td>\n",
       "      <td>66.871795</td>\n",
       "      <td>146.0</td>\n",
       "      <td>424.820513</td>\n",
       "      <td>297.307692</td>\n",
       "    </tr>\n",
       "  </tbody>\n",
       "</table>\n",
       "</div>"
      ],
      "text/plain": [
       "   id       hero_name  ...  avg_xp_per_min  avg_gold_per_min\n",
       "0   1       Anti-Mage  ...      853.500000        694.500000\n",
       "1   2             Axe  ...      544.000000        440.500000\n",
       "2   3            Bane  ...      388.857143        263.857143\n",
       "3   4     Bloodseeker  ...      679.857143        591.714286\n",
       "4   5  Crystal Maiden  ...      424.820513        297.307692\n",
       "\n",
       "[5 rows x 16 columns]"
      ]
     },
     "execution_count": 212,
     "metadata": {},
     "output_type": "execute_result"
    }
   ],
   "source": [
    "hero_avg_stats = hero_stats_df.groupby('hero_id').mean()\n",
    "hero_max_stats = hero_stats_df.groupby('hero_id').max()\n",
    "hero_min_stats = hero_stats_df.groupby('hero_id').min()\n",
    "\n",
    "heroes_df['avg_kills'] = heroes_df['id'].map(hero_avg_stats['kills'])\n",
    "\n",
    "heroes_df['max_kills'] = heroes_df['id'].map(hero_max_stats['kills'])\n",
    "\n",
    "heroes_df['avg_deaths'] = heroes_df['id'].map(hero_avg_stats['deaths'])\n",
    "\n",
    "heroes_df['min_deaths'] = heroes_df['id'].map(hero_min_stats['deaths'])\n",
    "\n",
    "heroes_df['avg_assists'] = heroes_df['id'].map(hero_avg_stats['assists'])\n",
    "\n",
    "heroes_df['max_assists'] = heroes_df['id'].map(hero_max_stats['assists'])\n",
    "\n",
    "heroes_df['avg_last_hits'] = heroes_df['id'].map(hero_avg_stats['last_hits'])\n",
    "\n",
    "heroes_df['max_last_hits'] = heroes_df['id'].map(hero_max_stats['last_hits'])\n",
    "\n",
    "heroes_df['avg_xp_per_min'] = heroes_df['id'].map(hero_avg_stats['xp_per_min'])\n",
    "\n",
    "heroes_df['avg_gold_per_min'] = heroes_df['id'].map(hero_avg_stats['gold_per_min'])\n",
    "\n",
    "heroes_df.head()"
   ]
  },
  {
   "cell_type": "code",
   "execution_count": 213,
   "metadata": {},
   "outputs": [],
   "source": [
    "heroes_5_df = heroes_df[heroes_df['pick_count']>=5]"
   ]
  },
  {
   "cell_type": "code",
   "execution_count": 214,
   "metadata": {},
   "outputs": [
    {
     "data": {
      "text/html": [
       "<div>\n",
       "<style scoped>\n",
       "    .dataframe tbody tr th:only-of-type {\n",
       "        vertical-align: middle;\n",
       "    }\n",
       "\n",
       "    .dataframe tbody tr th {\n",
       "        vertical-align: top;\n",
       "    }\n",
       "\n",
       "    .dataframe thead th {\n",
       "        text-align: right;\n",
       "    }\n",
       "</style>\n",
       "<table border=\"1\" class=\"dataframe\">\n",
       "  <thead>\n",
       "    <tr style=\"text-align: right;\">\n",
       "      <th></th>\n",
       "      <th>account_id</th>\n",
       "      <th>personaname</th>\n",
       "      <th>name</th>\n",
       "      <th>team_id</th>\n",
       "      <th>team_name</th>\n",
       "      <th>team_tag</th>\n",
       "      <th>avg_kills</th>\n",
       "      <th>max_kills</th>\n",
       "      <th>avg_deaths</th>\n",
       "      <th>min_deaths</th>\n",
       "      <th>avg_assists</th>\n",
       "      <th>max_assists</th>\n",
       "      <th>avg_last_hits</th>\n",
       "      <th>max_last_hits</th>\n",
       "      <th>avg_xp_per_min</th>\n",
       "      <th>avg_gold_per_min</th>\n",
       "      <th>max_gold_per_min</th>\n",
       "      <th>unique_heroes</th>\n",
       "    </tr>\n",
       "  </thead>\n",
       "  <tbody>\n",
       "    <tr>\n",
       "      <th>17</th>\n",
       "      <td>10366616</td>\n",
       "      <td>Sneyking</td>\n",
       "      <td>Sneyking</td>\n",
       "      <td>8291895</td>\n",
       "      <td>Tundra Esports</td>\n",
       "      <td>Tundra</td>\n",
       "      <td>2.941176</td>\n",
       "      <td>6.0</td>\n",
       "      <td>5.705882</td>\n",
       "      <td>2.0</td>\n",
       "      <td>15.352941</td>\n",
       "      <td>29.0</td>\n",
       "      <td>75.470588</td>\n",
       "      <td>151.0</td>\n",
       "      <td>471.235294</td>\n",
       "      <td>318.705882</td>\n",
       "      <td>412.0</td>\n",
       "      <td>7.0</td>\n",
       "    </tr>\n",
       "    <tr>\n",
       "      <th>30</th>\n",
       "      <td>16497807</td>\n",
       "      <td>tOfu</td>\n",
       "      <td>tOfu</td>\n",
       "      <td>8599101</td>\n",
       "      <td>Gaimin Gladiators</td>\n",
       "      <td>GG</td>\n",
       "      <td>2.777778</td>\n",
       "      <td>7.0</td>\n",
       "      <td>5.611111</td>\n",
       "      <td>1.0</td>\n",
       "      <td>13.388889</td>\n",
       "      <td>38.0</td>\n",
       "      <td>80.555556</td>\n",
       "      <td>127.0</td>\n",
       "      <td>434.111111</td>\n",
       "      <td>306.555556</td>\n",
       "      <td>395.0</td>\n",
       "      <td>9.0</td>\n",
       "    </tr>\n",
       "    <tr>\n",
       "      <th>52</th>\n",
       "      <td>25907144</td>\n",
       "      <td>Let's Go</td>\n",
       "      <td>Cr1t-</td>\n",
       "      <td>39</td>\n",
       "      <td>Evil Geniuses</td>\n",
       "      <td>EG</td>\n",
       "      <td>3.888889</td>\n",
       "      <td>12.0</td>\n",
       "      <td>5.055556</td>\n",
       "      <td>0.0</td>\n",
       "      <td>15.000000</td>\n",
       "      <td>23.0</td>\n",
       "      <td>53.111111</td>\n",
       "      <td>126.0</td>\n",
       "      <td>457.666667</td>\n",
       "      <td>302.833333</td>\n",
       "      <td>376.0</td>\n",
       "      <td>10.0</td>\n",
       "    </tr>\n",
       "    <tr>\n",
       "      <th>83</th>\n",
       "      <td>38628747</td>\n",
       "      <td>Verissimus</td>\n",
       "      <td>MoonMeander</td>\n",
       "      <td>8260983</td>\n",
       "      <td>TSM FTX</td>\n",
       "      <td>TSM FTX</td>\n",
       "      <td>3.562500</td>\n",
       "      <td>15.0</td>\n",
       "      <td>6.687500</td>\n",
       "      <td>2.0</td>\n",
       "      <td>10.875000</td>\n",
       "      <td>23.0</td>\n",
       "      <td>77.937500</td>\n",
       "      <td>202.0</td>\n",
       "      <td>424.937500</td>\n",
       "      <td>288.500000</td>\n",
       "      <td>423.0</td>\n",
       "      <td>10.0</td>\n",
       "    </tr>\n",
       "    <tr>\n",
       "      <th>91</th>\n",
       "      <td>40547474</td>\n",
       "      <td>Aui_2000</td>\n",
       "      <td>Aui_2000</td>\n",
       "      <td>8291895</td>\n",
       "      <td>Tundra Esports</td>\n",
       "      <td>Tundra</td>\n",
       "      <td>NaN</td>\n",
       "      <td>NaN</td>\n",
       "      <td>NaN</td>\n",
       "      <td>NaN</td>\n",
       "      <td>NaN</td>\n",
       "      <td>NaN</td>\n",
       "      <td>NaN</td>\n",
       "      <td>NaN</td>\n",
       "      <td>NaN</td>\n",
       "      <td>NaN</td>\n",
       "      <td>NaN</td>\n",
       "      <td>NaN</td>\n",
       "    </tr>\n",
       "  </tbody>\n",
       "</table>\n",
       "</div>"
      ],
      "text/plain": [
       "    account_id personaname  ... max_gold_per_min  unique_heroes\n",
       "17    10366616    Sneyking  ...            412.0            7.0\n",
       "30    16497807        tOfu  ...            395.0            9.0\n",
       "52    25907144    Let's Go  ...            376.0           10.0\n",
       "83    38628747  Verissimus  ...            423.0           10.0\n",
       "91    40547474    Aui_2000  ...              NaN            NaN\n",
       "\n",
       "[5 rows x 18 columns]"
      ]
     },
     "execution_count": 214,
     "metadata": {},
     "output_type": "execute_result"
    }
   ],
   "source": [
    "player_avg_stats = hero_stats_df.groupby('account_id').mean()\n",
    "player_max_stats = hero_stats_df.groupby('account_id').max()\n",
    "player_min_stats = hero_stats_df.groupby('account_id').min()\n",
    "\n",
    "players_df['avg_kills'] = players_df['account_id'].map(player_avg_stats['kills'])\n",
    "\n",
    "players_df['max_kills'] = players_df['account_id'].map(player_max_stats['kills'])\n",
    "\n",
    "players_df['avg_deaths'] = players_df['account_id'].map(player_avg_stats['deaths'])\n",
    "\n",
    "players_df['min_deaths'] = players_df['account_id'].map(player_min_stats['deaths'])\n",
    "\n",
    "players_df['avg_assists'] = players_df['account_id'].map(player_avg_stats['assists'])\n",
    "\n",
    "players_df['max_assists'] = players_df['account_id'].map(player_max_stats['assists'])\n",
    "\n",
    "players_df['avg_last_hits'] = players_df['account_id'].map(player_avg_stats['last_hits'])\n",
    "\n",
    "players_df['max_last_hits'] = players_df['account_id'].map(player_max_stats['last_hits'])\n",
    "\n",
    "players_df['avg_xp_per_min'] = players_df['account_id'].map(player_avg_stats['xp_per_min'])\n",
    "\n",
    "players_df['avg_gold_per_min'] = players_df['account_id'].map(player_avg_stats['gold_per_min'])\n",
    "\n",
    "players_df['max_gold_per_min'] = players_df['account_id'].map(player_max_stats['gold_per_min'])\n",
    "\n",
    "player_unique_heroes = hero_stats_df[['account_id','hero_id']].groupby('account_id').nunique()\n",
    "players_df['unique_heroes'] = players_df['account_id'].map(player_unique_heroes['hero_id'])\n",
    "\n",
    "players_df.head()"
   ]
  },
  {
   "cell_type": "code",
   "execution_count": 215,
   "metadata": {},
   "outputs": [
    {
     "data": {
      "text/html": [
       "<div>\n",
       "<style scoped>\n",
       "    .dataframe tbody tr th:only-of-type {\n",
       "        vertical-align: middle;\n",
       "    }\n",
       "\n",
       "    .dataframe tbody tr th {\n",
       "        vertical-align: top;\n",
       "    }\n",
       "\n",
       "    .dataframe thead th {\n",
       "        text-align: right;\n",
       "    }\n",
       "</style>\n",
       "<table border=\"1\" class=\"dataframe\">\n",
       "  <thead>\n",
       "    <tr style=\"text-align: right;\">\n",
       "      <th></th>\n",
       "      <th>team_id</th>\n",
       "      <th>name</th>\n",
       "      <th>tag</th>\n",
       "      <th>avg_kills</th>\n",
       "      <th>avg_deaths</th>\n",
       "      <th>avg_assists</th>\n",
       "      <th>max_kills</th>\n",
       "      <th>min_deaths</th>\n",
       "      <th>max_assists</th>\n",
       "      <th>unique_heroes</th>\n",
       "    </tr>\n",
       "  </thead>\n",
       "  <tbody>\n",
       "    <tr>\n",
       "      <th>0</th>\n",
       "      <td>8597976</td>\n",
       "      <td>Talon</td>\n",
       "      <td>TLN</td>\n",
       "      <td>23.812500</td>\n",
       "      <td>28.437500</td>\n",
       "      <td>54.000000</td>\n",
       "      <td>46</td>\n",
       "      <td>10</td>\n",
       "      <td>98</td>\n",
       "      <td>46</td>\n",
       "    </tr>\n",
       "    <tr>\n",
       "      <th>1</th>\n",
       "      <td>7732977</td>\n",
       "      <td>BOOM Esports</td>\n",
       "      <td>BOOM</td>\n",
       "      <td>21.555556</td>\n",
       "      <td>23.722222</td>\n",
       "      <td>52.111111</td>\n",
       "      <td>52</td>\n",
       "      <td>6</td>\n",
       "      <td>132</td>\n",
       "      <td>42</td>\n",
       "    </tr>\n",
       "    <tr>\n",
       "      <th>2</th>\n",
       "      <td>7390454</td>\n",
       "      <td>Soniqs</td>\n",
       "      <td>SQ</td>\n",
       "      <td>22.277778</td>\n",
       "      <td>25.000000</td>\n",
       "      <td>49.777778</td>\n",
       "      <td>44</td>\n",
       "      <td>3</td>\n",
       "      <td>112</td>\n",
       "      <td>49</td>\n",
       "    </tr>\n",
       "    <tr>\n",
       "      <th>3</th>\n",
       "      <td>2163</td>\n",
       "      <td>Team Liquid</td>\n",
       "      <td>Liquid</td>\n",
       "      <td>29.166667</td>\n",
       "      <td>23.500000</td>\n",
       "      <td>65.944444</td>\n",
       "      <td>48</td>\n",
       "      <td>9</td>\n",
       "      <td>104</td>\n",
       "      <td>44</td>\n",
       "    </tr>\n",
       "    <tr>\n",
       "      <th>4</th>\n",
       "      <td>8260983</td>\n",
       "      <td>TSM FTX</td>\n",
       "      <td>TSM FTX</td>\n",
       "      <td>20.625000</td>\n",
       "      <td>26.625000</td>\n",
       "      <td>46.062500</td>\n",
       "      <td>44</td>\n",
       "      <td>3</td>\n",
       "      <td>99</td>\n",
       "      <td>45</td>\n",
       "    </tr>\n",
       "  </tbody>\n",
       "</table>\n",
       "</div>"
      ],
      "text/plain": [
       "   team_id          name      tag  ...  min_deaths  max_assists  unique_heroes\n",
       "0  8597976         Talon      TLN  ...          10           98             46\n",
       "1  7732977  BOOM Esports     BOOM  ...           6          132             42\n",
       "2  7390454        Soniqs       SQ  ...           3          112             49\n",
       "3     2163   Team Liquid   Liquid  ...           9          104             44\n",
       "4  8260983       TSM FTX  TSM FTX  ...           3           99             45\n",
       "\n",
       "[5 rows x 10 columns]"
      ]
     },
     "execution_count": 215,
     "metadata": {},
     "output_type": "execute_result"
    }
   ],
   "source": [
    "ti_teams_df = ti_teams_df[['team_id','name','tag']]\n",
    "teams_stats_df = hero_stats_df.groupby(['match_id','team_id']).sum()\n",
    "team_avg_stats_df = teams_stats_df.groupby('team_id').mean()\n",
    "team_max_stats_df = teams_stats_df.groupby('team_id').max()\n",
    "team_min_stats_df = teams_stats_df.groupby('team_id').min()\n",
    "\n",
    "ti_teams_df['avg_kills'] = ti_teams_df['team_id'].map(team_avg_stats_df['kills'])\n",
    "ti_teams_df['avg_deaths'] = ti_teams_df['team_id'].map(team_avg_stats_df['deaths'])\n",
    "ti_teams_df['avg_assists'] = ti_teams_df['team_id'].map(team_avg_stats_df['assists'])\n",
    "ti_teams_df['max_kills'] = ti_teams_df['team_id'].map(team_max_stats_df['kills'])\n",
    "ti_teams_df['min_deaths'] = ti_teams_df['team_id'].map(team_min_stats_df['deaths'])\n",
    "ti_teams_df['max_assists'] = ti_teams_df['team_id'].map(team_max_stats_df['assists'])\n",
    "\n",
    "team_unique_heroes = hero_stats_df[['team_id','hero_id']].groupby('team_id').nunique()\n",
    "ti_teams_df['unique_heroes'] = ti_teams_df['team_id'].map(team_unique_heroes['hero_id'])\n",
    "ti_teams_df.head()"
   ]
  },
  {
   "cell_type": "code",
   "execution_count": 216,
   "metadata": {},
   "outputs": [
    {
     "data": {
      "text/html": [
       "<div>\n",
       "<style scoped>\n",
       "    .dataframe tbody tr th:only-of-type {\n",
       "        vertical-align: middle;\n",
       "    }\n",
       "\n",
       "    .dataframe tbody tr th {\n",
       "        vertical-align: top;\n",
       "    }\n",
       "\n",
       "    .dataframe thead th {\n",
       "        text-align: right;\n",
       "    }\n",
       "</style>\n",
       "<table border=\"1\" class=\"dataframe\">\n",
       "  <thead>\n",
       "    <tr style=\"text-align: right;\">\n",
       "      <th></th>\n",
       "      <th>match_id</th>\n",
       "      <th>duration</th>\n",
       "      <th>radiant_win</th>\n",
       "      <th>radiant_score</th>\n",
       "      <th>radiant_team_id</th>\n",
       "      <th>dire_score</th>\n",
       "      <th>dire_team_id</th>\n",
       "      <th>total_score</th>\n",
       "      <th>team_winner</th>\n",
       "      <th>duration_minutes</th>\n",
       "    </tr>\n",
       "  </thead>\n",
       "  <tbody>\n",
       "    <tr>\n",
       "      <th>0</th>\n",
       "      <td>6806663153</td>\n",
       "      <td>2178</td>\n",
       "      <td>False</td>\n",
       "      <td>16</td>\n",
       "      <td>7390454</td>\n",
       "      <td>18</td>\n",
       "      <td>15</td>\n",
       "      <td>34</td>\n",
       "      <td>PSG.LGD</td>\n",
       "      <td>0:36:18</td>\n",
       "    </tr>\n",
       "    <tr>\n",
       "      <th>1</th>\n",
       "      <td>6806047576</td>\n",
       "      <td>2971</td>\n",
       "      <td>False</td>\n",
       "      <td>23</td>\n",
       "      <td>7732977</td>\n",
       "      <td>24</td>\n",
       "      <td>2586976</td>\n",
       "      <td>47</td>\n",
       "      <td>OG</td>\n",
       "      <td>0:49:31</td>\n",
       "    </tr>\n",
       "    <tr>\n",
       "      <th>2</th>\n",
       "      <td>6806638898</td>\n",
       "      <td>3098</td>\n",
       "      <td>False</td>\n",
       "      <td>19</td>\n",
       "      <td>7732977</td>\n",
       "      <td>28</td>\n",
       "      <td>6209804</td>\n",
       "      <td>47</td>\n",
       "      <td>Royal Never Give Up</td>\n",
       "      <td>0:51:38</td>\n",
       "    </tr>\n",
       "    <tr>\n",
       "      <th>3</th>\n",
       "      <td>6806648571</td>\n",
       "      <td>2250</td>\n",
       "      <td>True</td>\n",
       "      <td>33</td>\n",
       "      <td>8131728</td>\n",
       "      <td>14</td>\n",
       "      <td>8599101</td>\n",
       "      <td>47</td>\n",
       "      <td>Hokori</td>\n",
       "      <td>0:37:30</td>\n",
       "    </tr>\n",
       "    <tr>\n",
       "      <th>4</th>\n",
       "      <td>6806662696</td>\n",
       "      <td>1455</td>\n",
       "      <td>False</td>\n",
       "      <td>5</td>\n",
       "      <td>2586976</td>\n",
       "      <td>34</td>\n",
       "      <td>39</td>\n",
       "      <td>39</td>\n",
       "      <td>Evil Geniuses</td>\n",
       "      <td>0:24:15</td>\n",
       "    </tr>\n",
       "  </tbody>\n",
       "</table>\n",
       "</div>"
      ],
      "text/plain": [
       "     match_id  duration  ...          team_winner  duration_minutes\n",
       "0  6806663153      2178  ...              PSG.LGD           0:36:18\n",
       "1  6806047576      2971  ...                   OG           0:49:31\n",
       "2  6806638898      3098  ...  Royal Never Give Up           0:51:38\n",
       "3  6806648571      2250  ...               Hokori           0:37:30\n",
       "4  6806662696      1455  ...        Evil Geniuses           0:24:15\n",
       "\n",
       "[5 rows x 10 columns]"
      ]
     },
     "execution_count": 216,
     "metadata": {},
     "output_type": "execute_result"
    }
   ],
   "source": [
    "def get_matchwinner(row):\n",
    "    if row['radiant_win'] == True:\n",
    "        winner = 'radiant_team_id'\n",
    "    else:\n",
    "        winner = 'dire_team_id'\n",
    "    return row[winner]\n",
    "\n",
    "def convert(row,column):\n",
    "    seconds = row[column]\n",
    "    seconds = seconds % (24 * 3600)\n",
    "    hour = seconds // 3600\n",
    "    seconds %= 3600\n",
    "    minutes = seconds // 60\n",
    "    seconds %= 60\n",
    "     \n",
    "    return \"%d:%02d:%02d\" % (hour, minutes, seconds)\n",
    "\n",
    "ti_matches_df = matches_df[['match_id','duration','radiant_win','radiant_score','radiant_team_id','dire_score','dire_team_id']]\n",
    "ti_matches_df['total_score'] = ti_matches_df['radiant_score']+ti_matches_df['dire_score']\n",
    "\n",
    "ti_matches_df['team_winner'] = ti_matches_df.apply(lambda x: get_matchwinner(x), axis=1)\n",
    "ti_matches_df['team_winner'] = ti_matches_df['team_winner'].map(ti_teams_df.set_index('team_id').to_dict()['name'])\n",
    "ti_matches_df['duration_minutes'] = ti_matches_df.apply(lambda x: convert(x,'duration'), axis=1)\n",
    "ti_matches_df.head()"
   ]
  },
  {
   "cell_type": "code",
   "execution_count": 217,
   "metadata": {},
   "outputs": [],
   "source": [
    "radiant_teams = ti_matches_df[['match_id','radiant_team_id','duration']].rename(columns={\"radiant_team_id\":\"team_id\"})\n",
    "dire_teams = ti_matches_df[['match_id','dire_team_id','duration']].rename(columns={\"dire_team_id\":\"team_id\"})\n",
    "ti_teams_matches = pd.concat([radiant_teams,dire_teams],ignore_index=True)\n",
    "ti_teams_df['avg_length'] = ti_teams_df['team_id'].map(ti_teams_matches.groupby('team_id').mean()['duration'])\n",
    "ti_teams_df['avg_length_minutes'] = ti_teams_df.apply(lambda x: convert(x,'avg_length'), axis=1)"
   ]
  },
  {
   "cell_type": "code",
   "execution_count": 218,
   "metadata": {},
   "outputs": [],
   "source": [
    "hero_stats_df.to_csv('stats/game_player_stats.csv',index=False)\n",
    "players_df.to_csv('stats/player_stats.csv', index=False)\n",
    "ti_teams_df.to_csv('stats/team_stats.csv', index=False)\n",
    "ti_teams_matches.to_csv('stats/game_head_stats.csv', index=False)"
   ]
  },
  {
   "cell_type": "code",
   "execution_count": 219,
   "metadata": {},
   "outputs": [],
   "source": [
    "hero_list = []\n",
    "player_list = []\n",
    "team_list = []"
   ]
  },
  {
   "cell_type": "markdown",
   "metadata": {},
   "source": [
    "# Hero with the most picked:"
   ]
  },
  {
   "cell_type": "code",
   "execution_count": 220,
   "metadata": {},
   "outputs": [
    {
     "name": "stdout",
     "output_type": "stream",
     "text": [
      "    hero_name  pick_count\n",
      "121     Marci        69.0\n"
     ]
    }
   ],
   "source": [
    "hero_most_picked = heroes_df[heroes_df['pick_count']==heroes_df['pick_count'].max()][['hero_name','pick_count']]\n",
    "print(hero_most_picked)\n",
    "obj = {}\n",
    "obj[\"title\"] = \"Most Picked\"\n",
    "obj[\"result\"] = hero_most_picked.rename(columns={\"hero_name\":\"name\",\"pick_count\":\"value\"}).to_dict('r')\n",
    "hero_list.append(obj)\n"
   ]
  },
  {
   "cell_type": "markdown",
   "metadata": {},
   "source": [
    "# Hero with the most banned:"
   ]
  },
  {
   "cell_type": "code",
   "execution_count": 221,
   "metadata": {},
   "outputs": [
    {
     "name": "stdout",
     "output_type": "stream",
     "text": [
      "   hero_name  ban_count\n",
      "31    Enigma      108.0\n"
     ]
    }
   ],
   "source": [
    "hero_most_banned = heroes_df[heroes_df['ban_count']==heroes_df['ban_count'].max()][['hero_name','ban_count']]\n",
    "print(hero_most_banned)\n",
    "obj = {}\n",
    "obj[\"title\"] = \"Most banned\"\n",
    "obj[\"result\"] = hero_most_banned.rename(columns={\"hero_name\":\"name\",\"ban_count\":\"value\"}).to_dict('r')\n",
    "hero_list.append(obj)"
   ]
  },
  {
   "cell_type": "markdown",
   "metadata": {},
   "source": [
    "# Hero with the highest win rate:"
   ]
  },
  {
   "cell_type": "code",
   "execution_count": 222,
   "metadata": {},
   "outputs": [
    {
     "name": "stdout",
     "output_type": "stream",
     "text": [
      "       hero_name  winrate\n",
      "16  Storm Spirit     80.0\n"
     ]
    }
   ],
   "source": [
    "hero_max_winrate = heroes_5_df[heroes_5_df['winrate']==heroes_5_df['winrate'].max()][['hero_name','winrate']]\n",
    "print(hero_max_winrate)\n",
    "obj = {}\n",
    "obj[\"title\"] = \"Highest Winrate\"\n",
    "obj[\"result\"] = hero_max_winrate.rename(columns={\"hero_name\":\"name\",\"winrate\":\"value\"}).to_dict('r')\n",
    "hero_list.append(obj)"
   ]
  },
  {
   "cell_type": "markdown",
   "metadata": {},
   "source": [
    "# Hero with the highest average kill:"
   ]
  },
  {
   "cell_type": "code",
   "execution_count": 223,
   "metadata": {},
   "outputs": [
    {
     "name": "stdout",
     "output_type": "stream",
     "text": [
      "     hero_name  avg_kills\n",
      "3  Bloodseeker  11.714286\n"
     ]
    }
   ],
   "source": [
    "hero_max_avg_kills = heroes_5_df[heroes_5_df['avg_kills']==heroes_5_df['avg_kills'].max()][['hero_name','avg_kills']]\n",
    "print(hero_max_avg_kills)\n",
    "obj = {}\n",
    "obj[\"title\"] = \"Highest Average Kills\"\n",
    "obj[\"result\"] = hero_max_avg_kills.rename(columns={\"hero_name\":\"name\",\"avg_kills\":\"value\"}).to_dict('r')\n",
    "hero_list.append(obj)\n"
   ]
  },
  {
   "cell_type": "markdown",
   "metadata": {},
   "source": [
    "# Hero with the highest average assist:"
   ]
  },
  {
   "cell_type": "code",
   "execution_count": 224,
   "metadata": {},
   "outputs": [
    {
     "name": "stdout",
     "output_type": "stream",
     "text": [
      "        hero_name  avg_assists\n",
      "105  Earth Spirit    20.166667\n"
     ]
    }
   ],
   "source": [
    "hero_max_avg_assists = heroes_5_df[heroes_5_df['avg_assists']==heroes_5_df['avg_assists'].max()][['hero_name','avg_assists']]\n",
    "print(hero_max_avg_assists)\n",
    "obj = {}\n",
    "obj[\"title\"] = \"Highest Average Assists\"\n",
    "obj[\"result\"] = hero_max_avg_assists.rename(columns={\"hero_name\":\"name\",\"avg_assists\":\"value\"}).to_dict('r')\n",
    "hero_list.append(obj)"
   ]
  },
  {
   "cell_type": "markdown",
   "metadata": {},
   "source": [
    "# Hero with the lowest average death:"
   ]
  },
  {
   "cell_type": "code",
   "execution_count": 225,
   "metadata": {},
   "outputs": [
    {
     "name": "stdout",
     "output_type": "stream",
     "text": [
      "      hero_name  avg_deaths\n",
      "52  Lifestealer         2.0\n"
     ]
    }
   ],
   "source": [
    "hero_min_avg_deaths = heroes_5_df[heroes_5_df['avg_deaths']==heroes_5_df['avg_deaths'].min()][['hero_name','avg_deaths']]\n",
    "print(hero_min_avg_deaths)\n",
    "obj = {}\n",
    "obj[\"title\"] = \"Lowest Average deaths\"\n",
    "obj[\"result\"] = hero_min_avg_deaths.rename(columns={\"hero_name\":\"name\",\"avg_deaths\":\"value\"}).to_dict('r')\n",
    "hero_list.append(obj)"
   ]
  },
  {
   "cell_type": "markdown",
   "metadata": {},
   "source": [
    "# Hero with the highest average last hit:"
   ]
  },
  {
   "cell_type": "code",
   "execution_count": 226,
   "metadata": {},
   "outputs": [
    {
     "name": "stdout",
     "output_type": "stream",
     "text": [
      "     hero_name  avg_last_hits\n",
      "87  Naga Siren     542.478261\n"
     ]
    }
   ],
   "source": [
    "hero_max_avg_last_hits = heroes_5_df[heroes_5_df['avg_last_hits']==heroes_5_df['avg_last_hits'].max()][['hero_name','avg_last_hits']]\n",
    "print(hero_max_avg_last_hits)\n",
    "obj = {}\n",
    "obj[\"title\"] = \"Highest Average Last hits\"\n",
    "obj[\"result\"] = hero_max_avg_last_hits.rename(columns={\"hero_name\":\"name\",\"avg_last_hits\":\"value\"}).to_dict('r')\n",
    "hero_list.append(obj)"
   ]
  },
  {
   "cell_type": "markdown",
   "metadata": {},
   "source": [
    "# Hero with the highest average xp per minute:"
   ]
  },
  {
   "cell_type": "code",
   "execution_count": 227,
   "metadata": {},
   "outputs": [
    {
     "name": "stdout",
     "output_type": "stream",
     "text": [
      "      hero_name  avg_xp_per_min\n",
      "111  Arc Warden           783.0\n"
     ]
    }
   ],
   "source": [
    "hero_max_avg_xp_per_min = heroes_5_df[heroes_5_df['avg_xp_per_min']==heroes_5_df['avg_xp_per_min'].max()][['hero_name','avg_xp_per_min']]\n",
    "print(hero_max_avg_xp_per_min)\n",
    "obj = {}\n",
    "obj[\"title\"] = \"Highest Average XPM\"\n",
    "obj[\"result\"] = hero_max_avg_xp_per_min.rename(columns={\"hero_name\":\"name\",\"avg_xp_per_min\":\"value\"}).to_dict('r')\n",
    "hero_list.append(obj)"
   ]
  },
  {
   "cell_type": "markdown",
   "metadata": {},
   "source": [
    "# Hero with the most kills in a game:"
   ]
  },
  {
   "cell_type": "code",
   "execution_count": 228,
   "metadata": {},
   "outputs": [
    {
     "name": "stdout",
     "output_type": "stream",
     "text": [
      "     hero_name  max_kills\n",
      "3  Bloodseeker       25.0\n"
     ]
    }
   ],
   "source": [
    "hero_max_kills = heroes_df[heroes_df['max_kills']==heroes_df['max_kills'].max()][['hero_name','max_kills']]\n",
    "print(hero_max_kills)\n",
    "obj = {}\n",
    "obj[\"title\"] = \"Most Kills in a game\"\n",
    "obj[\"result\"] = hero_max_kills.rename(columns={\"hero_name\":\"name\",\"max_kills\":\"value\"}).to_dict('r')\n",
    "hero_list.append(obj)"
   ]
  },
  {
   "cell_type": "markdown",
   "metadata": {},
   "source": [
    "# Hero with the most last hits in a game:"
   ]
  },
  {
   "cell_type": "code",
   "execution_count": 229,
   "metadata": {},
   "outputs": [
    {
     "name": "stdout",
     "output_type": "stream",
     "text": [
      "     hero_name  max_last_hits\n",
      "87  Naga Siren         1196.0\n"
     ]
    }
   ],
   "source": [
    "hero_max_last_hits = heroes_df[heroes_df['max_last_hits']==heroes_df['max_last_hits'].max()][['hero_name','max_last_hits']]\n",
    "print(hero_max_last_hits)\n",
    "obj = {}\n",
    "obj[\"title\"] = \"Most Last Hits in a game\"\n",
    "obj[\"result\"] = hero_max_last_hits.rename(columns={\"hero_name\":\"name\",\"max_last_hits\":\"value\"}).to_dict('r')\n",
    "hero_list.append(obj)"
   ]
  },
  {
   "cell_type": "markdown",
   "metadata": {},
   "source": [
    "# Player with the highest kill average:"
   ]
  },
  {
   "cell_type": "code",
   "execution_count": 230,
   "metadata": {},
   "outputs": [
    {
     "name": "stdout",
     "output_type": "stream",
     "text": [
      "        name  avg_kills\n",
      "2284  Pakazs   9.705882\n"
     ]
    }
   ],
   "source": [
    "player_max_avg_kills = players_df[players_df['avg_kills']==players_df['avg_kills'].max()][['name','avg_kills']]\n",
    "print(player_max_avg_kills)\n",
    "obj = {}\n",
    "obj[\"title\"] = \"Highest Average Kills\"\n",
    "obj[\"result\"] = player_max_avg_kills.rename(columns={\"avg_kills\":\"value\"}).to_dict('r')\n",
    "player_list.append(obj)"
   ]
  },
  {
   "cell_type": "markdown",
   "metadata": {},
   "source": [
    "# Player with the highest assist average:"
   ]
  },
  {
   "cell_type": "code",
   "execution_count": 231,
   "metadata": {},
   "outputs": [
    {
     "name": "stdout",
     "output_type": "stream",
     "text": [
      "      name  avg_assists\n",
      "656  Saksa    17.176471\n"
     ]
    }
   ],
   "source": [
    "player_max_avg_assists = players_df[players_df['avg_assists']==players_df['avg_assists'].max()][['name','avg_assists']]\n",
    "print(player_max_avg_assists)\n",
    "obj = {}\n",
    "obj[\"title\"] = \"Highest Average Assists\"\n",
    "obj[\"result\"] = player_max_avg_assists.rename(columns={\"avg_assists\":\"value\"}).to_dict('r')\n",
    "player_list.append(obj)"
   ]
  },
  {
   "cell_type": "markdown",
   "metadata": {},
   "source": [
    "# Player with the lowest death average:"
   ]
  },
  {
   "cell_type": "code",
   "execution_count": 232,
   "metadata": {},
   "outputs": [
    {
     "name": "stdout",
     "output_type": "stream",
     "text": [
      "             name  avg_deaths\n",
      "1056  Nightfall 凛    1.833333\n"
     ]
    }
   ],
   "source": [
    "player_min_avg_deaths = players_df[players_df['avg_deaths']==players_df['avg_deaths'].min()][['name','avg_deaths']]\n",
    "print(player_min_avg_deaths)\n",
    "obj = {}\n",
    "obj[\"title\"] = \"Lowest Average Deaths\"\n",
    "obj[\"result\"] = player_min_avg_deaths.rename(columns={\"avg_deaths\":\"value\"}).to_dict('r')\n",
    "player_list.append(obj)"
   ]
  },
  {
   "cell_type": "markdown",
   "metadata": {},
   "source": [
    "# Player with the highest last hit average:"
   ]
  },
  {
   "cell_type": "code",
   "execution_count": 233,
   "metadata": {},
   "outputs": [
    {
     "name": "stdout",
     "output_type": "stream",
     "text": [
      "          name  avg_last_hits\n",
      "2454  JACKBOYS     444.111111\n"
     ]
    }
   ],
   "source": [
    "player_max_avg_last_hits = players_df[players_df['avg_last_hits']==players_df['avg_last_hits'].max()][['name','avg_last_hits']]\n",
    "print(player_max_avg_last_hits)\n",
    "obj = {}\n",
    "obj[\"title\"] = \"Highest Average Last Hits\"\n",
    "obj[\"result\"] = player_max_avg_last_hits.rename(columns={\"avg_last_hits\":\"value\"}).to_dict('r')\n",
    "player_list.append(obj)"
   ]
  },
  {
   "cell_type": "markdown",
   "metadata": {},
   "source": [
    "# Player with the highest GPM average:"
   ]
  },
  {
   "cell_type": "code",
   "execution_count": 234,
   "metadata": {},
   "outputs": [
    {
     "name": "stdout",
     "output_type": "stream",
     "text": [
      "        name  avg_xp_per_min\n",
      "2284  Pakazs      796.294118\n"
     ]
    }
   ],
   "source": [
    "player_max_avg_xp_per_min = players_df[players_df['avg_xp_per_min']==players_df['avg_xp_per_min'].max()][['name','avg_xp_per_min']]\n",
    "print(player_max_avg_xp_per_min)\n",
    "obj = {}\n",
    "obj[\"title\"] = \"Highest Average XPM\"\n",
    "obj[\"result\"] = player_max_avg_xp_per_min.rename(columns={\"avg_xp_per_min\":\"value\"}).to_dict('r')\n",
    "player_list.append(obj)"
   ]
  },
  {
   "cell_type": "markdown",
   "metadata": {},
   "source": [
    "# Player with the most kills:"
   ]
  },
  {
   "cell_type": "code",
   "execution_count": 235,
   "metadata": {},
   "outputs": [
    {
     "name": "stdout",
     "output_type": "stream",
     "text": [
      "            name  max_kills\n",
      "1098  Crystallis       25.0\n"
     ]
    }
   ],
   "source": [
    "player_max_max_kills = players_df[players_df['max_kills']==players_df['max_kills'].max()][['name','max_kills']]\n",
    "print(player_max_max_kills)\n",
    "obj = {}\n",
    "obj[\"title\"] = \"Most Kills in a game\"\n",
    "obj[\"result\"] = player_max_max_kills.rename(columns={\"max_kills\":\"value\"}).to_dict('r')\n",
    "player_list.append(obj)"
   ]
  },
  {
   "cell_type": "markdown",
   "metadata": {},
   "source": [
    "# Player with the most assists:"
   ]
  },
  {
   "cell_type": "code",
   "execution_count": 236,
   "metadata": {},
   "outputs": [
    {
     "name": "stdout",
     "output_type": "stream",
     "text": [
      "        name  max_assists\n",
      "1418    TIMS         39.0\n",
      "1454  RodjER         39.0\n"
     ]
    }
   ],
   "source": [
    "player_max_max_assists = players_df[players_df['max_assists']==players_df['max_assists'].max()][['name','max_assists']]\n",
    "print(player_max_max_assists)\n",
    "obj = {}\n",
    "obj[\"title\"] = \"Most Assists in a game\"\n",
    "obj[\"result\"] = player_max_max_assists.rename(columns={\"max_assists\":\"value\"}).to_dict('r')\n",
    "player_list.append(obj)"
   ]
  },
  {
   "cell_type": "markdown",
   "metadata": {},
   "source": [
    "# Player with the most last hits:"
   ]
  },
  {
   "cell_type": "code",
   "execution_count": 237,
   "metadata": {},
   "outputs": [
    {
     "name": "stdout",
     "output_type": "stream",
     "text": [
      "       name  max_last_hits\n",
      "1340  Monet         1196.0\n"
     ]
    }
   ],
   "source": [
    "player_max_max_last_hits = players_df[players_df['max_last_hits']==players_df['max_last_hits'].max()][['name','max_last_hits']]\n",
    "print(player_max_max_last_hits)\n",
    "obj = {}\n",
    "obj[\"title\"] = \"Most Last Hits in a game\"\n",
    "obj[\"result\"] = player_max_max_last_hits.rename(columns={\"max_last_hits\":\"value\"}).to_dict('r')\n",
    "player_list.append(obj)"
   ]
  },
  {
   "cell_type": "markdown",
   "metadata": {},
   "source": [
    "# Player with the most GPM:"
   ]
  },
  {
   "cell_type": "code",
   "execution_count": 238,
   "metadata": {},
   "outputs": [
    {
     "name": "stdout",
     "output_type": "stream",
     "text": [
      "        name  max_gold_per_min\n",
      "1539  Yuragi            1034.0\n"
     ]
    }
   ],
   "source": [
    "player_max_max_gold_per_min = players_df[players_df['max_gold_per_min']==players_df['max_gold_per_min'].max()][['name','max_gold_per_min']]\n",
    "print(player_max_max_gold_per_min)\n",
    "obj = {}\n",
    "obj[\"title\"] = \"Most GPM in a game\"\n",
    "obj[\"result\"] = player_max_max_gold_per_min.rename(columns={\"max_gold_per_min\":\"value\"}).to_dict('r')\n",
    "player_list.append(obj)"
   ]
  },
  {
   "cell_type": "markdown",
   "metadata": {},
   "source": [
    "# Player with the most different heroes:"
   ]
  },
  {
   "cell_type": "code",
   "execution_count": 239,
   "metadata": {},
   "outputs": [
    {
     "name": "stdout",
     "output_type": "stream",
     "text": [
      "        name  unique_heroes\n",
      "1539  Yuragi           16.0\n"
     ]
    }
   ],
   "source": [
    "player_max_unique_heroes = players_df[players_df['unique_heroes']==players_df['unique_heroes'].max()][['name','unique_heroes']]\n",
    "print(player_max_unique_heroes)\n",
    "obj = {}\n",
    "obj[\"title\"] = \"Most Different Heroes\"\n",
    "obj[\"result\"] = player_max_unique_heroes.rename(columns={\"unique_heroes\":\"value\"}).to_dict('r')\n",
    "player_list.append(obj)"
   ]
  },
  {
   "cell_type": "markdown",
   "metadata": {},
   "source": [
    "# Team with the most kills in a game:"
   ]
  },
  {
   "cell_type": "code",
   "execution_count": 240,
   "metadata": {},
   "outputs": [
    {
     "data": {
      "text/html": [
       "<div>\n",
       "<style scoped>\n",
       "    .dataframe tbody tr th:only-of-type {\n",
       "        vertical-align: middle;\n",
       "    }\n",
       "\n",
       "    .dataframe tbody tr th {\n",
       "        vertical-align: top;\n",
       "    }\n",
       "\n",
       "    .dataframe thead th {\n",
       "        text-align: right;\n",
       "    }\n",
       "</style>\n",
       "<table border=\"1\" class=\"dataframe\">\n",
       "  <thead>\n",
       "    <tr style=\"text-align: right;\">\n",
       "      <th></th>\n",
       "      <th>name</th>\n",
       "      <th>max_kills</th>\n",
       "    </tr>\n",
       "  </thead>\n",
       "  <tbody>\n",
       "    <tr>\n",
       "      <th>8</th>\n",
       "      <td>BetBoom Team</td>\n",
       "      <td>57</td>\n",
       "    </tr>\n",
       "  </tbody>\n",
       "</table>\n",
       "</div>"
      ],
      "text/plain": [
       "           name  max_kills\n",
       "8  BetBoom Team         57"
      ]
     },
     "execution_count": 240,
     "metadata": {},
     "output_type": "execute_result"
    }
   ],
   "source": [
    "ti_teams_df[ti_teams_df['max_kills']==ti_teams_df['max_kills'].max()][['name','max_kills']]"
   ]
  },
  {
   "cell_type": "markdown",
   "metadata": {},
   "source": [
    "# Team with the highest kill average:"
   ]
  },
  {
   "cell_type": "code",
   "execution_count": 241,
   "metadata": {},
   "outputs": [
    {
     "data": {
      "text/html": [
       "<div>\n",
       "<style scoped>\n",
       "    .dataframe tbody tr th:only-of-type {\n",
       "        vertical-align: middle;\n",
       "    }\n",
       "\n",
       "    .dataframe tbody tr th {\n",
       "        vertical-align: top;\n",
       "    }\n",
       "\n",
       "    .dataframe thead th {\n",
       "        text-align: right;\n",
       "    }\n",
       "</style>\n",
       "<table border=\"1\" class=\"dataframe\">\n",
       "  <thead>\n",
       "    <tr style=\"text-align: right;\">\n",
       "      <th></th>\n",
       "      <th>name</th>\n",
       "      <th>avg_kills</th>\n",
       "    </tr>\n",
       "  </thead>\n",
       "  <tbody>\n",
       "    <tr>\n",
       "      <th>18</th>\n",
       "      <td>Thunder Awaken</td>\n",
       "      <td>29.411765</td>\n",
       "    </tr>\n",
       "  </tbody>\n",
       "</table>\n",
       "</div>"
      ],
      "text/plain": [
       "              name  avg_kills\n",
       "18  Thunder Awaken  29.411765"
      ]
     },
     "execution_count": 241,
     "metadata": {},
     "output_type": "execute_result"
    }
   ],
   "source": [
    "ti_teams_df[ti_teams_df['avg_kills']==ti_teams_df['avg_kills'].max()][['name','avg_kills']]"
   ]
  },
  {
   "cell_type": "markdown",
   "metadata": {},
   "source": [
    "# Team with the least deaths in a game:"
   ]
  },
  {
   "cell_type": "code",
   "execution_count": 242,
   "metadata": {},
   "outputs": [
    {
     "data": {
      "text/html": [
       "<div>\n",
       "<style scoped>\n",
       "    .dataframe tbody tr th:only-of-type {\n",
       "        vertical-align: middle;\n",
       "    }\n",
       "\n",
       "    .dataframe tbody tr th {\n",
       "        vertical-align: top;\n",
       "    }\n",
       "\n",
       "    .dataframe thead th {\n",
       "        text-align: right;\n",
       "    }\n",
       "</style>\n",
       "<table border=\"1\" class=\"dataframe\">\n",
       "  <thead>\n",
       "    <tr style=\"text-align: right;\">\n",
       "      <th></th>\n",
       "      <th>name</th>\n",
       "      <th>min_deaths</th>\n",
       "    </tr>\n",
       "  </thead>\n",
       "  <tbody>\n",
       "    <tr>\n",
       "      <th>2</th>\n",
       "      <td>Soniqs</td>\n",
       "      <td>3</td>\n",
       "    </tr>\n",
       "    <tr>\n",
       "      <th>4</th>\n",
       "      <td>TSM FTX</td>\n",
       "      <td>3</td>\n",
       "    </tr>\n",
       "    <tr>\n",
       "      <th>15</th>\n",
       "      <td>Team Aster</td>\n",
       "      <td>3</td>\n",
       "    </tr>\n",
       "  </tbody>\n",
       "</table>\n",
       "</div>"
      ],
      "text/plain": [
       "          name  min_deaths\n",
       "2       Soniqs           3\n",
       "4      TSM FTX           3\n",
       "15  Team Aster           3"
      ]
     },
     "execution_count": 242,
     "metadata": {},
     "output_type": "execute_result"
    }
   ],
   "source": [
    "ti_teams_df[ti_teams_df['min_deaths']==ti_teams_df['min_deaths'].min()][['name','min_deaths']]"
   ]
  },
  {
   "cell_type": "markdown",
   "metadata": {},
   "source": [
    "# Team with the most assists in a game:"
   ]
  },
  {
   "cell_type": "code",
   "execution_count": 243,
   "metadata": {},
   "outputs": [
    {
     "data": {
      "text/html": [
       "<div>\n",
       "<style scoped>\n",
       "    .dataframe tbody tr th:only-of-type {\n",
       "        vertical-align: middle;\n",
       "    }\n",
       "\n",
       "    .dataframe tbody tr th {\n",
       "        vertical-align: top;\n",
       "    }\n",
       "\n",
       "    .dataframe thead th {\n",
       "        text-align: right;\n",
       "    }\n",
       "</style>\n",
       "<table border=\"1\" class=\"dataframe\">\n",
       "  <thead>\n",
       "    <tr style=\"text-align: right;\">\n",
       "      <th></th>\n",
       "      <th>name</th>\n",
       "      <th>max_assists</th>\n",
       "    </tr>\n",
       "  </thead>\n",
       "  <tbody>\n",
       "    <tr>\n",
       "      <th>8</th>\n",
       "      <td>BetBoom Team</td>\n",
       "      <td>157</td>\n",
       "    </tr>\n",
       "  </tbody>\n",
       "</table>\n",
       "</div>"
      ],
      "text/plain": [
       "           name  max_assists\n",
       "8  BetBoom Team          157"
      ]
     },
     "execution_count": 243,
     "metadata": {},
     "output_type": "execute_result"
    }
   ],
   "source": [
    "team_most_assists = ti_teams_df[ti_teams_df['max_assists']==ti_teams_df['max_assists'].max()][['name','max_assists']]\n",
    "team_most_assists"
   ]
  },
  {
   "cell_type": "markdown",
   "metadata": {},
   "source": [
    "# Team who wins the longest game:"
   ]
  },
  {
   "cell_type": "code",
   "execution_count": 244,
   "metadata": {},
   "outputs": [
    {
     "data": {
      "text/html": [
       "<div>\n",
       "<style scoped>\n",
       "    .dataframe tbody tr th:only-of-type {\n",
       "        vertical-align: middle;\n",
       "    }\n",
       "\n",
       "    .dataframe tbody tr th {\n",
       "        vertical-align: top;\n",
       "    }\n",
       "\n",
       "    .dataframe thead th {\n",
       "        text-align: right;\n",
       "    }\n",
       "</style>\n",
       "<table border=\"1\" class=\"dataframe\">\n",
       "  <thead>\n",
       "    <tr style=\"text-align: right;\">\n",
       "      <th></th>\n",
       "      <th>team_winner</th>\n",
       "      <th>duration_minutes</th>\n",
       "    </tr>\n",
       "  </thead>\n",
       "  <tbody>\n",
       "    <tr>\n",
       "      <th>102</th>\n",
       "      <td>BetBoom Team</td>\n",
       "      <td>1:14:33</td>\n",
       "    </tr>\n",
       "  </tbody>\n",
       "</table>\n",
       "</div>"
      ],
      "text/plain": [
       "      team_winner duration_minutes\n",
       "102  BetBoom Team          1:14:33"
      ]
     },
     "execution_count": 244,
     "metadata": {},
     "output_type": "execute_result"
    }
   ],
   "source": [
    "ti_matches_df[ti_matches_df['duration']==ti_matches_df['duration'].max()][['team_winner','duration_minutes']]"
   ]
  },
  {
   "cell_type": "markdown",
   "metadata": {},
   "source": [
    "# Team who wins the shortest game:"
   ]
  },
  {
   "cell_type": "code",
   "execution_count": 245,
   "metadata": {},
   "outputs": [
    {
     "data": {
      "text/html": [
       "<div>\n",
       "<style scoped>\n",
       "    .dataframe tbody tr th:only-of-type {\n",
       "        vertical-align: middle;\n",
       "    }\n",
       "\n",
       "    .dataframe tbody tr th {\n",
       "        vertical-align: top;\n",
       "    }\n",
       "\n",
       "    .dataframe thead th {\n",
       "        text-align: right;\n",
       "    }\n",
       "</style>\n",
       "<table border=\"1\" class=\"dataframe\">\n",
       "  <thead>\n",
       "    <tr style=\"text-align: right;\">\n",
       "      <th></th>\n",
       "      <th>team_winner</th>\n",
       "      <th>duration_minutes</th>\n",
       "    </tr>\n",
       "  </thead>\n",
       "  <tbody>\n",
       "    <tr>\n",
       "      <th>120</th>\n",
       "      <td>Evil Geniuses</td>\n",
       "      <td>0:17:51</td>\n",
       "    </tr>\n",
       "  </tbody>\n",
       "</table>\n",
       "</div>"
      ],
      "text/plain": [
       "       team_winner duration_minutes\n",
       "120  Evil Geniuses          0:17:51"
      ]
     },
     "execution_count": 245,
     "metadata": {},
     "output_type": "execute_result"
    }
   ],
   "source": [
    "ti_matches_df[ti_matches_df['duration']==ti_matches_df['duration'].min()][['team_winner','duration_minutes']]\n",
    "\n"
   ]
  },
  {
   "cell_type": "markdown",
   "metadata": {},
   "source": [
    "# Team with the highest length average:"
   ]
  },
  {
   "cell_type": "code",
   "execution_count": 246,
   "metadata": {},
   "outputs": [
    {
     "data": {
      "text/html": [
       "<div>\n",
       "<style scoped>\n",
       "    .dataframe tbody tr th:only-of-type {\n",
       "        vertical-align: middle;\n",
       "    }\n",
       "\n",
       "    .dataframe tbody tr th {\n",
       "        vertical-align: top;\n",
       "    }\n",
       "\n",
       "    .dataframe thead th {\n",
       "        text-align: right;\n",
       "    }\n",
       "</style>\n",
       "<table border=\"1\" class=\"dataframe\">\n",
       "  <thead>\n",
       "    <tr style=\"text-align: right;\">\n",
       "      <th></th>\n",
       "      <th>name</th>\n",
       "      <th>avg_length_minutes</th>\n",
       "    </tr>\n",
       "  </thead>\n",
       "  <tbody>\n",
       "    <tr>\n",
       "      <th>8</th>\n",
       "      <td>BetBoom Team</td>\n",
       "      <td>0:44:28</td>\n",
       "    </tr>\n",
       "  </tbody>\n",
       "</table>\n",
       "</div>"
      ],
      "text/plain": [
       "           name avg_length_minutes\n",
       "8  BetBoom Team            0:44:28"
      ]
     },
     "execution_count": 246,
     "metadata": {},
     "output_type": "execute_result"
    }
   ],
   "source": [
    "ti_teams_df[ti_teams_df['avg_length']==ti_teams_df['avg_length'].max()][['name','avg_length_minutes']]"
   ]
  },
  {
   "cell_type": "markdown",
   "metadata": {},
   "source": [
    "# Team with the most different heroes:"
   ]
  },
  {
   "cell_type": "code",
   "execution_count": 247,
   "metadata": {},
   "outputs": [
    {
     "data": {
      "text/html": [
       "<div>\n",
       "<style scoped>\n",
       "    .dataframe tbody tr th:only-of-type {\n",
       "        vertical-align: middle;\n",
       "    }\n",
       "\n",
       "    .dataframe tbody tr th {\n",
       "        vertical-align: top;\n",
       "    }\n",
       "\n",
       "    .dataframe thead th {\n",
       "        text-align: right;\n",
       "    }\n",
       "</style>\n",
       "<table border=\"1\" class=\"dataframe\">\n",
       "  <thead>\n",
       "    <tr style=\"text-align: right;\">\n",
       "      <th></th>\n",
       "      <th>name</th>\n",
       "      <th>unique_heroes</th>\n",
       "    </tr>\n",
       "  </thead>\n",
       "  <tbody>\n",
       "    <tr>\n",
       "      <th>5</th>\n",
       "      <td>PSG.LGD</td>\n",
       "      <td>53</td>\n",
       "    </tr>\n",
       "  </tbody>\n",
       "</table>\n",
       "</div>"
      ],
      "text/plain": [
       "      name  unique_heroes\n",
       "5  PSG.LGD             53"
      ]
     },
     "execution_count": 247,
     "metadata": {},
     "output_type": "execute_result"
    }
   ],
   "source": [
    "ti_teams_df[ti_teams_df['unique_heroes']==ti_teams_df['unique_heroes'].max()][['name','unique_heroes']]"
   ]
  },
  {
   "cell_type": "markdown",
   "metadata": {},
   "source": [
    "# Team with the fewest different heroes:"
   ]
  },
  {
   "cell_type": "code",
   "execution_count": 248,
   "metadata": {},
   "outputs": [
    {
     "data": {
      "text/html": [
       "<div>\n",
       "<style scoped>\n",
       "    .dataframe tbody tr th:only-of-type {\n",
       "        vertical-align: middle;\n",
       "    }\n",
       "\n",
       "    .dataframe tbody tr th {\n",
       "        vertical-align: top;\n",
       "    }\n",
       "\n",
       "    .dataframe thead th {\n",
       "        text-align: right;\n",
       "    }\n",
       "</style>\n",
       "<table border=\"1\" class=\"dataframe\">\n",
       "  <thead>\n",
       "    <tr style=\"text-align: right;\">\n",
       "      <th></th>\n",
       "      <th>name</th>\n",
       "      <th>unique_heroes</th>\n",
       "    </tr>\n",
       "  </thead>\n",
       "  <tbody>\n",
       "    <tr>\n",
       "      <th>11</th>\n",
       "      <td>Entity</td>\n",
       "      <td>31</td>\n",
       "    </tr>\n",
       "  </tbody>\n",
       "</table>\n",
       "</div>"
      ],
      "text/plain": [
       "      name  unique_heroes\n",
       "11  Entity             31"
      ]
     },
     "execution_count": 248,
     "metadata": {},
     "output_type": "execute_result"
    }
   ],
   "source": [
    "ti_teams_df[ti_teams_df['unique_heroes']==ti_teams_df['unique_heroes'].min()][['name','unique_heroes']]"
   ]
  },
  {
   "cell_type": "code",
   "execution_count": 249,
   "metadata": {},
   "outputs": [],
   "source": [
    "df1 = pd.DataFrame(hero_list)\n",
    "df2 = pd.DataFrame(player_list)\n",
    "df1.to_json('hero_list.json',orient='records')\n",
    "df2.to_json('player_list.json',orient='records')"
   ]
  },
  {
   "cell_type": "code",
   "execution_count": 252,
   "metadata": {},
   "outputs": [],
   "source": [
    "import convert\n",
    "convert.create_readme()"
   ]
  },
  {
   "cell_type": "markdown",
   "metadata": {},
   "source": []
  }
 ],
 "metadata": {
  "kernelspec": {
   "display_name": "Python 3.10.4 64-bit",
   "language": "python",
   "name": "python3"
  },
  "language_info": {
   "codemirror_mode": {
    "name": "ipython",
    "version": 3
   },
   "file_extension": ".py",
   "mimetype": "text/x-python",
   "name": "python",
   "nbconvert_exporter": "python",
   "pygments_lexer": "ipython3",
   "version": "3.10.4"
  },
  "orig_nbformat": 4,
  "vscode": {
   "interpreter": {
    "hash": "b0875789e50131ece785c561051e3ec42d59c6f4099ecf266e41000a826b5908"
   }
  }
 },
 "nbformat": 4,
 "nbformat_minor": 2
}
