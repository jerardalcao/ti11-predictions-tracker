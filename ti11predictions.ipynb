{
 "cells": [
  {
   "cell_type": "code",
   "execution_count": 424,
   "metadata": {},
   "outputs": [],
   "source": [
    "import pandas as pd\n",
    "import warnings\n",
    "warnings.filterwarnings(\"ignore\")"
   ]
  },
  {
   "cell_type": "code",
   "execution_count": 425,
   "metadata": {},
   "outputs": [
    {
     "data": {
      "text/plain": [
       "149"
      ]
     },
     "execution_count": 425,
     "metadata": {},
     "output_type": "execute_result"
    }
   ],
   "source": [
    "#load all ti matches\n",
    "matches_df = pd.read_json('all_matches.json')\n",
    "matches_df['match_id'].count()\n",
    "\n"
   ]
  },
  {
   "cell_type": "code",
   "execution_count": 426,
   "metadata": {},
   "outputs": [],
   "source": [
    "# determine winner based on match_id\n",
    "def get_winner(matchid):\n",
    "    match_data = matches_df[matches_df['match_id']==matchid]\n",
    "    radiant_win = match_data['radiant_win'].to_string(index=False)\n",
    "    winner = 1\n",
    "    if radiant_win == 'True':\n",
    "        winner = 0\n",
    "    return winner\n",
    "\n"
   ]
  },
  {
   "cell_type": "code",
   "execution_count": 427,
   "metadata": {},
   "outputs": [
    {
     "data": {
      "text/html": [
       "<div>\n",
       "<style scoped>\n",
       "    .dataframe tbody tr th:only-of-type {\n",
       "        vertical-align: middle;\n",
       "    }\n",
       "\n",
       "    .dataframe tbody tr th {\n",
       "        vertical-align: top;\n",
       "    }\n",
       "\n",
       "    .dataframe thead th {\n",
       "        text-align: right;\n",
       "    }\n",
       "</style>\n",
       "<table border=\"1\" class=\"dataframe\">\n",
       "  <thead>\n",
       "    <tr style=\"text-align: right;\">\n",
       "      <th></th>\n",
       "      <th>id</th>\n",
       "      <th>hero_name</th>\n",
       "    </tr>\n",
       "  </thead>\n",
       "  <tbody>\n",
       "    <tr>\n",
       "      <th>0</th>\n",
       "      <td>1</td>\n",
       "      <td>Anti-Mage</td>\n",
       "    </tr>\n",
       "    <tr>\n",
       "      <th>1</th>\n",
       "      <td>2</td>\n",
       "      <td>Axe</td>\n",
       "    </tr>\n",
       "    <tr>\n",
       "      <th>2</th>\n",
       "      <td>3</td>\n",
       "      <td>Bane</td>\n",
       "    </tr>\n",
       "    <tr>\n",
       "      <th>3</th>\n",
       "      <td>4</td>\n",
       "      <td>Bloodseeker</td>\n",
       "    </tr>\n",
       "    <tr>\n",
       "      <th>4</th>\n",
       "      <td>5</td>\n",
       "      <td>Crystal Maiden</td>\n",
       "    </tr>\n",
       "  </tbody>\n",
       "</table>\n",
       "</div>"
      ],
      "text/plain": [
       "   id       hero_name\n",
       "0   1       Anti-Mage\n",
       "1   2             Axe\n",
       "2   3            Bane\n",
       "3   4     Bloodseeker\n",
       "4   5  Crystal Maiden"
      ]
     },
     "execution_count": 427,
     "metadata": {},
     "output_type": "execute_result"
    }
   ],
   "source": [
    "#define heroes df\n",
    "heroes_df = pd.read_json('heroes.json')\n",
    "heroes_df = heroes_df[['id','localized_name']]\n",
    "heroes_df.rename(columns={\"localized_name\":\"hero_name\"},inplace=True)\n",
    "heroes_df.head()\n"
   ]
  },
  {
   "cell_type": "code",
   "execution_count": 428,
   "metadata": {},
   "outputs": [
    {
     "data": {
      "text/html": [
       "<div>\n",
       "<style scoped>\n",
       "    .dataframe tbody tr th:only-of-type {\n",
       "        vertical-align: middle;\n",
       "    }\n",
       "\n",
       "    .dataframe tbody tr th {\n",
       "        vertical-align: top;\n",
       "    }\n",
       "\n",
       "    .dataframe thead th {\n",
       "        text-align: right;\n",
       "    }\n",
       "</style>\n",
       "<table border=\"1\" class=\"dataframe\">\n",
       "  <thead>\n",
       "    <tr style=\"text-align: right;\">\n",
       "      <th></th>\n",
       "      <th>account_id</th>\n",
       "      <th>personaname</th>\n",
       "      <th>name</th>\n",
       "      <th>team_id</th>\n",
       "      <th>team_name</th>\n",
       "      <th>team_tag</th>\n",
       "    </tr>\n",
       "  </thead>\n",
       "  <tbody>\n",
       "    <tr>\n",
       "      <th>17</th>\n",
       "      <td>10366616</td>\n",
       "      <td>Sneyking</td>\n",
       "      <td>Sneyking</td>\n",
       "      <td>8291895</td>\n",
       "      <td>Tundra Esports</td>\n",
       "      <td>Tundra</td>\n",
       "    </tr>\n",
       "    <tr>\n",
       "      <th>30</th>\n",
       "      <td>16497807</td>\n",
       "      <td>tOfu</td>\n",
       "      <td>tOfu</td>\n",
       "      <td>8599101</td>\n",
       "      <td>Gaimin Gladiators</td>\n",
       "      <td>GG</td>\n",
       "    </tr>\n",
       "    <tr>\n",
       "      <th>52</th>\n",
       "      <td>25907144</td>\n",
       "      <td>Let's Go</td>\n",
       "      <td>Cr1t-</td>\n",
       "      <td>39</td>\n",
       "      <td>Evil Geniuses</td>\n",
       "      <td>EG</td>\n",
       "    </tr>\n",
       "    <tr>\n",
       "      <th>83</th>\n",
       "      <td>38628747</td>\n",
       "      <td>Verissimus</td>\n",
       "      <td>MoonMeander</td>\n",
       "      <td>8260983</td>\n",
       "      <td>TSM FTX</td>\n",
       "      <td>TSM FTX</td>\n",
       "    </tr>\n",
       "    <tr>\n",
       "      <th>91</th>\n",
       "      <td>40547474</td>\n",
       "      <td>Aui_2000</td>\n",
       "      <td>Aui_2000</td>\n",
       "      <td>8291895</td>\n",
       "      <td>Tundra Esports</td>\n",
       "      <td>Tundra</td>\n",
       "    </tr>\n",
       "  </tbody>\n",
       "</table>\n",
       "</div>"
      ],
      "text/plain": [
       "    account_id personaname         name  team_id          team_name team_tag\n",
       "17    10366616    Sneyking     Sneyking  8291895     Tundra Esports   Tundra\n",
       "30    16497807        tOfu         tOfu  8599101  Gaimin Gladiators       GG\n",
       "52    25907144    Let's Go        Cr1t-       39      Evil Geniuses       EG\n",
       "83    38628747  Verissimus  MoonMeander  8260983            TSM FTX  TSM FTX\n",
       "91    40547474    Aui_2000     Aui_2000  8291895    Tundra Esports    Tundra"
      ]
     },
     "execution_count": 428,
     "metadata": {},
     "output_type": "execute_result"
    }
   ],
   "source": [
    "# define players df\n",
    "ti_teams_df= pd.read_json('teams.json')\n",
    "ti_teams = list(ti_teams_df['team_id'])\n",
    "players_df = pd.read_json('proPlayers.json')\n",
    "players_df = players_df[['account_id','personaname','name','team_id','team_name','team_tag']]\n",
    "players_df = players_df[players_df['team_id'].isin(ti_teams)]\n",
    "players_df.head()"
   ]
  },
  {
   "cell_type": "code",
   "execution_count": 429,
   "metadata": {},
   "outputs": [],
   "source": [
    "#create pickbans df\n",
    "picks_bans = matches_df.set_index('match_id').to_dict()['picks_bans']\n",
    "picks = []\n",
    "bans = []\n",
    "for i in picks_bans:\n",
    "    winner = get_winner(i)\n",
    "    for j in picks_bans[i]:\n",
    "        if j['is_pick']:\n",
    "            pick = {}\n",
    "            pick['match_id'] = i\n",
    "            pick['order'] = j['order']\n",
    "            pick['hero_id'] = j['hero_id']\n",
    "            pick['team'] = j['team']\n",
    "            if winner == j['team']:\n",
    "                pick['win'] = 1\n",
    "            else:\n",
    "                pick['win'] = 0\n",
    "            picks.append(pick)\n",
    "        elif not j['is_pick']:\n",
    "            ban = {}\n",
    "            ban['match_id'] = i\n",
    "            ban['order'] = j['order']\n",
    "            ban['hero_id'] = j['hero_id']\n",
    "            ban['team'] = j['team']\n",
    "            bans.append(ban)"
   ]
  },
  {
   "cell_type": "code",
   "execution_count": 430,
   "metadata": {},
   "outputs": [
    {
     "data": {
      "text/html": [
       "<div>\n",
       "<style scoped>\n",
       "    .dataframe tbody tr th:only-of-type {\n",
       "        vertical-align: middle;\n",
       "    }\n",
       "\n",
       "    .dataframe tbody tr th {\n",
       "        vertical-align: top;\n",
       "    }\n",
       "\n",
       "    .dataframe thead th {\n",
       "        text-align: right;\n",
       "    }\n",
       "</style>\n",
       "<table border=\"1\" class=\"dataframe\">\n",
       "  <thead>\n",
       "    <tr style=\"text-align: right;\">\n",
       "      <th></th>\n",
       "      <th>id</th>\n",
       "      <th>hero_name</th>\n",
       "      <th>pick_count</th>\n",
       "      <th>wins</th>\n",
       "      <th>winrate</th>\n",
       "      <th>ban_count</th>\n",
       "    </tr>\n",
       "  </thead>\n",
       "  <tbody>\n",
       "    <tr>\n",
       "      <th>0</th>\n",
       "      <td>1</td>\n",
       "      <td>Anti-Mage</td>\n",
       "      <td>2.0</td>\n",
       "      <td>1.0</td>\n",
       "      <td>50.00</td>\n",
       "      <td>1.0</td>\n",
       "    </tr>\n",
       "    <tr>\n",
       "      <th>1</th>\n",
       "      <td>2</td>\n",
       "      <td>Axe</td>\n",
       "      <td>4.0</td>\n",
       "      <td>1.0</td>\n",
       "      <td>25.00</td>\n",
       "      <td>2.0</td>\n",
       "    </tr>\n",
       "    <tr>\n",
       "      <th>2</th>\n",
       "      <td>3</td>\n",
       "      <td>Bane</td>\n",
       "      <td>7.0</td>\n",
       "      <td>3.0</td>\n",
       "      <td>42.86</td>\n",
       "      <td>1.0</td>\n",
       "    </tr>\n",
       "    <tr>\n",
       "      <th>3</th>\n",
       "      <td>4</td>\n",
       "      <td>Bloodseeker</td>\n",
       "      <td>5.0</td>\n",
       "      <td>1.0</td>\n",
       "      <td>20.00</td>\n",
       "      <td>42.0</td>\n",
       "    </tr>\n",
       "    <tr>\n",
       "      <th>4</th>\n",
       "      <td>5</td>\n",
       "      <td>Crystal Maiden</td>\n",
       "      <td>31.0</td>\n",
       "      <td>24.0</td>\n",
       "      <td>77.42</td>\n",
       "      <td>3.0</td>\n",
       "    </tr>\n",
       "  </tbody>\n",
       "</table>\n",
       "</div>"
      ],
      "text/plain": [
       "   id       hero_name  pick_count  wins  winrate  ban_count\n",
       "0   1       Anti-Mage         2.0   1.0    50.00        1.0\n",
       "1   2             Axe         4.0   1.0    25.00        2.0\n",
       "2   3            Bane         7.0   3.0    42.86        1.0\n",
       "3   4     Bloodseeker         5.0   1.0    20.00       42.0\n",
       "4   5  Crystal Maiden        31.0  24.0    77.42        3.0"
      ]
     },
     "execution_count": 430,
     "metadata": {},
     "output_type": "execute_result"
    }
   ],
   "source": [
    "picks_df = pd.DataFrame(picks)\n",
    "heroes_df['pick_count'] = heroes_df['id'].map(picks_df['hero_id'].value_counts())\n",
    "wins = picks_df[['hero_id','win']].groupby(['hero_id']).sum()\n",
    "wins = wins.to_dict()\n",
    "heroes_df['wins'] = heroes_df['id'].map(wins['win'])\n",
    "heroes_df['winrate'] = round(heroes_df['wins'] / heroes_df['pick_count'] * 100,2)\n",
    "\n",
    "bans_df = pd.DataFrame(bans)\n",
    "heroes_df['ban_count'] = heroes_df['id'].map(bans_df['hero_id'].value_counts())\n",
    "\n",
    "\n",
    "heroes_df.head()"
   ]
  },
  {
   "cell_type": "code",
   "execution_count": 431,
   "metadata": {},
   "outputs": [
    {
     "data": {
      "text/html": [
       "<div>\n",
       "<style scoped>\n",
       "    .dataframe tbody tr th:only-of-type {\n",
       "        vertical-align: middle;\n",
       "    }\n",
       "\n",
       "    .dataframe tbody tr th {\n",
       "        vertical-align: top;\n",
       "    }\n",
       "\n",
       "    .dataframe thead th {\n",
       "        text-align: right;\n",
       "    }\n",
       "</style>\n",
       "<table border=\"1\" class=\"dataframe\">\n",
       "  <thead>\n",
       "    <tr style=\"text-align: right;\">\n",
       "      <th></th>\n",
       "      <th>match_id</th>\n",
       "      <th>account_id</th>\n",
       "      <th>hero_id</th>\n",
       "      <th>kills</th>\n",
       "      <th>deaths</th>\n",
       "      <th>assists</th>\n",
       "      <th>last_hits</th>\n",
       "      <th>xp_per_min</th>\n",
       "      <th>gold_per_min</th>\n",
       "      <th>team_id</th>\n",
       "    </tr>\n",
       "  </thead>\n",
       "  <tbody>\n",
       "    <tr>\n",
       "      <th>0</th>\n",
       "      <td>6806663153</td>\n",
       "      <td>86799300</td>\n",
       "      <td>102</td>\n",
       "      <td>0</td>\n",
       "      <td>4</td>\n",
       "      <td>7</td>\n",
       "      <td>51</td>\n",
       "      <td>361</td>\n",
       "      <td>222</td>\n",
       "      <td>7390454</td>\n",
       "    </tr>\n",
       "    <tr>\n",
       "      <th>1</th>\n",
       "      <td>6806663153</td>\n",
       "      <td>221666230</td>\n",
       "      <td>52</td>\n",
       "      <td>6</td>\n",
       "      <td>4</td>\n",
       "      <td>5</td>\n",
       "      <td>300</td>\n",
       "      <td>578</td>\n",
       "      <td>526</td>\n",
       "      <td>7390454</td>\n",
       "    </tr>\n",
       "    <tr>\n",
       "      <th>2</th>\n",
       "      <td>6806663153</td>\n",
       "      <td>87063175</td>\n",
       "      <td>137</td>\n",
       "      <td>6</td>\n",
       "      <td>4</td>\n",
       "      <td>6</td>\n",
       "      <td>178</td>\n",
       "      <td>462</td>\n",
       "      <td>378</td>\n",
       "      <td>7390454</td>\n",
       "    </tr>\n",
       "    <tr>\n",
       "      <th>3</th>\n",
       "      <td>6806663153</td>\n",
       "      <td>108452107</td>\n",
       "      <td>10</td>\n",
       "      <td>2</td>\n",
       "      <td>0</td>\n",
       "      <td>1</td>\n",
       "      <td>331</td>\n",
       "      <td>647</td>\n",
       "      <td>535</td>\n",
       "      <td>7390454</td>\n",
       "    </tr>\n",
       "    <tr>\n",
       "      <th>4</th>\n",
       "      <td>6806663153</td>\n",
       "      <td>86726887</td>\n",
       "      <td>128</td>\n",
       "      <td>2</td>\n",
       "      <td>6</td>\n",
       "      <td>10</td>\n",
       "      <td>42</td>\n",
       "      <td>301</td>\n",
       "      <td>187</td>\n",
       "      <td>7390454</td>\n",
       "    </tr>\n",
       "  </tbody>\n",
       "</table>\n",
       "</div>"
      ],
      "text/plain": [
       "     match_id  account_id  hero_id  kills  deaths  assists  last_hits  \\\n",
       "0  6806663153    86799300      102      0       4        7         51   \n",
       "1  6806663153   221666230       52      6       4        5        300   \n",
       "2  6806663153    87063175      137      6       4        6        178   \n",
       "3  6806663153   108452107       10      2       0        1        331   \n",
       "4  6806663153    86726887      128      2       6       10         42   \n",
       "\n",
       "   xp_per_min  gold_per_min  team_id  \n",
       "0         361           222  7390454  \n",
       "1         578           526  7390454  \n",
       "2         462           378  7390454  \n",
       "3         647           535  7390454  \n",
       "4         301           187  7390454  "
      ]
     },
     "execution_count": 431,
     "metadata": {},
     "output_type": "execute_result"
    }
   ],
   "source": [
    "#create hero stats\n",
    "players = matches_df.set_index('match_id').to_dict()['players']\n",
    "hero_stats = []\n",
    "for i in players:\n",
    "    for j in players[i]:\n",
    "        hero_stat = {}\n",
    "        hero_stat['match_id'] = j['match_id']\n",
    "        hero_stat['account_id'] = j['account_id']\n",
    "        hero_stat['hero_id'] = j['hero_id']\n",
    "        hero_stat['kills'] = j['kills']\n",
    "        hero_stat['deaths'] = j['deaths']\n",
    "        hero_stat['assists'] = j['assists']\n",
    "        hero_stat['last_hits'] = j['last_hits']\n",
    "        hero_stat['xp_per_min'] = j['xp_per_min']\n",
    "        hero_stat['gold_per_min'] = j['gold_per_min']\n",
    "        hero_stats.append(hero_stat)\n",
    "hero_stats_df = pd.DataFrame(hero_stats)\n",
    "players_teams = players_df.set_index('account_id').to_dict()['team_id']\n",
    "hero_stats_df['team_id'] = hero_stats_df['account_id'].map(players_teams) \n",
    "\n",
    "hero_stats_df.head()"
   ]
  },
  {
   "cell_type": "code",
   "execution_count": 432,
   "metadata": {},
   "outputs": [
    {
     "data": {
      "text/html": [
       "<div>\n",
       "<style scoped>\n",
       "    .dataframe tbody tr th:only-of-type {\n",
       "        vertical-align: middle;\n",
       "    }\n",
       "\n",
       "    .dataframe tbody tr th {\n",
       "        vertical-align: top;\n",
       "    }\n",
       "\n",
       "    .dataframe thead th {\n",
       "        text-align: right;\n",
       "    }\n",
       "</style>\n",
       "<table border=\"1\" class=\"dataframe\">\n",
       "  <thead>\n",
       "    <tr style=\"text-align: right;\">\n",
       "      <th></th>\n",
       "      <th>id</th>\n",
       "      <th>hero_name</th>\n",
       "      <th>pick_count</th>\n",
       "      <th>wins</th>\n",
       "      <th>winrate</th>\n",
       "      <th>ban_count</th>\n",
       "      <th>avg_kills</th>\n",
       "      <th>max_kills</th>\n",
       "      <th>avg_deaths</th>\n",
       "      <th>min_deaths</th>\n",
       "      <th>avg_assists</th>\n",
       "      <th>max_assists</th>\n",
       "      <th>avg_last_hits</th>\n",
       "      <th>max_last_hits</th>\n",
       "      <th>avg_xp_per_min</th>\n",
       "      <th>avg_gold_per_min</th>\n",
       "    </tr>\n",
       "  </thead>\n",
       "  <tbody>\n",
       "    <tr>\n",
       "      <th>0</th>\n",
       "      <td>1</td>\n",
       "      <td>Anti-Mage</td>\n",
       "      <td>2.0</td>\n",
       "      <td>1.0</td>\n",
       "      <td>50.00</td>\n",
       "      <td>1.0</td>\n",
       "      <td>5.500000</td>\n",
       "      <td>7.0</td>\n",
       "      <td>5.000000</td>\n",
       "      <td>4.0</td>\n",
       "      <td>9.000000</td>\n",
       "      <td>13.0</td>\n",
       "      <td>496.500000</td>\n",
       "      <td>522.0</td>\n",
       "      <td>853.500000</td>\n",
       "      <td>694.500000</td>\n",
       "    </tr>\n",
       "    <tr>\n",
       "      <th>1</th>\n",
       "      <td>2</td>\n",
       "      <td>Axe</td>\n",
       "      <td>4.0</td>\n",
       "      <td>1.0</td>\n",
       "      <td>25.00</td>\n",
       "      <td>2.0</td>\n",
       "      <td>4.500000</td>\n",
       "      <td>8.0</td>\n",
       "      <td>4.250000</td>\n",
       "      <td>0.0</td>\n",
       "      <td>4.500000</td>\n",
       "      <td>10.0</td>\n",
       "      <td>203.250000</td>\n",
       "      <td>236.0</td>\n",
       "      <td>544.000000</td>\n",
       "      <td>440.500000</td>\n",
       "    </tr>\n",
       "    <tr>\n",
       "      <th>2</th>\n",
       "      <td>3</td>\n",
       "      <td>Bane</td>\n",
       "      <td>7.0</td>\n",
       "      <td>3.0</td>\n",
       "      <td>42.86</td>\n",
       "      <td>1.0</td>\n",
       "      <td>1.142857</td>\n",
       "      <td>4.0</td>\n",
       "      <td>5.571429</td>\n",
       "      <td>2.0</td>\n",
       "      <td>12.428571</td>\n",
       "      <td>20.0</td>\n",
       "      <td>47.142857</td>\n",
       "      <td>146.0</td>\n",
       "      <td>388.857143</td>\n",
       "      <td>263.857143</td>\n",
       "    </tr>\n",
       "    <tr>\n",
       "      <th>3</th>\n",
       "      <td>4</td>\n",
       "      <td>Bloodseeker</td>\n",
       "      <td>5.0</td>\n",
       "      <td>1.0</td>\n",
       "      <td>20.00</td>\n",
       "      <td>42.0</td>\n",
       "      <td>13.000000</td>\n",
       "      <td>25.0</td>\n",
       "      <td>4.000000</td>\n",
       "      <td>2.0</td>\n",
       "      <td>9.800000</td>\n",
       "      <td>13.0</td>\n",
       "      <td>385.600000</td>\n",
       "      <td>573.0</td>\n",
       "      <td>666.600000</td>\n",
       "      <td>594.800000</td>\n",
       "    </tr>\n",
       "    <tr>\n",
       "      <th>4</th>\n",
       "      <td>5</td>\n",
       "      <td>Crystal Maiden</td>\n",
       "      <td>31.0</td>\n",
       "      <td>24.0</td>\n",
       "      <td>77.42</td>\n",
       "      <td>3.0</td>\n",
       "      <td>2.483871</td>\n",
       "      <td>5.0</td>\n",
       "      <td>5.612903</td>\n",
       "      <td>1.0</td>\n",
       "      <td>15.903226</td>\n",
       "      <td>28.0</td>\n",
       "      <td>63.483871</td>\n",
       "      <td>146.0</td>\n",
       "      <td>434.612903</td>\n",
       "      <td>302.741935</td>\n",
       "    </tr>\n",
       "  </tbody>\n",
       "</table>\n",
       "</div>"
      ],
      "text/plain": [
       "   id       hero_name  pick_count  wins  winrate  ban_count  avg_kills  \\\n",
       "0   1       Anti-Mage         2.0   1.0    50.00        1.0   5.500000   \n",
       "1   2             Axe         4.0   1.0    25.00        2.0   4.500000   \n",
       "2   3            Bane         7.0   3.0    42.86        1.0   1.142857   \n",
       "3   4     Bloodseeker         5.0   1.0    20.00       42.0  13.000000   \n",
       "4   5  Crystal Maiden        31.0  24.0    77.42        3.0   2.483871   \n",
       "\n",
       "   max_kills  avg_deaths  min_deaths  avg_assists  max_assists  avg_last_hits  \\\n",
       "0        7.0    5.000000         4.0     9.000000         13.0     496.500000   \n",
       "1        8.0    4.250000         0.0     4.500000         10.0     203.250000   \n",
       "2        4.0    5.571429         2.0    12.428571         20.0      47.142857   \n",
       "3       25.0    4.000000         2.0     9.800000         13.0     385.600000   \n",
       "4        5.0    5.612903         1.0    15.903226         28.0      63.483871   \n",
       "\n",
       "   max_last_hits  avg_xp_per_min  avg_gold_per_min  \n",
       "0          522.0      853.500000        694.500000  \n",
       "1          236.0      544.000000        440.500000  \n",
       "2          146.0      388.857143        263.857143  \n",
       "3          573.0      666.600000        594.800000  \n",
       "4          146.0      434.612903        302.741935  "
      ]
     },
     "execution_count": 432,
     "metadata": {},
     "output_type": "execute_result"
    }
   ],
   "source": [
    "hero_avg_stats = hero_stats_df.groupby('hero_id').mean()\n",
    "hero_max_stats = hero_stats_df.groupby('hero_id').max()\n",
    "hero_min_stats = hero_stats_df.groupby('hero_id').min()\n",
    "\n",
    "heroes_df['avg_kills'] = heroes_df['id'].map(hero_avg_stats['kills'])\n",
    "\n",
    "heroes_df['max_kills'] = heroes_df['id'].map(hero_max_stats['kills'])\n",
    "\n",
    "heroes_df['avg_deaths'] = heroes_df['id'].map(hero_avg_stats['deaths'])\n",
    "\n",
    "heroes_df['min_deaths'] = heroes_df['id'].map(hero_min_stats['deaths'])\n",
    "\n",
    "heroes_df['avg_assists'] = heroes_df['id'].map(hero_avg_stats['assists'])\n",
    "\n",
    "heroes_df['max_assists'] = heroes_df['id'].map(hero_max_stats['assists'])\n",
    "\n",
    "heroes_df['avg_last_hits'] = heroes_df['id'].map(hero_avg_stats['last_hits'])\n",
    "\n",
    "heroes_df['max_last_hits'] = heroes_df['id'].map(hero_max_stats['last_hits'])\n",
    "\n",
    "heroes_df['avg_xp_per_min'] = heroes_df['id'].map(hero_avg_stats['xp_per_min'])\n",
    "\n",
    "heroes_df['avg_gold_per_min'] = heroes_df['id'].map(hero_avg_stats['gold_per_min'])\n",
    "\n",
    "heroes_df.head()"
   ]
  },
  {
   "cell_type": "code",
   "execution_count": 433,
   "metadata": {},
   "outputs": [],
   "source": [
    "heroes_5_df = heroes_df[heroes_df['pick_count']>=5]"
   ]
  },
  {
   "cell_type": "code",
   "execution_count": 434,
   "metadata": {},
   "outputs": [
    {
     "data": {
      "text/html": [
       "<div>\n",
       "<style scoped>\n",
       "    .dataframe tbody tr th:only-of-type {\n",
       "        vertical-align: middle;\n",
       "    }\n",
       "\n",
       "    .dataframe tbody tr th {\n",
       "        vertical-align: top;\n",
       "    }\n",
       "\n",
       "    .dataframe thead th {\n",
       "        text-align: right;\n",
       "    }\n",
       "</style>\n",
       "<table border=\"1\" class=\"dataframe\">\n",
       "  <thead>\n",
       "    <tr style=\"text-align: right;\">\n",
       "      <th></th>\n",
       "      <th>account_id</th>\n",
       "      <th>personaname</th>\n",
       "      <th>name</th>\n",
       "      <th>team_id</th>\n",
       "      <th>team_name</th>\n",
       "      <th>team_tag</th>\n",
       "      <th>avg_kills</th>\n",
       "      <th>max_kills</th>\n",
       "      <th>avg_deaths</th>\n",
       "      <th>min_deaths</th>\n",
       "      <th>avg_assists</th>\n",
       "      <th>max_assists</th>\n",
       "      <th>avg_last_hits</th>\n",
       "      <th>max_last_hits</th>\n",
       "      <th>avg_xp_per_min</th>\n",
       "      <th>avg_gold_per_min</th>\n",
       "      <th>max_gold_per_min</th>\n",
       "      <th>unique_heroes</th>\n",
       "    </tr>\n",
       "  </thead>\n",
       "  <tbody>\n",
       "    <tr>\n",
       "      <th>17</th>\n",
       "      <td>10366616</td>\n",
       "      <td>Sneyking</td>\n",
       "      <td>Sneyking</td>\n",
       "      <td>8291895</td>\n",
       "      <td>Tundra Esports</td>\n",
       "      <td>Tundra</td>\n",
       "      <td>3.000000</td>\n",
       "      <td>6.0</td>\n",
       "      <td>6.071429</td>\n",
       "      <td>2.0</td>\n",
       "      <td>16.071429</td>\n",
       "      <td>29.0</td>\n",
       "      <td>76.285714</td>\n",
       "      <td>151.0</td>\n",
       "      <td>480.785714</td>\n",
       "      <td>320.214286</td>\n",
       "      <td>412.0</td>\n",
       "      <td>6.0</td>\n",
       "    </tr>\n",
       "    <tr>\n",
       "      <th>30</th>\n",
       "      <td>16497807</td>\n",
       "      <td>tOfu</td>\n",
       "      <td>tOfu</td>\n",
       "      <td>8599101</td>\n",
       "      <td>Gaimin Gladiators</td>\n",
       "      <td>GG</td>\n",
       "      <td>2.750000</td>\n",
       "      <td>7.0</td>\n",
       "      <td>5.687500</td>\n",
       "      <td>1.0</td>\n",
       "      <td>13.000000</td>\n",
       "      <td>38.0</td>\n",
       "      <td>82.625000</td>\n",
       "      <td>127.0</td>\n",
       "      <td>437.125000</td>\n",
       "      <td>304.687500</td>\n",
       "      <td>395.0</td>\n",
       "      <td>9.0</td>\n",
       "    </tr>\n",
       "    <tr>\n",
       "      <th>52</th>\n",
       "      <td>25907144</td>\n",
       "      <td>Let's Go</td>\n",
       "      <td>Cr1t-</td>\n",
       "      <td>39</td>\n",
       "      <td>Evil Geniuses</td>\n",
       "      <td>EG</td>\n",
       "      <td>4.187500</td>\n",
       "      <td>12.0</td>\n",
       "      <td>4.437500</td>\n",
       "      <td>0.0</td>\n",
       "      <td>15.375000</td>\n",
       "      <td>23.0</td>\n",
       "      <td>49.000000</td>\n",
       "      <td>111.0</td>\n",
       "      <td>458.312500</td>\n",
       "      <td>306.187500</td>\n",
       "      <td>376.0</td>\n",
       "      <td>10.0</td>\n",
       "    </tr>\n",
       "    <tr>\n",
       "      <th>83</th>\n",
       "      <td>38628747</td>\n",
       "      <td>Verissimus</td>\n",
       "      <td>MoonMeander</td>\n",
       "      <td>8260983</td>\n",
       "      <td>TSM FTX</td>\n",
       "      <td>TSM FTX</td>\n",
       "      <td>3.428571</td>\n",
       "      <td>15.0</td>\n",
       "      <td>6.857143</td>\n",
       "      <td>2.0</td>\n",
       "      <td>10.285714</td>\n",
       "      <td>23.0</td>\n",
       "      <td>75.285714</td>\n",
       "      <td>202.0</td>\n",
       "      <td>414.357143</td>\n",
       "      <td>283.500000</td>\n",
       "      <td>423.0</td>\n",
       "      <td>9.0</td>\n",
       "    </tr>\n",
       "    <tr>\n",
       "      <th>91</th>\n",
       "      <td>40547474</td>\n",
       "      <td>Aui_2000</td>\n",
       "      <td>Aui_2000</td>\n",
       "      <td>8291895</td>\n",
       "      <td>Tundra Esports</td>\n",
       "      <td>Tundra</td>\n",
       "      <td>NaN</td>\n",
       "      <td>NaN</td>\n",
       "      <td>NaN</td>\n",
       "      <td>NaN</td>\n",
       "      <td>NaN</td>\n",
       "      <td>NaN</td>\n",
       "      <td>NaN</td>\n",
       "      <td>NaN</td>\n",
       "      <td>NaN</td>\n",
       "      <td>NaN</td>\n",
       "      <td>NaN</td>\n",
       "      <td>NaN</td>\n",
       "    </tr>\n",
       "  </tbody>\n",
       "</table>\n",
       "</div>"
      ],
      "text/plain": [
       "    account_id personaname         name  team_id          team_name team_tag  \\\n",
       "17    10366616    Sneyking     Sneyking  8291895     Tundra Esports   Tundra   \n",
       "30    16497807        tOfu         tOfu  8599101  Gaimin Gladiators       GG   \n",
       "52    25907144    Let's Go        Cr1t-       39      Evil Geniuses       EG   \n",
       "83    38628747  Verissimus  MoonMeander  8260983            TSM FTX  TSM FTX   \n",
       "91    40547474    Aui_2000     Aui_2000  8291895    Tundra Esports    Tundra   \n",
       "\n",
       "    avg_kills  max_kills  avg_deaths  min_deaths  avg_assists  max_assists  \\\n",
       "17   3.000000        6.0    6.071429         2.0    16.071429         29.0   \n",
       "30   2.750000        7.0    5.687500         1.0    13.000000         38.0   \n",
       "52   4.187500       12.0    4.437500         0.0    15.375000         23.0   \n",
       "83   3.428571       15.0    6.857143         2.0    10.285714         23.0   \n",
       "91        NaN        NaN         NaN         NaN          NaN          NaN   \n",
       "\n",
       "    avg_last_hits  max_last_hits  avg_xp_per_min  avg_gold_per_min  \\\n",
       "17      76.285714          151.0      480.785714        320.214286   \n",
       "30      82.625000          127.0      437.125000        304.687500   \n",
       "52      49.000000          111.0      458.312500        306.187500   \n",
       "83      75.285714          202.0      414.357143        283.500000   \n",
       "91            NaN            NaN             NaN               NaN   \n",
       "\n",
       "    max_gold_per_min  unique_heroes  \n",
       "17             412.0            6.0  \n",
       "30             395.0            9.0  \n",
       "52             376.0           10.0  \n",
       "83             423.0            9.0  \n",
       "91               NaN            NaN  "
      ]
     },
     "execution_count": 434,
     "metadata": {},
     "output_type": "execute_result"
    }
   ],
   "source": [
    "player_avg_stats = hero_stats_df.groupby('account_id').mean()\n",
    "player_max_stats = hero_stats_df.groupby('account_id').max()\n",
    "player_min_stats = hero_stats_df.groupby('account_id').min()\n",
    "\n",
    "players_df['avg_kills'] = players_df['account_id'].map(player_avg_stats['kills'])\n",
    "\n",
    "players_df['max_kills'] = players_df['account_id'].map(player_max_stats['kills'])\n",
    "\n",
    "players_df['avg_deaths'] = players_df['account_id'].map(player_avg_stats['deaths'])\n",
    "\n",
    "players_df['min_deaths'] = players_df['account_id'].map(player_min_stats['deaths'])\n",
    "\n",
    "players_df['avg_assists'] = players_df['account_id'].map(player_avg_stats['assists'])\n",
    "\n",
    "players_df['max_assists'] = players_df['account_id'].map(player_max_stats['assists'])\n",
    "\n",
    "players_df['avg_last_hits'] = players_df['account_id'].map(player_avg_stats['last_hits'])\n",
    "\n",
    "players_df['max_last_hits'] = players_df['account_id'].map(player_max_stats['last_hits'])\n",
    "\n",
    "players_df['avg_xp_per_min'] = players_df['account_id'].map(player_avg_stats['xp_per_min'])\n",
    "\n",
    "players_df['avg_gold_per_min'] = players_df['account_id'].map(player_avg_stats['gold_per_min'])\n",
    "\n",
    "players_df['max_gold_per_min'] = players_df['account_id'].map(player_max_stats['gold_per_min'])\n",
    "\n",
    "player_unique_heroes = hero_stats_df[['account_id','hero_id']].groupby('account_id').nunique()\n",
    "players_df['unique_heroes'] = players_df['account_id'].map(player_unique_heroes['hero_id'])\n",
    "\n",
    "players_df.head()"
   ]
  },
  {
   "cell_type": "code",
   "execution_count": 435,
   "metadata": {},
   "outputs": [
    {
     "data": {
      "text/html": [
       "<div>\n",
       "<style scoped>\n",
       "    .dataframe tbody tr th:only-of-type {\n",
       "        vertical-align: middle;\n",
       "    }\n",
       "\n",
       "    .dataframe tbody tr th {\n",
       "        vertical-align: top;\n",
       "    }\n",
       "\n",
       "    .dataframe thead th {\n",
       "        text-align: right;\n",
       "    }\n",
       "</style>\n",
       "<table border=\"1\" class=\"dataframe\">\n",
       "  <thead>\n",
       "    <tr style=\"text-align: right;\">\n",
       "      <th></th>\n",
       "      <th>team_id</th>\n",
       "      <th>name</th>\n",
       "      <th>tag</th>\n",
       "      <th>avg_kills</th>\n",
       "      <th>avg_deaths</th>\n",
       "      <th>avg_assists</th>\n",
       "      <th>max_kills</th>\n",
       "      <th>min_deaths</th>\n",
       "      <th>max_assists</th>\n",
       "      <th>unique_heroes</th>\n",
       "    </tr>\n",
       "  </thead>\n",
       "  <tbody>\n",
       "    <tr>\n",
       "      <th>0</th>\n",
       "      <td>8597976</td>\n",
       "      <td>Talon</td>\n",
       "      <td>TLN</td>\n",
       "      <td>23.142857</td>\n",
       "      <td>30.000000</td>\n",
       "      <td>52.142857</td>\n",
       "      <td>46</td>\n",
       "      <td>10</td>\n",
       "      <td>98</td>\n",
       "      <td>44</td>\n",
       "    </tr>\n",
       "    <tr>\n",
       "      <th>1</th>\n",
       "      <td>7732977</td>\n",
       "      <td>BOOM Esports</td>\n",
       "      <td>BOOM</td>\n",
       "      <td>19.687500</td>\n",
       "      <td>24.375000</td>\n",
       "      <td>47.000000</td>\n",
       "      <td>52</td>\n",
       "      <td>6</td>\n",
       "      <td>132</td>\n",
       "      <td>39</td>\n",
       "    </tr>\n",
       "    <tr>\n",
       "      <th>2</th>\n",
       "      <td>7390454</td>\n",
       "      <td>Soniqs</td>\n",
       "      <td>SQ</td>\n",
       "      <td>23.437500</td>\n",
       "      <td>24.812500</td>\n",
       "      <td>52.687500</td>\n",
       "      <td>44</td>\n",
       "      <td>3</td>\n",
       "      <td>112</td>\n",
       "      <td>49</td>\n",
       "    </tr>\n",
       "    <tr>\n",
       "      <th>3</th>\n",
       "      <td>2163</td>\n",
       "      <td>Team Liquid</td>\n",
       "      <td>Liquid</td>\n",
       "      <td>28.437500</td>\n",
       "      <td>25.000000</td>\n",
       "      <td>65.062500</td>\n",
       "      <td>48</td>\n",
       "      <td>10</td>\n",
       "      <td>104</td>\n",
       "      <td>43</td>\n",
       "    </tr>\n",
       "    <tr>\n",
       "      <th>4</th>\n",
       "      <td>8260983</td>\n",
       "      <td>TSM FTX</td>\n",
       "      <td>TSM FTX</td>\n",
       "      <td>19.571429</td>\n",
       "      <td>25.785714</td>\n",
       "      <td>42.285714</td>\n",
       "      <td>44</td>\n",
       "      <td>3</td>\n",
       "      <td>99</td>\n",
       "      <td>41</td>\n",
       "    </tr>\n",
       "  </tbody>\n",
       "</table>\n",
       "</div>"
      ],
      "text/plain": [
       "   team_id          name      tag  avg_kills  avg_deaths  avg_assists  \\\n",
       "0  8597976         Talon      TLN  23.142857   30.000000    52.142857   \n",
       "1  7732977  BOOM Esports     BOOM  19.687500   24.375000    47.000000   \n",
       "2  7390454        Soniqs       SQ  23.437500   24.812500    52.687500   \n",
       "3     2163   Team Liquid   Liquid  28.437500   25.000000    65.062500   \n",
       "4  8260983       TSM FTX  TSM FTX  19.571429   25.785714    42.285714   \n",
       "\n",
       "   max_kills  min_deaths  max_assists  unique_heroes  \n",
       "0         46          10           98             44  \n",
       "1         52           6          132             39  \n",
       "2         44           3          112             49  \n",
       "3         48          10          104             43  \n",
       "4         44           3           99             41  "
      ]
     },
     "execution_count": 435,
     "metadata": {},
     "output_type": "execute_result"
    }
   ],
   "source": [
    "ti_teams_df = ti_teams_df[['team_id','name','tag']]\n",
    "teams_stats_df = hero_stats_df.groupby(['match_id','team_id']).sum()\n",
    "team_avg_stats_df = teams_stats_df.groupby('team_id').mean()\n",
    "team_max_stats_df = teams_stats_df.groupby('team_id').max()\n",
    "team_min_stats_df = teams_stats_df.groupby('team_id').min()\n",
    "\n",
    "ti_teams_df['avg_kills'] = ti_teams_df['team_id'].map(team_avg_stats_df['kills'])\n",
    "ti_teams_df['avg_deaths'] = ti_teams_df['team_id'].map(team_avg_stats_df['deaths'])\n",
    "ti_teams_df['avg_assists'] = ti_teams_df['team_id'].map(team_avg_stats_df['assists'])\n",
    "ti_teams_df['max_kills'] = ti_teams_df['team_id'].map(team_max_stats_df['kills'])\n",
    "ti_teams_df['min_deaths'] = ti_teams_df['team_id'].map(team_min_stats_df['deaths'])\n",
    "ti_teams_df['max_assists'] = ti_teams_df['team_id'].map(team_max_stats_df['assists'])\n",
    "\n",
    "team_unique_heroes = hero_stats_df[['team_id','hero_id']].groupby('team_id').nunique()\n",
    "ti_teams_df['unique_heroes'] = ti_teams_df['team_id'].map(team_unique_heroes['hero_id'])\n",
    "ti_teams_df.head()"
   ]
  },
  {
   "cell_type": "code",
   "execution_count": 436,
   "metadata": {},
   "outputs": [
    {
     "data": {
      "text/html": [
       "<div>\n",
       "<style scoped>\n",
       "    .dataframe tbody tr th:only-of-type {\n",
       "        vertical-align: middle;\n",
       "    }\n",
       "\n",
       "    .dataframe tbody tr th {\n",
       "        vertical-align: top;\n",
       "    }\n",
       "\n",
       "    .dataframe thead th {\n",
       "        text-align: right;\n",
       "    }\n",
       "</style>\n",
       "<table border=\"1\" class=\"dataframe\">\n",
       "  <thead>\n",
       "    <tr style=\"text-align: right;\">\n",
       "      <th></th>\n",
       "      <th>match_id</th>\n",
       "      <th>duration</th>\n",
       "      <th>radiant_win</th>\n",
       "      <th>radiant_score</th>\n",
       "      <th>radiant_team_id</th>\n",
       "      <th>dire_score</th>\n",
       "      <th>dire_team_id</th>\n",
       "      <th>total_score</th>\n",
       "      <th>team_winner</th>\n",
       "      <th>duration_minutes</th>\n",
       "    </tr>\n",
       "  </thead>\n",
       "  <tbody>\n",
       "    <tr>\n",
       "      <th>0</th>\n",
       "      <td>6806663153</td>\n",
       "      <td>2178</td>\n",
       "      <td>False</td>\n",
       "      <td>16</td>\n",
       "      <td>7390454</td>\n",
       "      <td>18</td>\n",
       "      <td>15</td>\n",
       "      <td>34</td>\n",
       "      <td>PSG.LGD</td>\n",
       "      <td>0:36:18</td>\n",
       "    </tr>\n",
       "    <tr>\n",
       "      <th>1</th>\n",
       "      <td>6806047576</td>\n",
       "      <td>2971</td>\n",
       "      <td>False</td>\n",
       "      <td>23</td>\n",
       "      <td>7732977</td>\n",
       "      <td>24</td>\n",
       "      <td>2586976</td>\n",
       "      <td>47</td>\n",
       "      <td>OG</td>\n",
       "      <td>0:49:31</td>\n",
       "    </tr>\n",
       "    <tr>\n",
       "      <th>2</th>\n",
       "      <td>6806638898</td>\n",
       "      <td>3098</td>\n",
       "      <td>False</td>\n",
       "      <td>19</td>\n",
       "      <td>7732977</td>\n",
       "      <td>28</td>\n",
       "      <td>6209804</td>\n",
       "      <td>47</td>\n",
       "      <td>Royal Never Give Up</td>\n",
       "      <td>0:51:38</td>\n",
       "    </tr>\n",
       "    <tr>\n",
       "      <th>3</th>\n",
       "      <td>6806648571</td>\n",
       "      <td>2250</td>\n",
       "      <td>True</td>\n",
       "      <td>33</td>\n",
       "      <td>8131728</td>\n",
       "      <td>14</td>\n",
       "      <td>8599101</td>\n",
       "      <td>47</td>\n",
       "      <td>Hokori</td>\n",
       "      <td>0:37:30</td>\n",
       "    </tr>\n",
       "    <tr>\n",
       "      <th>4</th>\n",
       "      <td>6806662696</td>\n",
       "      <td>1455</td>\n",
       "      <td>False</td>\n",
       "      <td>5</td>\n",
       "      <td>2586976</td>\n",
       "      <td>34</td>\n",
       "      <td>39</td>\n",
       "      <td>39</td>\n",
       "      <td>Evil Geniuses</td>\n",
       "      <td>0:24:15</td>\n",
       "    </tr>\n",
       "  </tbody>\n",
       "</table>\n",
       "</div>"
      ],
      "text/plain": [
       "     match_id  duration  radiant_win  radiant_score  radiant_team_id  \\\n",
       "0  6806663153      2178        False             16          7390454   \n",
       "1  6806047576      2971        False             23          7732977   \n",
       "2  6806638898      3098        False             19          7732977   \n",
       "3  6806648571      2250         True             33          8131728   \n",
       "4  6806662696      1455        False              5          2586976   \n",
       "\n",
       "   dire_score  dire_team_id  total_score          team_winner duration_minutes  \n",
       "0          18            15           34              PSG.LGD          0:36:18  \n",
       "1          24       2586976           47                   OG          0:49:31  \n",
       "2          28       6209804           47  Royal Never Give Up          0:51:38  \n",
       "3          14       8599101           47               Hokori          0:37:30  \n",
       "4          34            39           39        Evil Geniuses          0:24:15  "
      ]
     },
     "execution_count": 436,
     "metadata": {},
     "output_type": "execute_result"
    }
   ],
   "source": [
    "def get_matchwinner(row):\n",
    "    if row['radiant_win'] == True:\n",
    "        winner = 'radiant_team_id'\n",
    "    else:\n",
    "        winner = 'dire_team_id'\n",
    "    return row[winner]\n",
    "\n",
    "def convert(row,column):\n",
    "    seconds = row[column]\n",
    "    seconds = seconds % (24 * 3600)\n",
    "    hour = seconds // 3600\n",
    "    seconds %= 3600\n",
    "    minutes = seconds // 60\n",
    "    seconds %= 60\n",
    "     \n",
    "    return \"%d:%02d:%02d\" % (hour, minutes, seconds)\n",
    "\n",
    "ti_matches_df = matches_df[['match_id','duration','radiant_win','radiant_score','radiant_team_id','dire_score','dire_team_id']]\n",
    "ti_matches_df['total_score'] = ti_matches_df['radiant_score']+ti_matches_df['dire_score']\n",
    "\n",
    "ti_matches_df['team_winner'] = ti_matches_df.apply(lambda x: get_matchwinner(x), axis=1)\n",
    "ti_matches_df['team_winner'] = ti_matches_df['team_winner'].map(ti_teams_df.set_index('team_id').to_dict()['name'])\n",
    "ti_matches_df['duration_minutes'] = ti_matches_df.apply(lambda x: convert(x,'duration'), axis=1)\n",
    "ti_matches_df.head()"
   ]
  },
  {
   "cell_type": "code",
   "execution_count": 437,
   "metadata": {},
   "outputs": [],
   "source": [
    "radiant_teams = ti_matches_df[['match_id','radiant_team_id','duration']].rename(columns={\"radiant_team_id\":\"team_id\"})\n",
    "dire_teams = ti_matches_df[['match_id','dire_team_id','duration']].rename(columns={\"dire_team_id\":\"team_id\"})\n",
    "ti_teams_matches = pd.concat([radiant_teams,dire_teams],ignore_index=True)\n",
    "ti_teams_df['avg_length'] = ti_teams_df['team_id'].map(ti_teams_matches.groupby('team_id').mean()['duration'])\n",
    "ti_teams_df['avg_length_minutes'] = ti_teams_df.apply(lambda x: convert(x,'avg_length'), axis=1)"
   ]
  },
  {
   "cell_type": "code",
   "execution_count": 438,
   "metadata": {},
   "outputs": [],
   "source": [
    "hero_stats_df.to_csv('game_player_stats.csv',index=False)\n",
    "players_df.to_csv('player_stats.csv', index=False)\n",
    "ti_teams_df.to_csv('team_stats.csv', index=False)\n",
    "ti_teams_matches.to_csv('game_head_stats.csv', index=False)"
   ]
  },
  {
   "cell_type": "code",
   "execution_count": 439,
   "metadata": {},
   "outputs": [],
   "source": [
    "hero_list = []\n",
    "player_list = []\n",
    "team_list = []"
   ]
  },
  {
   "cell_type": "markdown",
   "metadata": {},
   "source": [
    "# Hero with the most picked:"
   ]
  },
  {
   "cell_type": "code",
   "execution_count": 440,
   "metadata": {},
   "outputs": [
    {
     "name": "stdout",
     "output_type": "stream",
     "text": [
      "        hero_name  pick_count\n",
      "10   Shadow Fiend        57.0\n",
      "121         Marci        57.0\n"
     ]
    }
   ],
   "source": [
    "hero_most_picked = heroes_df[heroes_df['pick_count']==heroes_df['pick_count'].max()][['hero_name','pick_count']]\n",
    "print(hero_most_picked)\n",
    "obj = {}\n",
    "obj[\"title\"] = \"Most Picked\"\n",
    "obj[\"result\"] = hero_most_picked.rename(columns={\"hero_name\":\"name\",\"pick_count\":\"value\"}).to_dict('r')\n",
    "hero_list.append(obj)\n"
   ]
  },
  {
   "cell_type": "markdown",
   "metadata": {},
   "source": [
    "# Hero with the most banned:"
   ]
  },
  {
   "cell_type": "code",
   "execution_count": 441,
   "metadata": {},
   "outputs": [
    {
     "name": "stdout",
     "output_type": "stream",
     "text": [
      "   hero_name  ban_count\n",
      "31    Enigma       97.0\n"
     ]
    }
   ],
   "source": [
    "hero_most_banned = heroes_df[heroes_df['ban_count']==heroes_df['ban_count'].max()][['hero_name','ban_count']]\n",
    "print(hero_most_banned)\n",
    "obj = {}\n",
    "obj[\"title\"] = \"Most banned\"\n",
    "obj[\"result\"] = hero_most_banned.rename(columns={\"hero_name\":\"name\",\"ban_count\":\"value\"}).to_dict('r')\n",
    "hero_list.append(obj)"
   ]
  },
  {
   "cell_type": "markdown",
   "metadata": {},
   "source": [
    "# Hero with the highest win rate:"
   ]
  },
  {
   "cell_type": "code",
   "execution_count": 442,
   "metadata": {},
   "outputs": [
    {
     "name": "stdout",
     "output_type": "stream",
     "text": [
      "        hero_name  winrate\n",
      "4  Crystal Maiden    77.42\n"
     ]
    }
   ],
   "source": [
    "hero_max_winrate = heroes_5_df[heroes_5_df['winrate']==heroes_5_df['winrate'].max()][['hero_name','winrate']]\n",
    "print(hero_max_winrate)\n",
    "obj = {}\n",
    "obj[\"title\"] = \"Highest Winrate\"\n",
    "obj[\"result\"] = hero_max_winrate.rename(columns={\"hero_name\":\"name\",\"winrate\":\"value\"}).to_dict('r')\n",
    "hero_list.append(obj)"
   ]
  },
  {
   "cell_type": "markdown",
   "metadata": {},
   "source": [
    "# Hero with the highest average kill:"
   ]
  },
  {
   "cell_type": "code",
   "execution_count": 443,
   "metadata": {},
   "outputs": [
    {
     "name": "stdout",
     "output_type": "stream",
     "text": [
      "     hero_name  avg_kills\n",
      "3  Bloodseeker       13.0\n"
     ]
    }
   ],
   "source": [
    "hero_max_avg_kills = heroes_5_df[heroes_5_df['avg_kills']==heroes_5_df['avg_kills'].max()][['hero_name','avg_kills']]\n",
    "print(hero_max_avg_kills)\n",
    "obj = {}\n",
    "obj[\"title\"] = \"Highest Average Kills\"\n",
    "obj[\"result\"] = hero_max_avg_kills.rename(columns={\"hero_name\":\"name\",\"avg_kills\":\"value\"}).to_dict('r')\n",
    "hero_list.append(obj)\n"
   ]
  },
  {
   "cell_type": "markdown",
   "metadata": {},
   "source": [
    "# Hero with the highest average assist:"
   ]
  },
  {
   "cell_type": "code",
   "execution_count": 444,
   "metadata": {},
   "outputs": [
    {
     "name": "stdout",
     "output_type": "stream",
     "text": [
      "        hero_name  avg_assists\n",
      "105  Earth Spirit         19.2\n"
     ]
    }
   ],
   "source": [
    "hero_max_avg_assists = heroes_5_df[heroes_5_df['avg_assists']==heroes_5_df['avg_assists'].max()][['hero_name','avg_assists']]\n",
    "print(hero_max_avg_assists)\n",
    "obj = {}\n",
    "obj[\"title\"] = \"Highest Average Assists\"\n",
    "obj[\"result\"] = hero_max_avg_assists.rename(columns={\"hero_name\":\"name\",\"avg_assists\":\"value\"}).to_dict('r')\n",
    "hero_list.append(obj)"
   ]
  },
  {
   "cell_type": "markdown",
   "metadata": {},
   "source": [
    "# Hero with the lowest average death:"
   ]
  },
  {
   "cell_type": "code",
   "execution_count": 445,
   "metadata": {},
   "outputs": [
    {
     "name": "stdout",
     "output_type": "stream",
     "text": [
      "      hero_name  avg_deaths\n",
      "52  Lifestealer         2.0\n"
     ]
    }
   ],
   "source": [
    "hero_min_avg_deaths = heroes_5_df[heroes_5_df['avg_deaths']==heroes_5_df['avg_deaths'].min()][['hero_name','avg_deaths']]\n",
    "print(hero_min_avg_deaths)\n",
    "obj = {}\n",
    "obj[\"title\"] = \"Lowest Average deaths\"\n",
    "obj[\"result\"] = hero_min_avg_deaths.rename(columns={\"hero_name\":\"name\",\"avg_deaths\":\"value\"}).to_dict('r')\n",
    "hero_list.append(obj)"
   ]
  },
  {
   "cell_type": "markdown",
   "metadata": {},
   "source": [
    "# Hero with the highest average last hit:"
   ]
  },
  {
   "cell_type": "code",
   "execution_count": 446,
   "metadata": {},
   "outputs": [
    {
     "name": "stdout",
     "output_type": "stream",
     "text": [
      "     hero_name  avg_last_hits\n",
      "87  Naga Siren     518.380952\n"
     ]
    }
   ],
   "source": [
    "hero_max_avg_last_hits = heroes_5_df[heroes_5_df['avg_last_hits']==heroes_5_df['avg_last_hits'].max()][['hero_name','avg_last_hits']]\n",
    "print(hero_max_avg_last_hits)\n",
    "obj = {}\n",
    "obj[\"title\"] = \"Highest Average Last hits\"\n",
    "obj[\"result\"] = hero_max_avg_last_hits.rename(columns={\"hero_name\":\"name\",\"avg_last_hits\":\"value\"}).to_dict('r')\n",
    "hero_list.append(obj)"
   ]
  },
  {
   "cell_type": "markdown",
   "metadata": {},
   "source": [
    "# Hero with the highest average xp per minute:"
   ]
  },
  {
   "cell_type": "code",
   "execution_count": 447,
   "metadata": {},
   "outputs": [
    {
     "name": "stdout",
     "output_type": "stream",
     "text": [
      "      hero_name  avg_xp_per_min\n",
      "111  Arc Warden           783.0\n"
     ]
    }
   ],
   "source": [
    "hero_max_avg_xp_per_min = heroes_5_df[heroes_5_df['avg_xp_per_min']==heroes_5_df['avg_xp_per_min'].max()][['hero_name','avg_xp_per_min']]\n",
    "print(hero_max_avg_xp_per_min)\n",
    "obj = {}\n",
    "obj[\"title\"] = \"Highest Average XPM\"\n",
    "obj[\"result\"] = hero_max_avg_xp_per_min.rename(columns={\"hero_name\":\"name\",\"avg_xp_per_min\":\"value\"}).to_dict('r')\n",
    "hero_list.append(obj)"
   ]
  },
  {
   "cell_type": "markdown",
   "metadata": {},
   "source": [
    "# Hero with the most kills in a game:"
   ]
  },
  {
   "cell_type": "code",
   "execution_count": 448,
   "metadata": {},
   "outputs": [
    {
     "name": "stdout",
     "output_type": "stream",
     "text": [
      "     hero_name  max_kills\n",
      "3  Bloodseeker       25.0\n"
     ]
    }
   ],
   "source": [
    "hero_max_kills = heroes_df[heroes_df['max_kills']==heroes_df['max_kills'].max()][['hero_name','max_kills']]\n",
    "print(hero_max_kills)\n",
    "obj = {}\n",
    "obj[\"title\"] = \"Most Kills in a game\"\n",
    "obj[\"result\"] = hero_max_kills.rename(columns={\"hero_name\":\"name\",\"max_kills\":\"value\"}).to_dict('r')\n",
    "hero_list.append(obj)"
   ]
  },
  {
   "cell_type": "markdown",
   "metadata": {},
   "source": [
    "# Hero with the most last hits in a game:"
   ]
  },
  {
   "cell_type": "code",
   "execution_count": 449,
   "metadata": {},
   "outputs": [
    {
     "name": "stdout",
     "output_type": "stream",
     "text": [
      "     hero_name  max_last_hits\n",
      "87  Naga Siren         1196.0\n"
     ]
    }
   ],
   "source": [
    "hero_max_last_hits = heroes_df[heroes_df['max_last_hits']==heroes_df['max_last_hits'].max()][['hero_name','max_last_hits']]\n",
    "print(hero_max_last_hits)\n",
    "obj = {}\n",
    "obj[\"title\"] = \"Most Last Hits in a game\"\n",
    "obj[\"result\"] = hero_max_last_hits.rename(columns={\"hero_name\":\"name\",\"max_last_hits\":\"value\"}).to_dict('r')\n",
    "hero_list.append(obj)"
   ]
  },
  {
   "cell_type": "markdown",
   "metadata": {},
   "source": [
    "# Player with the highest kill average:"
   ]
  },
  {
   "cell_type": "code",
   "execution_count": 450,
   "metadata": {},
   "outputs": [
    {
     "data": {
      "text/html": [
       "<div>\n",
       "<style scoped>\n",
       "    .dataframe tbody tr th:only-of-type {\n",
       "        vertical-align: middle;\n",
       "    }\n",
       "\n",
       "    .dataframe tbody tr th {\n",
       "        vertical-align: top;\n",
       "    }\n",
       "\n",
       "    .dataframe thead th {\n",
       "        text-align: right;\n",
       "    }\n",
       "</style>\n",
       "<table border=\"1\" class=\"dataframe\">\n",
       "  <thead>\n",
       "    <tr style=\"text-align: right;\">\n",
       "      <th></th>\n",
       "      <th>name</th>\n",
       "      <th>avg_kills</th>\n",
       "    </tr>\n",
       "  </thead>\n",
       "  <tbody>\n",
       "    <tr>\n",
       "      <th>1748</th>\n",
       "      <td>Lumière</td>\n",
       "      <td>9.8125</td>\n",
       "    </tr>\n",
       "  </tbody>\n",
       "</table>\n",
       "</div>"
      ],
      "text/plain": [
       "         name  avg_kills\n",
       "1748  Lumière     9.8125"
      ]
     },
     "execution_count": 450,
     "metadata": {},
     "output_type": "execute_result"
    }
   ],
   "source": [
    "players_df[players_df['avg_kills']==players_df['avg_kills'].max()][['name','avg_kills']]"
   ]
  },
  {
   "cell_type": "markdown",
   "metadata": {},
   "source": [
    "# Player with the highest assist average:"
   ]
  },
  {
   "cell_type": "code",
   "execution_count": 451,
   "metadata": {},
   "outputs": [
    {
     "data": {
      "text/html": [
       "<div>\n",
       "<style scoped>\n",
       "    .dataframe tbody tr th:only-of-type {\n",
       "        vertical-align: middle;\n",
       "    }\n",
       "\n",
       "    .dataframe tbody tr th {\n",
       "        vertical-align: top;\n",
       "    }\n",
       "\n",
       "    .dataframe thead th {\n",
       "        text-align: right;\n",
       "    }\n",
       "</style>\n",
       "<table border=\"1\" class=\"dataframe\">\n",
       "  <thead>\n",
       "    <tr style=\"text-align: right;\">\n",
       "      <th></th>\n",
       "      <th>name</th>\n",
       "      <th>avg_assists</th>\n",
       "    </tr>\n",
       "  </thead>\n",
       "  <tbody>\n",
       "    <tr>\n",
       "      <th>656</th>\n",
       "      <td>Saksa</td>\n",
       "      <td>17.428571</td>\n",
       "    </tr>\n",
       "  </tbody>\n",
       "</table>\n",
       "</div>"
      ],
      "text/plain": [
       "      name  avg_assists\n",
       "656  Saksa    17.428571"
      ]
     },
     "execution_count": 451,
     "metadata": {},
     "output_type": "execute_result"
    }
   ],
   "source": [
    "players_df[players_df['avg_assists']==players_df['avg_assists'].max()][['name','avg_assists']]"
   ]
  },
  {
   "cell_type": "markdown",
   "metadata": {},
   "source": [
    "# Player with the lowest death average:"
   ]
  },
  {
   "cell_type": "code",
   "execution_count": 452,
   "metadata": {},
   "outputs": [
    {
     "data": {
      "text/html": [
       "<div>\n",
       "<style scoped>\n",
       "    .dataframe tbody tr th:only-of-type {\n",
       "        vertical-align: middle;\n",
       "    }\n",
       "\n",
       "    .dataframe tbody tr th {\n",
       "        vertical-align: top;\n",
       "    }\n",
       "\n",
       "    .dataframe thead th {\n",
       "        text-align: right;\n",
       "    }\n",
       "</style>\n",
       "<table border=\"1\" class=\"dataframe\">\n",
       "  <thead>\n",
       "    <tr style=\"text-align: right;\">\n",
       "      <th></th>\n",
       "      <th>name</th>\n",
       "      <th>avg_deaths</th>\n",
       "    </tr>\n",
       "  </thead>\n",
       "  <tbody>\n",
       "    <tr>\n",
       "      <th>1056</th>\n",
       "      <td>Nightfall 凛</td>\n",
       "      <td>1.125</td>\n",
       "    </tr>\n",
       "  </tbody>\n",
       "</table>\n",
       "</div>"
      ],
      "text/plain": [
       "             name  avg_deaths\n",
       "1056  Nightfall 凛       1.125"
      ]
     },
     "execution_count": 452,
     "metadata": {},
     "output_type": "execute_result"
    }
   ],
   "source": [
    "players_df[players_df['avg_deaths']==players_df['avg_deaths'].min()][['name','avg_deaths']]"
   ]
  },
  {
   "cell_type": "markdown",
   "metadata": {},
   "source": [
    "# Player with the highest last hit average:"
   ]
  },
  {
   "cell_type": "code",
   "execution_count": 453,
   "metadata": {},
   "outputs": [
    {
     "data": {
      "text/html": [
       "<div>\n",
       "<style scoped>\n",
       "    .dataframe tbody tr th:only-of-type {\n",
       "        vertical-align: middle;\n",
       "    }\n",
       "\n",
       "    .dataframe tbody tr th {\n",
       "        vertical-align: top;\n",
       "    }\n",
       "\n",
       "    .dataframe thead th {\n",
       "        text-align: right;\n",
       "    }\n",
       "</style>\n",
       "<table border=\"1\" class=\"dataframe\">\n",
       "  <thead>\n",
       "    <tr style=\"text-align: right;\">\n",
       "      <th></th>\n",
       "      <th>name</th>\n",
       "      <th>avg_last_hits</th>\n",
       "    </tr>\n",
       "  </thead>\n",
       "  <tbody>\n",
       "    <tr>\n",
       "      <th>1539</th>\n",
       "      <td>Yuragi</td>\n",
       "      <td>451.0</td>\n",
       "    </tr>\n",
       "  </tbody>\n",
       "</table>\n",
       "</div>"
      ],
      "text/plain": [
       "        name  avg_last_hits\n",
       "1539  Yuragi          451.0"
      ]
     },
     "execution_count": 453,
     "metadata": {},
     "output_type": "execute_result"
    }
   ],
   "source": [
    "players_df[players_df['avg_last_hits']==players_df['avg_last_hits'].max()][['name','avg_last_hits']]"
   ]
  },
  {
   "cell_type": "markdown",
   "metadata": {},
   "source": [
    "# Player with the highest GPM average:"
   ]
  },
  {
   "cell_type": "code",
   "execution_count": 454,
   "metadata": {},
   "outputs": [
    {
     "data": {
      "text/html": [
       "<div>\n",
       "<style scoped>\n",
       "    .dataframe tbody tr th:only-of-type {\n",
       "        vertical-align: middle;\n",
       "    }\n",
       "\n",
       "    .dataframe tbody tr th {\n",
       "        vertical-align: top;\n",
       "    }\n",
       "\n",
       "    .dataframe thead th {\n",
       "        text-align: right;\n",
       "    }\n",
       "</style>\n",
       "<table border=\"1\" class=\"dataframe\">\n",
       "  <thead>\n",
       "    <tr style=\"text-align: right;\">\n",
       "      <th></th>\n",
       "      <th>name</th>\n",
       "      <th>avg_gold_per_min</th>\n",
       "    </tr>\n",
       "  </thead>\n",
       "  <tbody>\n",
       "    <tr>\n",
       "      <th>1748</th>\n",
       "      <td>Lumière</td>\n",
       "      <td>703.8125</td>\n",
       "    </tr>\n",
       "  </tbody>\n",
       "</table>\n",
       "</div>"
      ],
      "text/plain": [
       "         name  avg_gold_per_min\n",
       "1748  Lumière          703.8125"
      ]
     },
     "execution_count": 454,
     "metadata": {},
     "output_type": "execute_result"
    }
   ],
   "source": [
    "players_df[players_df['avg_gold_per_min']==players_df['avg_gold_per_min'].max()][['name','avg_gold_per_min']]"
   ]
  },
  {
   "cell_type": "markdown",
   "metadata": {},
   "source": [
    "# Player with the most kills:"
   ]
  },
  {
   "cell_type": "code",
   "execution_count": 455,
   "metadata": {},
   "outputs": [
    {
     "data": {
      "text/html": [
       "<div>\n",
       "<style scoped>\n",
       "    .dataframe tbody tr th:only-of-type {\n",
       "        vertical-align: middle;\n",
       "    }\n",
       "\n",
       "    .dataframe tbody tr th {\n",
       "        vertical-align: top;\n",
       "    }\n",
       "\n",
       "    .dataframe thead th {\n",
       "        text-align: right;\n",
       "    }\n",
       "</style>\n",
       "<table border=\"1\" class=\"dataframe\">\n",
       "  <thead>\n",
       "    <tr style=\"text-align: right;\">\n",
       "      <th></th>\n",
       "      <th>name</th>\n",
       "      <th>max_kills</th>\n",
       "    </tr>\n",
       "  </thead>\n",
       "  <tbody>\n",
       "    <tr>\n",
       "      <th>1098</th>\n",
       "      <td>Crystallis</td>\n",
       "      <td>25.0</td>\n",
       "    </tr>\n",
       "  </tbody>\n",
       "</table>\n",
       "</div>"
      ],
      "text/plain": [
       "            name  max_kills\n",
       "1098  Crystallis       25.0"
      ]
     },
     "execution_count": 455,
     "metadata": {},
     "output_type": "execute_result"
    }
   ],
   "source": [
    "players_df[players_df['max_kills']==players_df['max_kills'].max()][['name','max_kills']]"
   ]
  },
  {
   "cell_type": "markdown",
   "metadata": {},
   "source": [
    "# Player with the most assists:"
   ]
  },
  {
   "cell_type": "code",
   "execution_count": 456,
   "metadata": {},
   "outputs": [
    {
     "data": {
      "text/html": [
       "<div>\n",
       "<style scoped>\n",
       "    .dataframe tbody tr th:only-of-type {\n",
       "        vertical-align: middle;\n",
       "    }\n",
       "\n",
       "    .dataframe tbody tr th {\n",
       "        vertical-align: top;\n",
       "    }\n",
       "\n",
       "    .dataframe thead th {\n",
       "        text-align: right;\n",
       "    }\n",
       "</style>\n",
       "<table border=\"1\" class=\"dataframe\">\n",
       "  <thead>\n",
       "    <tr style=\"text-align: right;\">\n",
       "      <th></th>\n",
       "      <th>name</th>\n",
       "      <th>max_assists</th>\n",
       "    </tr>\n",
       "  </thead>\n",
       "  <tbody>\n",
       "    <tr>\n",
       "      <th>1418</th>\n",
       "      <td>TIMS</td>\n",
       "      <td>39.0</td>\n",
       "    </tr>\n",
       "    <tr>\n",
       "      <th>1454</th>\n",
       "      <td>RodjER</td>\n",
       "      <td>39.0</td>\n",
       "    </tr>\n",
       "  </tbody>\n",
       "</table>\n",
       "</div>"
      ],
      "text/plain": [
       "        name  max_assists\n",
       "1418    TIMS         39.0\n",
       "1454  RodjER         39.0"
      ]
     },
     "execution_count": 456,
     "metadata": {},
     "output_type": "execute_result"
    }
   ],
   "source": [
    "players_df[players_df['max_assists']==players_df['max_assists'].max()][['name','max_assists']]"
   ]
  },
  {
   "cell_type": "markdown",
   "metadata": {},
   "source": [
    "# Player with the most last hits:"
   ]
  },
  {
   "cell_type": "code",
   "execution_count": 457,
   "metadata": {},
   "outputs": [
    {
     "data": {
      "text/html": [
       "<div>\n",
       "<style scoped>\n",
       "    .dataframe tbody tr th:only-of-type {\n",
       "        vertical-align: middle;\n",
       "    }\n",
       "\n",
       "    .dataframe tbody tr th {\n",
       "        vertical-align: top;\n",
       "    }\n",
       "\n",
       "    .dataframe thead th {\n",
       "        text-align: right;\n",
       "    }\n",
       "</style>\n",
       "<table border=\"1\" class=\"dataframe\">\n",
       "  <thead>\n",
       "    <tr style=\"text-align: right;\">\n",
       "      <th></th>\n",
       "      <th>name</th>\n",
       "      <th>max_last_hits</th>\n",
       "    </tr>\n",
       "  </thead>\n",
       "  <tbody>\n",
       "    <tr>\n",
       "      <th>1340</th>\n",
       "      <td>Monet</td>\n",
       "      <td>1196.0</td>\n",
       "    </tr>\n",
       "  </tbody>\n",
       "</table>\n",
       "</div>"
      ],
      "text/plain": [
       "       name  max_last_hits\n",
       "1340  Monet         1196.0"
      ]
     },
     "execution_count": 457,
     "metadata": {},
     "output_type": "execute_result"
    }
   ],
   "source": [
    "players_df[players_df['max_last_hits']==players_df['max_last_hits'].max()][['name','max_last_hits']]"
   ]
  },
  {
   "cell_type": "markdown",
   "metadata": {},
   "source": [
    "# Player with the most GPM:"
   ]
  },
  {
   "cell_type": "code",
   "execution_count": 458,
   "metadata": {},
   "outputs": [
    {
     "data": {
      "text/html": [
       "<div>\n",
       "<style scoped>\n",
       "    .dataframe tbody tr th:only-of-type {\n",
       "        vertical-align: middle;\n",
       "    }\n",
       "\n",
       "    .dataframe tbody tr th {\n",
       "        vertical-align: top;\n",
       "    }\n",
       "\n",
       "    .dataframe thead th {\n",
       "        text-align: right;\n",
       "    }\n",
       "</style>\n",
       "<table border=\"1\" class=\"dataframe\">\n",
       "  <thead>\n",
       "    <tr style=\"text-align: right;\">\n",
       "      <th></th>\n",
       "      <th>name</th>\n",
       "      <th>max_gold_per_min</th>\n",
       "    </tr>\n",
       "  </thead>\n",
       "  <tbody>\n",
       "    <tr>\n",
       "      <th>1539</th>\n",
       "      <td>Yuragi</td>\n",
       "      <td>1034.0</td>\n",
       "    </tr>\n",
       "  </tbody>\n",
       "</table>\n",
       "</div>"
      ],
      "text/plain": [
       "        name  max_gold_per_min\n",
       "1539  Yuragi            1034.0"
      ]
     },
     "execution_count": 458,
     "metadata": {},
     "output_type": "execute_result"
    }
   ],
   "source": [
    "players_df[players_df['max_gold_per_min']==players_df['max_gold_per_min'].max()][['name','max_gold_per_min']]"
   ]
  },
  {
   "cell_type": "markdown",
   "metadata": {},
   "source": [
    "# Player with the most different heroes:"
   ]
  },
  {
   "cell_type": "code",
   "execution_count": 459,
   "metadata": {},
   "outputs": [
    {
     "data": {
      "text/html": [
       "<div>\n",
       "<style scoped>\n",
       "    .dataframe tbody tr th:only-of-type {\n",
       "        vertical-align: middle;\n",
       "    }\n",
       "\n",
       "    .dataframe tbody tr th {\n",
       "        vertical-align: top;\n",
       "    }\n",
       "\n",
       "    .dataframe thead th {\n",
       "        text-align: right;\n",
       "    }\n",
       "</style>\n",
       "<table border=\"1\" class=\"dataframe\">\n",
       "  <thead>\n",
       "    <tr style=\"text-align: right;\">\n",
       "      <th></th>\n",
       "      <th>name</th>\n",
       "      <th>unique_heroes</th>\n",
       "    </tr>\n",
       "  </thead>\n",
       "  <tbody>\n",
       "    <tr>\n",
       "      <th>1539</th>\n",
       "      <td>Yuragi</td>\n",
       "      <td>14.0</td>\n",
       "    </tr>\n",
       "    <tr>\n",
       "      <th>2669</th>\n",
       "      <td>萧瑟</td>\n",
       "      <td>14.0</td>\n",
       "    </tr>\n",
       "  </tbody>\n",
       "</table>\n",
       "</div>"
      ],
      "text/plain": [
       "        name  unique_heroes\n",
       "1539  Yuragi           14.0\n",
       "2669      萧瑟           14.0"
      ]
     },
     "execution_count": 459,
     "metadata": {},
     "output_type": "execute_result"
    }
   ],
   "source": [
    "players_df[players_df['unique_heroes']==players_df['unique_heroes'].max()][['name','unique_heroes']]"
   ]
  },
  {
   "cell_type": "markdown",
   "metadata": {},
   "source": [
    "# Team with the most kills in a game:"
   ]
  },
  {
   "cell_type": "code",
   "execution_count": 460,
   "metadata": {},
   "outputs": [
    {
     "data": {
      "text/html": [
       "<div>\n",
       "<style scoped>\n",
       "    .dataframe tbody tr th:only-of-type {\n",
       "        vertical-align: middle;\n",
       "    }\n",
       "\n",
       "    .dataframe tbody tr th {\n",
       "        vertical-align: top;\n",
       "    }\n",
       "\n",
       "    .dataframe thead th {\n",
       "        text-align: right;\n",
       "    }\n",
       "</style>\n",
       "<table border=\"1\" class=\"dataframe\">\n",
       "  <thead>\n",
       "    <tr style=\"text-align: right;\">\n",
       "      <th></th>\n",
       "      <th>name</th>\n",
       "      <th>max_kills</th>\n",
       "    </tr>\n",
       "  </thead>\n",
       "  <tbody>\n",
       "    <tr>\n",
       "      <th>7</th>\n",
       "      <td>Gaimin Gladiators</td>\n",
       "      <td>54</td>\n",
       "    </tr>\n",
       "  </tbody>\n",
       "</table>\n",
       "</div>"
      ],
      "text/plain": [
       "                name  max_kills\n",
       "7  Gaimin Gladiators         54"
      ]
     },
     "execution_count": 460,
     "metadata": {},
     "output_type": "execute_result"
    }
   ],
   "source": [
    "ti_teams_df[ti_teams_df['max_kills']==ti_teams_df['max_kills'].max()][['name','max_kills']]"
   ]
  },
  {
   "cell_type": "markdown",
   "metadata": {},
   "source": [
    "# Team with the highest kill average:"
   ]
  },
  {
   "cell_type": "code",
   "execution_count": 461,
   "metadata": {},
   "outputs": [
    {
     "data": {
      "text/html": [
       "<div>\n",
       "<style scoped>\n",
       "    .dataframe tbody tr th:only-of-type {\n",
       "        vertical-align: middle;\n",
       "    }\n",
       "\n",
       "    .dataframe tbody tr th {\n",
       "        vertical-align: top;\n",
       "    }\n",
       "\n",
       "    .dataframe thead th {\n",
       "        text-align: right;\n",
       "    }\n",
       "</style>\n",
       "<table border=\"1\" class=\"dataframe\">\n",
       "  <thead>\n",
       "    <tr style=\"text-align: right;\">\n",
       "      <th></th>\n",
       "      <th>name</th>\n",
       "      <th>avg_kills</th>\n",
       "    </tr>\n",
       "  </thead>\n",
       "  <tbody>\n",
       "    <tr>\n",
       "      <th>13</th>\n",
       "      <td>Evil Geniuses</td>\n",
       "      <td>28.875</td>\n",
       "    </tr>\n",
       "  </tbody>\n",
       "</table>\n",
       "</div>"
      ],
      "text/plain": [
       "             name  avg_kills\n",
       "13  Evil Geniuses     28.875"
      ]
     },
     "execution_count": 461,
     "metadata": {},
     "output_type": "execute_result"
    }
   ],
   "source": [
    "ti_teams_df[ti_teams_df['avg_kills']==ti_teams_df['avg_kills'].max()][['name','avg_kills']]"
   ]
  },
  {
   "cell_type": "markdown",
   "metadata": {},
   "source": [
    "# Team with the least deaths in a game:"
   ]
  },
  {
   "cell_type": "code",
   "execution_count": 462,
   "metadata": {},
   "outputs": [
    {
     "data": {
      "text/html": [
       "<div>\n",
       "<style scoped>\n",
       "    .dataframe tbody tr th:only-of-type {\n",
       "        vertical-align: middle;\n",
       "    }\n",
       "\n",
       "    .dataframe tbody tr th {\n",
       "        vertical-align: top;\n",
       "    }\n",
       "\n",
       "    .dataframe thead th {\n",
       "        text-align: right;\n",
       "    }\n",
       "</style>\n",
       "<table border=\"1\" class=\"dataframe\">\n",
       "  <thead>\n",
       "    <tr style=\"text-align: right;\">\n",
       "      <th></th>\n",
       "      <th>name</th>\n",
       "      <th>min_deaths</th>\n",
       "    </tr>\n",
       "  </thead>\n",
       "  <tbody>\n",
       "    <tr>\n",
       "      <th>2</th>\n",
       "      <td>Soniqs</td>\n",
       "      <td>3</td>\n",
       "    </tr>\n",
       "    <tr>\n",
       "      <th>4</th>\n",
       "      <td>TSM FTX</td>\n",
       "      <td>3</td>\n",
       "    </tr>\n",
       "    <tr>\n",
       "      <th>15</th>\n",
       "      <td>Team Aster</td>\n",
       "      <td>3</td>\n",
       "    </tr>\n",
       "  </tbody>\n",
       "</table>\n",
       "</div>"
      ],
      "text/plain": [
       "          name  min_deaths\n",
       "2       Soniqs           3\n",
       "4      TSM FTX           3\n",
       "15  Team Aster           3"
      ]
     },
     "execution_count": 462,
     "metadata": {},
     "output_type": "execute_result"
    }
   ],
   "source": [
    "ti_teams_df[ti_teams_df['min_deaths']==ti_teams_df['min_deaths'].min()][['name','min_deaths']]"
   ]
  },
  {
   "cell_type": "markdown",
   "metadata": {},
   "source": [
    "# Team with the most assists in a game:"
   ]
  },
  {
   "cell_type": "code",
   "execution_count": 463,
   "metadata": {},
   "outputs": [
    {
     "data": {
      "text/html": [
       "<div>\n",
       "<style scoped>\n",
       "    .dataframe tbody tr th:only-of-type {\n",
       "        vertical-align: middle;\n",
       "    }\n",
       "\n",
       "    .dataframe tbody tr th {\n",
       "        vertical-align: top;\n",
       "    }\n",
       "\n",
       "    .dataframe thead th {\n",
       "        text-align: right;\n",
       "    }\n",
       "</style>\n",
       "<table border=\"1\" class=\"dataframe\">\n",
       "  <thead>\n",
       "    <tr style=\"text-align: right;\">\n",
       "      <th></th>\n",
       "      <th>name</th>\n",
       "      <th>max_assists</th>\n",
       "    </tr>\n",
       "  </thead>\n",
       "  <tbody>\n",
       "    <tr>\n",
       "      <th>8</th>\n",
       "      <td>BetBoom Team</td>\n",
       "      <td>142</td>\n",
       "    </tr>\n",
       "  </tbody>\n",
       "</table>\n",
       "</div>"
      ],
      "text/plain": [
       "           name  max_assists\n",
       "8  BetBoom Team          142"
      ]
     },
     "execution_count": 463,
     "metadata": {},
     "output_type": "execute_result"
    }
   ],
   "source": [
    "team_most_assists = ti_teams_df[ti_teams_df['max_assists']==ti_teams_df['max_assists'].max()][['name','max_assists']]\n",
    "team_most_assists"
   ]
  },
  {
   "cell_type": "markdown",
   "metadata": {},
   "source": [
    "# Team who wins the longest game:"
   ]
  },
  {
   "cell_type": "code",
   "execution_count": 464,
   "metadata": {},
   "outputs": [
    {
     "data": {
      "text/html": [
       "<div>\n",
       "<style scoped>\n",
       "    .dataframe tbody tr th:only-of-type {\n",
       "        vertical-align: middle;\n",
       "    }\n",
       "\n",
       "    .dataframe tbody tr th {\n",
       "        vertical-align: top;\n",
       "    }\n",
       "\n",
       "    .dataframe thead th {\n",
       "        text-align: right;\n",
       "    }\n",
       "</style>\n",
       "<table border=\"1\" class=\"dataframe\">\n",
       "  <thead>\n",
       "    <tr style=\"text-align: right;\">\n",
       "      <th></th>\n",
       "      <th>team_winner</th>\n",
       "      <th>duration_minutes</th>\n",
       "    </tr>\n",
       "  </thead>\n",
       "  <tbody>\n",
       "    <tr>\n",
       "      <th>102</th>\n",
       "      <td>BetBoom Team</td>\n",
       "      <td>1:14:33</td>\n",
       "    </tr>\n",
       "  </tbody>\n",
       "</table>\n",
       "</div>"
      ],
      "text/plain": [
       "      team_winner duration_minutes\n",
       "102  BetBoom Team          1:14:33"
      ]
     },
     "execution_count": 464,
     "metadata": {},
     "output_type": "execute_result"
    }
   ],
   "source": [
    "ti_matches_df[ti_matches_df['duration']==ti_matches_df['duration'].max()][['team_winner','duration_minutes']]"
   ]
  },
  {
   "cell_type": "markdown",
   "metadata": {},
   "source": [
    "# Team who wins the shortest game:"
   ]
  },
  {
   "cell_type": "code",
   "execution_count": 465,
   "metadata": {},
   "outputs": [
    {
     "data": {
      "text/html": [
       "<div>\n",
       "<style scoped>\n",
       "    .dataframe tbody tr th:only-of-type {\n",
       "        vertical-align: middle;\n",
       "    }\n",
       "\n",
       "    .dataframe tbody tr th {\n",
       "        vertical-align: top;\n",
       "    }\n",
       "\n",
       "    .dataframe thead th {\n",
       "        text-align: right;\n",
       "    }\n",
       "</style>\n",
       "<table border=\"1\" class=\"dataframe\">\n",
       "  <thead>\n",
       "    <tr style=\"text-align: right;\">\n",
       "      <th></th>\n",
       "      <th>team_winner</th>\n",
       "      <th>duration_minutes</th>\n",
       "    </tr>\n",
       "  </thead>\n",
       "  <tbody>\n",
       "    <tr>\n",
       "      <th>120</th>\n",
       "      <td>Evil Geniuses</td>\n",
       "      <td>0:17:51</td>\n",
       "    </tr>\n",
       "  </tbody>\n",
       "</table>\n",
       "</div>"
      ],
      "text/plain": [
       "       team_winner duration_minutes\n",
       "120  Evil Geniuses          0:17:51"
      ]
     },
     "execution_count": 465,
     "metadata": {},
     "output_type": "execute_result"
    }
   ],
   "source": [
    "ti_matches_df[ti_matches_df['duration']==ti_matches_df['duration'].min()][['team_winner','duration_minutes']]\n",
    "\n"
   ]
  },
  {
   "cell_type": "markdown",
   "metadata": {},
   "source": [
    "# Team with the highest length average:"
   ]
  },
  {
   "cell_type": "code",
   "execution_count": 466,
   "metadata": {},
   "outputs": [
    {
     "data": {
      "text/html": [
       "<div>\n",
       "<style scoped>\n",
       "    .dataframe tbody tr th:only-of-type {\n",
       "        vertical-align: middle;\n",
       "    }\n",
       "\n",
       "    .dataframe tbody tr th {\n",
       "        vertical-align: top;\n",
       "    }\n",
       "\n",
       "    .dataframe thead th {\n",
       "        text-align: right;\n",
       "    }\n",
       "</style>\n",
       "<table border=\"1\" class=\"dataframe\">\n",
       "  <thead>\n",
       "    <tr style=\"text-align: right;\">\n",
       "      <th></th>\n",
       "      <th>name</th>\n",
       "      <th>avg_length_minutes</th>\n",
       "    </tr>\n",
       "  </thead>\n",
       "  <tbody>\n",
       "    <tr>\n",
       "      <th>14</th>\n",
       "      <td>Fnatic</td>\n",
       "      <td>0:44:27</td>\n",
       "    </tr>\n",
       "  </tbody>\n",
       "</table>\n",
       "</div>"
      ],
      "text/plain": [
       "      name avg_length_minutes\n",
       "14  Fnatic            0:44:27"
      ]
     },
     "execution_count": 466,
     "metadata": {},
     "output_type": "execute_result"
    }
   ],
   "source": [
    "ti_teams_df[ti_teams_df['avg_length']==ti_teams_df['avg_length'].max()][['name','avg_length_minutes']]"
   ]
  },
  {
   "cell_type": "markdown",
   "metadata": {},
   "source": [
    "# Team with the most different heroes:"
   ]
  },
  {
   "cell_type": "code",
   "execution_count": 467,
   "metadata": {},
   "outputs": [
    {
     "data": {
      "text/html": [
       "<div>\n",
       "<style scoped>\n",
       "    .dataframe tbody tr th:only-of-type {\n",
       "        vertical-align: middle;\n",
       "    }\n",
       "\n",
       "    .dataframe tbody tr th {\n",
       "        vertical-align: top;\n",
       "    }\n",
       "\n",
       "    .dataframe thead th {\n",
       "        text-align: right;\n",
       "    }\n",
       "</style>\n",
       "<table border=\"1\" class=\"dataframe\">\n",
       "  <thead>\n",
       "    <tr style=\"text-align: right;\">\n",
       "      <th></th>\n",
       "      <th>name</th>\n",
       "      <th>unique_heroes</th>\n",
       "    </tr>\n",
       "  </thead>\n",
       "  <tbody>\n",
       "    <tr>\n",
       "      <th>5</th>\n",
       "      <td>PSG.LGD</td>\n",
       "      <td>50</td>\n",
       "    </tr>\n",
       "  </tbody>\n",
       "</table>\n",
       "</div>"
      ],
      "text/plain": [
       "      name  unique_heroes\n",
       "5  PSG.LGD             50"
      ]
     },
     "execution_count": 467,
     "metadata": {},
     "output_type": "execute_result"
    }
   ],
   "source": [
    "ti_teams_df[ti_teams_df['unique_heroes']==ti_teams_df['unique_heroes'].max()][['name','unique_heroes']]"
   ]
  },
  {
   "cell_type": "markdown",
   "metadata": {},
   "source": [
    "# Team with the fewest different heroes:"
   ]
  },
  {
   "cell_type": "code",
   "execution_count": 468,
   "metadata": {},
   "outputs": [
    {
     "data": {
      "text/html": [
       "<div>\n",
       "<style scoped>\n",
       "    .dataframe tbody tr th:only-of-type {\n",
       "        vertical-align: middle;\n",
       "    }\n",
       "\n",
       "    .dataframe tbody tr th {\n",
       "        vertical-align: top;\n",
       "    }\n",
       "\n",
       "    .dataframe thead th {\n",
       "        text-align: right;\n",
       "    }\n",
       "</style>\n",
       "<table border=\"1\" class=\"dataframe\">\n",
       "  <thead>\n",
       "    <tr style=\"text-align: right;\">\n",
       "      <th></th>\n",
       "      <th>name</th>\n",
       "      <th>unique_heroes</th>\n",
       "    </tr>\n",
       "  </thead>\n",
       "  <tbody>\n",
       "    <tr>\n",
       "      <th>11</th>\n",
       "      <td>Entity</td>\n",
       "      <td>30</td>\n",
       "    </tr>\n",
       "  </tbody>\n",
       "</table>\n",
       "</div>"
      ],
      "text/plain": [
       "      name  unique_heroes\n",
       "11  Entity             30"
      ]
     },
     "execution_count": 468,
     "metadata": {},
     "output_type": "execute_result"
    }
   ],
   "source": [
    "ti_teams_df[ti_teams_df['unique_heroes']==ti_teams_df['unique_heroes'].min()][['name','unique_heroes']]"
   ]
  },
  {
   "cell_type": "code",
   "execution_count": 469,
   "metadata": {},
   "outputs": [],
   "source": [
    "df = pd.DataFrame(hero_list)\n",
    "df.to_json('hero_list.json',orient='records')"
   ]
  }
 ],
 "metadata": {
  "kernelspec": {
   "display_name": "Python 3.10.4 64-bit",
   "language": "python",
   "name": "python3"
  },
  "language_info": {
   "codemirror_mode": {
    "name": "ipython",
    "version": 3
   },
   "file_extension": ".py",
   "mimetype": "text/x-python",
   "name": "python",
   "nbconvert_exporter": "python",
   "pygments_lexer": "ipython3",
   "version": "3.10.4"
  },
  "orig_nbformat": 4,
  "vscode": {
   "interpreter": {
    "hash": "b0875789e50131ece785c561051e3ec42d59c6f4099ecf266e41000a826b5908"
   }
  }
 },
 "nbformat": 4,
 "nbformat_minor": 2
}
